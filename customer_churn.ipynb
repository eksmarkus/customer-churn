{
 "cells": [
  {
   "cell_type": "markdown",
   "id": "cf5fc626",
   "metadata": {},
   "source": [
    "<br/>\n",
    "<br/>\n",
    "<p style=\"text-align: center;\"><font size=\"12\">Project Title: Customer Churn Prediction</font> </p>\n",
    "<br/>\n",
    "<br/>"
   ]
  },
  {
   "cell_type": "markdown",
   "id": "1ed8ed4c",
   "metadata": {
    "toc": true
   },
   "source": [
    "<h1>Contents<span class=\"tocSkip\"></span></h1>\n",
    "<div class=\"toc\"><ul class=\"toc-item\"><li><span><a href=\"#Project-Scope\" data-toc-modified-id=\"Project-Scope-1\"><span class=\"toc-item-num\">1&nbsp;&nbsp;</span>Project Scope</a></span><ul class=\"toc-item\"><li><span><a href=\"#Aims-and-Objectives\" data-toc-modified-id=\"Aims-and-Objectives-1.1\"><span class=\"toc-item-num\">1.1&nbsp;&nbsp;</span>Aims and Objectives</a></span></li><li><span><a href=\"#General-Information-about-the-Project-Owner-Product\" data-toc-modified-id=\"General-Information-about-the-Project-Owner-Product-1.2\"><span class=\"toc-item-num\">1.2&nbsp;&nbsp;</span>General Information about the Project Owner Product</a></span></li><li><span><a href=\"#Data-Description-provided-by-the-Project-Owner\" data-toc-modified-id=\"Data-Description-provided-by-the-Project-Owner-1.3\"><span class=\"toc-item-num\">1.3&nbsp;&nbsp;</span>Data Description provided by the Project Owner</a></span></li><li><span><a href=\"#DNA-Restrictions\" data-toc-modified-id=\"DNA-Restrictions-1.4\"><span class=\"toc-item-num\">1.4&nbsp;&nbsp;</span>DNA Restrictions</a></span></li></ul></li><li><span><a href=\"#Understanding-the-Data\" data-toc-modified-id=\"Understanding-the-Data-2\"><span class=\"toc-item-num\">2&nbsp;&nbsp;</span>Understanding the Data</a></span><ul class=\"toc-item\"><li><span><a href=\"#Libraries-in-use\" data-toc-modified-id=\"Libraries-in-use-2.1\"><span class=\"toc-item-num\">2.1&nbsp;&nbsp;</span>Libraries in use</a></span></li><li><span><a href=\"#Data-loading\" data-toc-modified-id=\"Data-loading-2.2\"><span class=\"toc-item-num\">2.2&nbsp;&nbsp;</span>Data loading</a></span></li><li><span><a href=\"#General-info-about-each-Data-Frame\" data-toc-modified-id=\"General-info-about-each-Data-Frame-2.3\"><span class=\"toc-item-num\">2.3&nbsp;&nbsp;</span>General info about each Data Frame</a></span><ul class=\"toc-item\"><li><span><a href=\"#df_contract\" data-toc-modified-id=\"df_contract-2.3.1\"><span class=\"toc-item-num\">2.3.1&nbsp;&nbsp;</span>df_contract</a></span></li><li><span><a href=\"#df_personal\" data-toc-modified-id=\"df_personal-2.3.2\"><span class=\"toc-item-num\">2.3.2&nbsp;&nbsp;</span>df_personal</a></span></li><li><span><a href=\"#df_internet\" data-toc-modified-id=\"df_internet-2.3.3\"><span class=\"toc-item-num\">2.3.3&nbsp;&nbsp;</span>df_internet</a></span></li><li><span><a href=\"#df_phone\" data-toc-modified-id=\"df_phone-2.3.4\"><span class=\"toc-item-num\">2.3.4&nbsp;&nbsp;</span>df_phone</a></span></li></ul></li><li><span><a href=\"#Dataframes-allocation\" data-toc-modified-id=\"Dataframes-allocation-2.4\"><span class=\"toc-item-num\">2.4&nbsp;&nbsp;</span>Dataframes allocation</a></span></li></ul></li><li><span><a href=\"#Data-Preprocessing-and-Exploratory-Analysis\" data-toc-modified-id=\"Data-Preprocessing-and-Exploratory-Analysis-3\"><span class=\"toc-item-num\">3&nbsp;&nbsp;</span>Data Preprocessing and Exploratory Analysis</a></span><ul class=\"toc-item\"><li><span><a href=\"#Automization-functions\" data-toc-modified-id=\"Automization-functions-3.1\"><span class=\"toc-item-num\">3.1&nbsp;&nbsp;</span>Automization functions</a></span></li><li><span><a href=\"#customer_id\" data-toc-modified-id=\"customer_id-3.2\"><span class=\"toc-item-num\">3.2&nbsp;&nbsp;</span><code>customer_id</code></a></span></li><li><span><a href=\"#begin_date,-end_date\" data-toc-modified-id=\"begin_date,-end_date-3.3\"><span class=\"toc-item-num\">3.3&nbsp;&nbsp;</span><code>begin_date</code>, <code>end_date</code></a></span></li><li><span><a href=\"#duration\" data-toc-modified-id=\"duration-3.4\"><span class=\"toc-item-num\">3.4&nbsp;&nbsp;</span><code>duration</code></a></span></li><li><span><a href=\"#type\" data-toc-modified-id=\"type-3.5\"><span class=\"toc-item-num\">3.5&nbsp;&nbsp;</span><code>type</code></a></span></li><li><span><a href=\"#paperless_billing\" data-toc-modified-id=\"paperless_billing-3.6\"><span class=\"toc-item-num\">3.6&nbsp;&nbsp;</span><code>paperless_billing</code></a></span></li><li><span><a href=\"#monthly_charges\" data-toc-modified-id=\"monthly_charges-3.7\"><span class=\"toc-item-num\">3.7&nbsp;&nbsp;</span><code>monthly_charges</code></a></span></li><li><span><a href=\"#total_charges\" data-toc-modified-id=\"total_charges-3.8\"><span class=\"toc-item-num\">3.8&nbsp;&nbsp;</span><code>total_charges</code></a></span></li><li><span><a href=\"#gender\" data-toc-modified-id=\"gender-3.9\"><span class=\"toc-item-num\">3.9&nbsp;&nbsp;</span><code>gender</code></a></span></li><li><span><a href=\"#senior_citizen\" data-toc-modified-id=\"senior_citizen-3.10\"><span class=\"toc-item-num\">3.10&nbsp;&nbsp;</span><code>senior_citizen</code></a></span></li><li><span><a href=\"#partner\" data-toc-modified-id=\"partner-3.11\"><span class=\"toc-item-num\">3.11&nbsp;&nbsp;</span><code>partner</code></a></span></li><li><span><a href=\"#multiple_lines\" data-toc-modified-id=\"multiple_lines-3.12\"><span class=\"toc-item-num\">3.12&nbsp;&nbsp;</span><code>multiple_lines</code></a></span></li><li><span><a href=\"#dependents\" data-toc-modified-id=\"dependents-3.13\"><span class=\"toc-item-num\">3.13&nbsp;&nbsp;</span><code>dependents</code></a></span></li><li><span><a href=\"#internet_service\" data-toc-modified-id=\"internet_service-3.14\"><span class=\"toc-item-num\">3.14&nbsp;&nbsp;</span><code>internet_service</code></a></span></li><li><span><a href=\"#online_security\" data-toc-modified-id=\"online_security-3.15\"><span class=\"toc-item-num\">3.15&nbsp;&nbsp;</span><code>online_security</code></a></span></li><li><span><a href=\"#online_backup\" data-toc-modified-id=\"online_backup-3.16\"><span class=\"toc-item-num\">3.16&nbsp;&nbsp;</span><code>online_backup</code></a></span></li><li><span><a href=\"#device_protection\" data-toc-modified-id=\"device_protection-3.17\"><span class=\"toc-item-num\">3.17&nbsp;&nbsp;</span><code>device_protection</code></a></span></li><li><span><a href=\"#tech_support\" data-toc-modified-id=\"tech_support-3.18\"><span class=\"toc-item-num\">3.18&nbsp;&nbsp;</span><code>tech_support</code></a></span></li><li><span><a href=\"#streaming_tv\" data-toc-modified-id=\"streaming_tv-3.19\"><span class=\"toc-item-num\">3.19&nbsp;&nbsp;</span><code>streaming_tv</code></a></span></li><li><span><a href=\"#streaming_movies\" data-toc-modified-id=\"streaming_movies-3.20\"><span class=\"toc-item-num\">3.20&nbsp;&nbsp;</span><code>streaming_movies</code></a></span></li><li><span><a href=\"#is_cancelled\" data-toc-modified-id=\"is_cancelled-3.21\"><span class=\"toc-item-num\">3.21&nbsp;&nbsp;</span><code>is_cancelled</code></a></span></li><li><span><a href=\"#Correlation\" data-toc-modified-id=\"Correlation-3.22\"><span class=\"toc-item-num\">3.22&nbsp;&nbsp;</span>Correlation</a></span><ul class=\"toc-item\"><li><span><a href=\"#Scatter-matrix\" data-toc-modified-id=\"Scatter-matrix-3.22.1\"><span class=\"toc-item-num\">3.22.1&nbsp;&nbsp;</span>Scatter matrix</a></span></li></ul></li></ul></li><li><span><a href=\"#Required-Clarifications\" data-toc-modified-id=\"Required-Clarifications-4\"><span class=\"toc-item-num\">4&nbsp;&nbsp;</span>Required Clarifications</a></span></li><li><span><a href=\"#Data-Preparation\" data-toc-modified-id=\"Data-Preparation-5\"><span class=\"toc-item-num\">5&nbsp;&nbsp;</span>Data Preparation</a></span><ul class=\"toc-item\"><li><span><a href=\"#Features-and-Target-selection\" data-toc-modified-id=\"Features-and-Target-selection-5.1\"><span class=\"toc-item-num\">5.1&nbsp;&nbsp;</span>Features and Target selection</a></span></li><li><span><a href=\"#Feature-Engineering\" data-toc-modified-id=\"Feature-Engineering-5.2\"><span class=\"toc-item-num\">5.2&nbsp;&nbsp;</span>Feature Engineering</a></span></li><li><span><a href=\"#Encoding\" data-toc-modified-id=\"Encoding-5.3\"><span class=\"toc-item-num\">5.3&nbsp;&nbsp;</span>Encoding</a></span><ul class=\"toc-item\"><li><span><a href=\"#List-of-categorical-and-numerical-features\" data-toc-modified-id=\"List-of-categorical-and-numerical-features-5.3.1\"><span class=\"toc-item-num\">5.3.1&nbsp;&nbsp;</span>List of categorical and numerical features</a></span></li><li><span><a href=\"#One-Hoot-Encoding-for-linear-models\" data-toc-modified-id=\"One-Hoot-Encoding-for-linear-models-5.3.2\"><span class=\"toc-item-num\">5.3.2&nbsp;&nbsp;</span>One-Hoot Encoding for linear models</a></span></li><li><span><a href=\"#Ordinal-Encoding-for-trees-models\" data-toc-modified-id=\"Ordinal-Encoding-for-trees-models-5.3.3\"><span class=\"toc-item-num\">5.3.3&nbsp;&nbsp;</span>Ordinal Encoding for trees models</a></span></li></ul></li><li><span><a href=\"#Scaling\" data-toc-modified-id=\"Scaling-5.4\"><span class=\"toc-item-num\">5.4&nbsp;&nbsp;</span>Scaling</a></span></li></ul></li><li><span><a href=\"#Training-and-Models-Evaluation\" data-toc-modified-id=\"Training-and-Models-Evaluation-6\"><span class=\"toc-item-num\">6&nbsp;&nbsp;</span>Training and Models Evaluation</a></span><ul class=\"toc-item\"><li><span><a href=\"#Automatization-Functions\" data-toc-modified-id=\"Automatization-Functions-6.1\"><span class=\"toc-item-num\">6.1&nbsp;&nbsp;</span>Automatization Functions</a></span></li><li><span><a href=\"#Validation\" data-toc-modified-id=\"Validation-6.2\"><span class=\"toc-item-num\">6.2&nbsp;&nbsp;</span>Validation</a></span><ul class=\"toc-item\"><li><span><a href=\"#Logistic-Regression\" data-toc-modified-id=\"Logistic-Regression-6.2.1\"><span class=\"toc-item-num\">6.2.1&nbsp;&nbsp;</span>Logistic Regression</a></span></li><li><span><a href=\"#Random-Forest\" data-toc-modified-id=\"Random-Forest-6.2.2\"><span class=\"toc-item-num\">6.2.2&nbsp;&nbsp;</span>Random Forest</a></span></li><li><span><a href=\"#CatBoost\" data-toc-modified-id=\"CatBoost-6.2.3\"><span class=\"toc-item-num\">6.2.3&nbsp;&nbsp;</span>CatBoost</a></span></li><li><span><a href=\"#Gradient-Boosting-with-LGBM\" data-toc-modified-id=\"Gradient-Boosting-with-LGBM-6.2.4\"><span class=\"toc-item-num\">6.2.4&nbsp;&nbsp;</span>Gradient Boosting with LGBM</a></span></li></ul></li><li><span><a href=\"#Testing\" data-toc-modified-id=\"Testing-6.3\"><span class=\"toc-item-num\">6.3&nbsp;&nbsp;</span>Testing</a></span><ul class=\"toc-item\"><li><span><a href=\"#CatBoost\" data-toc-modified-id=\"CatBoost-6.3.1\"><span class=\"toc-item-num\">6.3.1&nbsp;&nbsp;</span>CatBoost</a></span></li><li><span><a href=\"#LGBM\" data-toc-modified-id=\"LGBM-6.3.2\"><span class=\"toc-item-num\">6.3.2&nbsp;&nbsp;</span>LGBM</a></span></li><li><span><a href=\"#Feature-importance\" data-toc-modified-id=\"Feature-importance-6.3.3\"><span class=\"toc-item-num\">6.3.3&nbsp;&nbsp;</span>Feature importance</a></span></li></ul></li></ul></li><li><span><a href=\"#Conclusion\" data-toc-modified-id=\"Conclusion-7\"><span class=\"toc-item-num\">7&nbsp;&nbsp;</span>Conclusion</a></span><ul class=\"toc-item\"><li><span><a href=\"#Data-Desription\" data-toc-modified-id=\"Data-Desription-7.1\"><span class=\"toc-item-num\">7.1&nbsp;&nbsp;</span>Data Desription</a></span></li><li><span><a href=\"#Data-Preprocessing\" data-toc-modified-id=\"Data-Preprocessing-7.2\"><span class=\"toc-item-num\">7.2&nbsp;&nbsp;</span>Data Preprocessing</a></span></li><li><span><a href=\"#Data-Preparation\" data-toc-modified-id=\"Data-Preparation-7.3\"><span class=\"toc-item-num\">7.3&nbsp;&nbsp;</span>Data Preparation</a></span></li><li><span><a href=\"#Choosing-the-Best-Model\" data-toc-modified-id=\"Choosing-the-Best-Model-7.4\"><span class=\"toc-item-num\">7.4&nbsp;&nbsp;</span>Choosing the Best Model</a></span><ul class=\"toc-item\"><li><span><a href=\"#Validation-results\" data-toc-modified-id=\"Validation-results-7.4.1\"><span class=\"toc-item-num\">7.4.1&nbsp;&nbsp;</span>Validation results</a></span></li><li><span><a href=\"#Testing-results\" data-toc-modified-id=\"Testing-results-7.4.2\"><span class=\"toc-item-num\">7.4.2&nbsp;&nbsp;</span>Testing results</a></span></li><li><span><a href=\"#Analysis-of-difficulties-encountered-during-this-research\" data-toc-modified-id=\"Analysis-of-difficulties-encountered-during-this-research-7.4.3\"><span class=\"toc-item-num\">7.4.3&nbsp;&nbsp;</span>Analysis of difficulties encountered during this research</a></span></li></ul></li><li><span><a href=\"#Final-model-and-Feature-Importance\" data-toc-modified-id=\"Final-model-and-Feature-Importance-7.5\"><span class=\"toc-item-num\">7.5&nbsp;&nbsp;</span>Final model and Feature Importance</a></span></li></ul></li></ul></div>"
   ]
  },
  {
   "cell_type": "markdown",
   "id": "ae403947",
   "metadata": {},
   "source": [
    "# Customer Churn Prediction"
   ]
  },
  {
   "cell_type": "markdown",
   "id": "949efc3d",
   "metadata": {},
   "source": [
    "## Project Scope"
   ]
  },
  {
   "cell_type": "markdown",
   "id": "73d68f17",
   "metadata": {},
   "source": [
    "### Aims and Objectives"
   ]
  },
  {
   "cell_type": "markdown",
   "id": "5c799480",
   "metadata": {},
   "source": [
    "This project **aims** at building a predictive model to forecast customer churn of a Telecom company (here and below referred as Project Owner). At-risk customers might be offered special conditions, discounts and promotional code by the marketing team of the Project Owner.\n",
    "\n",
    "Customers personal information, tariffs and agreements details are provided by the Project Owner.\n",
    "\n",
    "In order to pursue this aim, the following objectives are addressed.\n",
    "\n",
    "**Objectives**\n",
    "1. Understand the data\n",
    "2. Select appropriate modeling techniques\n",
    "3. Evaluate the models using ROC-AUC metrics. The threshold value posed by the Project Owner is 0.82\n",
    "4. Asses the significance of the features"
   ]
  },
  {
   "cell_type": "markdown",
   "id": "1e8e7846",
   "metadata": {},
   "source": [
    "### General Information about the Project Owner Product"
   ]
  },
  {
   "cell_type": "markdown",
   "id": "64785326",
   "metadata": {},
   "source": [
    "The Project Owner company offers two main types of services.\n",
    "\n",
    "1. Fixed telephone connection with a single or multiple landlines.\n",
    "2. Internet connection through DSL (digital subscriber line) or fiber optic.\n",
    "\n",
    "In addition to the main services, several extra options are available\n",
    "- Internet security, i.e. anti-virus software (*DeviceProtection*) and the ability to block suspicious websites  (*OnlineSecurity*)\n",
    "- Dedicated technical support line (*TechSupport*)\n",
    "- Cloud services for data backups (*OnlineBackup*)\n",
    "- Streaming TV and movies catalog (*StreamingMovies*)\n",
    "\n",
    "The subscription fee can be paid on a monthly, yearly, or biennial basis. There are various payment methods available, and customers have the option to choose paperless billing."
   ]
  },
  {
   "cell_type": "markdown",
   "id": "9c9ebc54",
   "metadata": {},
   "source": [
    "### Data Description provided by the Project Owner"
   ]
  },
  {
   "cell_type": "markdown",
   "id": "096fe8a2",
   "metadata": {},
   "source": [
    "The data is coming from different sources in 4 files.\n",
    "\n",
    "- `contract.csv` — agreement information;\n",
    "- `personal.csv` — customers's personal data;\n",
    "- `internet.csv` — internet service data;\n",
    "- `phone.csv` — phone line service data.\n",
    "\n",
    "General overview of each file is provided below. \n",
    "* All files contain `customerID`, unique for each customer\n",
    "\n",
    "\n",
    "* `contract.csv`\n",
    "    * `BeginDate` - sign-up date\n",
    "    * `EndDate` - termination date\n",
    "    * `Type` - subcription type (montly,yearly or biennial)\n",
    "    * `PaperlessBilling` - indicates if the customer opted for paperless billing\n",
    "    * `PaymentMethod` - selected payment method\n",
    "    * `MonthlyCharges` - money charged each month\n",
    "    * `TotalCharges` - total amount of charged\n",
    "    \n",
    "    \n",
    "* `personal.csv`\n",
    "    * `gender` - indicates gender\n",
    "    * `senior_citizen` - indicates senior citizen status\n",
    "    * `partner`- indicates if a customer has a partner\n",
    "    * `Dependents` - indicates if a customer has dependents\n",
    "    \n",
    "    \n",
    "* `internet.csv`\n",
    "    * `internet_service`- internet connection type \n",
    "    * `online_security`- online security status\n",
    "    * `online_backup` - cloud services for data backups status\n",
    "    * `device_protection` - device protection status\n",
    "    * `tech_support` - dedicated technical support line status\n",
    "    * `streaming_TV`- streaming TV status\n",
    "    * `streaming_movies`- streaming movies status\n",
    "    \n",
    "    \n",
    "* `phone.csv`\n",
    "    * `MultipleLines` - multiple landlines status\n",
    "\n",
    "\n",
    "The data up to on February 1, 2020."
   ]
  },
  {
   "cell_type": "markdown",
   "id": "c0d33cf7",
   "metadata": {},
   "source": [
    "### DNA Restrictions"
   ]
  },
  {
   "cell_type": "markdown",
   "id": "088e88c2",
   "metadata": {},
   "source": [
    "This project was executed as a final graduation work at Yandex Practicum Course on Data Science.\n",
    "Due to DNA Restrictions, the date is the property of the Project Owner and the online course organizer. \n",
    "The outcomes of this project are publicly available as long as the viewer do not have access to actual dataframes."
   ]
  },
  {
   "cell_type": "markdown",
   "id": "cf328fe2",
   "metadata": {},
   "source": [
    "## Understanding the Data"
   ]
  },
  {
   "cell_type": "markdown",
   "id": "d6ff74a6",
   "metadata": {},
   "source": [
    "### Libraries in use"
   ]
  },
  {
   "cell_type": "code",
   "execution_count": 1,
   "id": "a3cd9c7a",
   "metadata": {},
   "outputs": [],
   "source": [
    "import pandas as pd\n",
    "import numpy as np\n",
    "import matplotlib.pyplot as plt\n",
    "import scipy\n",
    "from scipy import stats as st\n",
    "import math\n",
    "import seaborn as sns\n",
    "import re\n",
    "\n",
    "from sklearn.model_selection import train_test_split\n",
    "from sklearn.preprocessing import StandardScaler\n",
    "from sklearn.preprocessing import OrdinalEncoder\n",
    "\n",
    "from sklearn.linear_model import LogisticRegression\n",
    "from catboost import CatBoostClassifier\n",
    "from sklearn.ensemble import RandomForestClassifier\n",
    "\n",
    "from sklearn.metrics import roc_auc_score\n",
    "from sklearn.model_selection import cross_val_score\n",
    "from sklearn.model_selection import GridSearchCV\n",
    "from sklearn.model_selection import RandomizedSearchCV\n",
    "\n",
    "from sklearn.metrics import confusion_matrix\n",
    "from sklearn.metrics import recall_score\n",
    "from sklearn.metrics import precision_score\n",
    "\n",
    "import lightgbm as lgb"
   ]
  },
  {
   "cell_type": "markdown",
   "id": "8457d4d0",
   "metadata": {},
   "source": [
    "### Data loading"
   ]
  },
  {
   "cell_type": "code",
   "execution_count": 2,
   "id": "dca7e126",
   "metadata": {},
   "outputs": [],
   "source": [
    "import pandas as pd\n",
    "import numpy as np\n",
    "import matplotlib.pyplot as plt\n",
    "import scipy\n",
    "from scipy import stats as st\n",
    "import math\n",
    "import seaborn as sns\n",
    "#import re\n",
    "\n",
    "from sklearn.model_selection import train_test_split\n",
    "from sklearn.preprocessing import StandardScaler\n",
    "from sklearn.preprocessing import OrdinalEncoder\n",
    "\n",
    "from sklearn.linear_model import LogisticRegression\n",
    "from catboost import CatBoostClassifier\n",
    "from sklearn.ensemble import RandomForestClassifier\n",
    "\n",
    "from sklearn.metrics import roc_auc_score\n",
    "from sklearn.model_selection import cross_val_score\n",
    "from sklearn.model_selection import GridSearchCV\n",
    "\n",
    "from sklearn.metrics import confusion_matrix\n",
    "from sklearn.metrics import recall_score\n",
    "from sklearn.metrics import precision_score\n",
    "\n",
    "import lightgbm as lgb"
   ]
  },
  {
   "cell_type": "code",
   "execution_count": 3,
   "id": "a283b248",
   "metadata": {},
   "outputs": [],
   "source": [
    "def df_open(file_name):\n",
    "    try:\n",
    "        df = pd.read_csv('./datasets/final_provider/' + file_name + '.csv', sep=',')\n",
    "    except:\n",
    "        df = pd.read_csv('/datasets/final_provider/' + file_name + '.csv', sep=',')\n",
    "    return df\n"
   ]
  },
  {
   "cell_type": "code",
   "execution_count": 4,
   "id": "dad748fd",
   "metadata": {},
   "outputs": [],
   "source": [
    "# Dataframe info\n",
    "\n",
    "def df_info(df):\n",
    "    print(f'First 5 raws:' )\n",
    "    display(df.head(5))\n",
    "    print()\n",
    "    print(f'General info:')\n",
    "    print()\n",
    "    print(df.info())\n",
    "    print('------------------------------------------')\n",
    "    print()"
   ]
  },
  {
   "cell_type": "code",
   "execution_count": 5,
   "id": "5174dc1e",
   "metadata": {},
   "outputs": [],
   "source": [
    "# loading files by name\n",
    "\n",
    "def df_open(file_name):\n",
    "    df = pd.read_csv('./datasets/final_provider/' + file_name + '.csv', sep=',')\n",
    "    return df"
   ]
  },
  {
   "cell_type": "code",
   "execution_count": 6,
   "id": "6c197400",
   "metadata": {
    "code_folding": []
   },
   "outputs": [],
   "source": [
    "# load all files\n",
    "\n",
    "df_contract = df_open('contract')\n",
    "df_personal = df_open('personal')\n",
    "df_internet = df_open('internet')\n",
    "df_phone = df_open('phone')"
   ]
  },
  {
   "cell_type": "markdown",
   "id": "0928b658",
   "metadata": {},
   "source": [
    "### General info about each Data Frame"
   ]
  },
  {
   "cell_type": "code",
   "execution_count": 7,
   "id": "b166f434",
   "metadata": {},
   "outputs": [],
   "source": [
    "# Data frame info\n",
    "\n",
    "def df_info(df):\n",
    "    print(f'First 5 rows of a data frame:' )\n",
    "    display(df.head(5))\n",
    "    print()\n",
    "    print(f'General info about the data frame:')\n",
    "    print()\n",
    "    print(df.info())\n",
    "    print('------------------------------------------')\n",
    "    print()"
   ]
  },
  {
   "cell_type": "code",
   "execution_count": 8,
   "id": "c0e7ac0d",
   "metadata": {},
   "outputs": [],
   "source": [
    "# Make columns name consistent with the Python guidelines\n",
    "\n",
    "def new_columns(df):\n",
    "    print('Let us make the columns names consistent with the guidelines')\n",
    "    print()\n",
    "    new_columns = []\n",
    "    for i in range(len(df.columns)):\n",
    "        new_columns.append(re.sub('([A-Z]+)', r'_\\1', df.columns[i]).lower().lstrip('_'))\n",
    "\n",
    "    df.columns = new_columns\n",
    "\n",
    "    print(f'New column names: {df.columns}')"
   ]
  },
  {
   "cell_type": "markdown",
   "id": "d19ab7b5",
   "metadata": {},
   "source": [
    "#### df_contract"
   ]
  },
  {
   "cell_type": "code",
   "execution_count": 9,
   "id": "d3a37949",
   "metadata": {
    "scrolled": false
   },
   "outputs": [
    {
     "name": "stdout",
     "output_type": "stream",
     "text": [
      "First 5 rows of a data frame:\n"
     ]
    },
    {
     "data": {
      "text/html": [
       "<div>\n",
       "<style scoped>\n",
       "    .dataframe tbody tr th:only-of-type {\n",
       "        vertical-align: middle;\n",
       "    }\n",
       "\n",
       "    .dataframe tbody tr th {\n",
       "        vertical-align: top;\n",
       "    }\n",
       "\n",
       "    .dataframe thead th {\n",
       "        text-align: right;\n",
       "    }\n",
       "</style>\n",
       "<table border=\"1\" class=\"dataframe\">\n",
       "  <thead>\n",
       "    <tr style=\"text-align: right;\">\n",
       "      <th></th>\n",
       "      <th>customerID</th>\n",
       "      <th>BeginDate</th>\n",
       "      <th>EndDate</th>\n",
       "      <th>Type</th>\n",
       "      <th>PaperlessBilling</th>\n",
       "      <th>PaymentMethod</th>\n",
       "      <th>MonthlyCharges</th>\n",
       "      <th>TotalCharges</th>\n",
       "    </tr>\n",
       "  </thead>\n",
       "  <tbody>\n",
       "    <tr>\n",
       "      <th>0</th>\n",
       "      <td>7590-VHVEG</td>\n",
       "      <td>2020-01-01</td>\n",
       "      <td>No</td>\n",
       "      <td>Month-to-month</td>\n",
       "      <td>Yes</td>\n",
       "      <td>Electronic check</td>\n",
       "      <td>29.85</td>\n",
       "      <td>29.85</td>\n",
       "    </tr>\n",
       "    <tr>\n",
       "      <th>1</th>\n",
       "      <td>5575-GNVDE</td>\n",
       "      <td>2017-04-01</td>\n",
       "      <td>No</td>\n",
       "      <td>One year</td>\n",
       "      <td>No</td>\n",
       "      <td>Mailed check</td>\n",
       "      <td>56.95</td>\n",
       "      <td>1889.5</td>\n",
       "    </tr>\n",
       "    <tr>\n",
       "      <th>2</th>\n",
       "      <td>3668-QPYBK</td>\n",
       "      <td>2019-10-01</td>\n",
       "      <td>2019-12-01 00:00:00</td>\n",
       "      <td>Month-to-month</td>\n",
       "      <td>Yes</td>\n",
       "      <td>Mailed check</td>\n",
       "      <td>53.85</td>\n",
       "      <td>108.15</td>\n",
       "    </tr>\n",
       "    <tr>\n",
       "      <th>3</th>\n",
       "      <td>7795-CFOCW</td>\n",
       "      <td>2016-05-01</td>\n",
       "      <td>No</td>\n",
       "      <td>One year</td>\n",
       "      <td>No</td>\n",
       "      <td>Bank transfer (automatic)</td>\n",
       "      <td>42.30</td>\n",
       "      <td>1840.75</td>\n",
       "    </tr>\n",
       "    <tr>\n",
       "      <th>4</th>\n",
       "      <td>9237-HQITU</td>\n",
       "      <td>2019-09-01</td>\n",
       "      <td>2019-11-01 00:00:00</td>\n",
       "      <td>Month-to-month</td>\n",
       "      <td>Yes</td>\n",
       "      <td>Electronic check</td>\n",
       "      <td>70.70</td>\n",
       "      <td>151.65</td>\n",
       "    </tr>\n",
       "  </tbody>\n",
       "</table>\n",
       "</div>"
      ],
      "text/plain": [
       "   customerID   BeginDate              EndDate            Type  \\\n",
       "0  7590-VHVEG  2020-01-01                   No  Month-to-month   \n",
       "1  5575-GNVDE  2017-04-01                   No        One year   \n",
       "2  3668-QPYBK  2019-10-01  2019-12-01 00:00:00  Month-to-month   \n",
       "3  7795-CFOCW  2016-05-01                   No        One year   \n",
       "4  9237-HQITU  2019-09-01  2019-11-01 00:00:00  Month-to-month   \n",
       "\n",
       "  PaperlessBilling              PaymentMethod  MonthlyCharges TotalCharges  \n",
       "0              Yes           Electronic check           29.85        29.85  \n",
       "1               No               Mailed check           56.95       1889.5  \n",
       "2              Yes               Mailed check           53.85       108.15  \n",
       "3               No  Bank transfer (automatic)           42.30      1840.75  \n",
       "4              Yes           Electronic check           70.70       151.65  "
      ]
     },
     "metadata": {},
     "output_type": "display_data"
    },
    {
     "name": "stdout",
     "output_type": "stream",
     "text": [
      "\n",
      "General info about the data frame:\n",
      "\n",
      "<class 'pandas.core.frame.DataFrame'>\n",
      "RangeIndex: 7043 entries, 0 to 7042\n",
      "Data columns (total 8 columns):\n",
      " #   Column            Non-Null Count  Dtype  \n",
      "---  ------            --------------  -----  \n",
      " 0   customerID        7043 non-null   object \n",
      " 1   BeginDate         7043 non-null   object \n",
      " 2   EndDate           7043 non-null   object \n",
      " 3   Type              7043 non-null   object \n",
      " 4   PaperlessBilling  7043 non-null   object \n",
      " 5   PaymentMethod     7043 non-null   object \n",
      " 6   MonthlyCharges    7043 non-null   float64\n",
      " 7   TotalCharges      7043 non-null   object \n",
      "dtypes: float64(1), object(7)\n",
      "memory usage: 440.3+ KB\n",
      "None\n",
      "------------------------------------------\n",
      "\n"
     ]
    }
   ],
   "source": [
    "df_info(df_contract)"
   ]
  },
  {
   "cell_type": "markdown",
   "id": "9ac80430",
   "metadata": {},
   "source": [
    "**Notes**:\n",
    "* The dataframe consists of 8 columns and 7043 rows\n",
    "* There no null values\n",
    "* Data type: object and float64\n",
    "* BeginDate and EndDate types should be changed to datetime\n",
    "* Type and PaperlessBilling types should be changed to boolean"
   ]
  },
  {
   "cell_type": "code",
   "execution_count": 10,
   "id": "bfd5e236",
   "metadata": {},
   "outputs": [
    {
     "name": "stdout",
     "output_type": "stream",
     "text": [
      "Let us make the columns names consistent with the guidelines\n",
      "\n",
      "New column names: Index(['customer_id', 'begin_date', 'end_date', 'type', 'paperless_billing',\n",
      "       'payment_method', 'monthly_charges', 'total_charges'],\n",
      "      dtype='object')\n"
     ]
    }
   ],
   "source": [
    "new_columns(df_contract)"
   ]
  },
  {
   "cell_type": "markdown",
   "id": "097534f3",
   "metadata": {},
   "source": [
    "#### df_personal"
   ]
  },
  {
   "cell_type": "code",
   "execution_count": 11,
   "id": "f14b4ec8",
   "metadata": {
    "scrolled": false
   },
   "outputs": [
    {
     "name": "stdout",
     "output_type": "stream",
     "text": [
      "First 5 rows of a data frame:\n"
     ]
    },
    {
     "data": {
      "text/html": [
       "<div>\n",
       "<style scoped>\n",
       "    .dataframe tbody tr th:only-of-type {\n",
       "        vertical-align: middle;\n",
       "    }\n",
       "\n",
       "    .dataframe tbody tr th {\n",
       "        vertical-align: top;\n",
       "    }\n",
       "\n",
       "    .dataframe thead th {\n",
       "        text-align: right;\n",
       "    }\n",
       "</style>\n",
       "<table border=\"1\" class=\"dataframe\">\n",
       "  <thead>\n",
       "    <tr style=\"text-align: right;\">\n",
       "      <th></th>\n",
       "      <th>customerID</th>\n",
       "      <th>gender</th>\n",
       "      <th>SeniorCitizen</th>\n",
       "      <th>Partner</th>\n",
       "      <th>Dependents</th>\n",
       "    </tr>\n",
       "  </thead>\n",
       "  <tbody>\n",
       "    <tr>\n",
       "      <th>0</th>\n",
       "      <td>7590-VHVEG</td>\n",
       "      <td>Female</td>\n",
       "      <td>0</td>\n",
       "      <td>Yes</td>\n",
       "      <td>No</td>\n",
       "    </tr>\n",
       "    <tr>\n",
       "      <th>1</th>\n",
       "      <td>5575-GNVDE</td>\n",
       "      <td>Male</td>\n",
       "      <td>0</td>\n",
       "      <td>No</td>\n",
       "      <td>No</td>\n",
       "    </tr>\n",
       "    <tr>\n",
       "      <th>2</th>\n",
       "      <td>3668-QPYBK</td>\n",
       "      <td>Male</td>\n",
       "      <td>0</td>\n",
       "      <td>No</td>\n",
       "      <td>No</td>\n",
       "    </tr>\n",
       "    <tr>\n",
       "      <th>3</th>\n",
       "      <td>7795-CFOCW</td>\n",
       "      <td>Male</td>\n",
       "      <td>0</td>\n",
       "      <td>No</td>\n",
       "      <td>No</td>\n",
       "    </tr>\n",
       "    <tr>\n",
       "      <th>4</th>\n",
       "      <td>9237-HQITU</td>\n",
       "      <td>Female</td>\n",
       "      <td>0</td>\n",
       "      <td>No</td>\n",
       "      <td>No</td>\n",
       "    </tr>\n",
       "  </tbody>\n",
       "</table>\n",
       "</div>"
      ],
      "text/plain": [
       "   customerID  gender  SeniorCitizen Partner Dependents\n",
       "0  7590-VHVEG  Female              0     Yes         No\n",
       "1  5575-GNVDE    Male              0      No         No\n",
       "2  3668-QPYBK    Male              0      No         No\n",
       "3  7795-CFOCW    Male              0      No         No\n",
       "4  9237-HQITU  Female              0      No         No"
      ]
     },
     "metadata": {},
     "output_type": "display_data"
    },
    {
     "name": "stdout",
     "output_type": "stream",
     "text": [
      "\n",
      "General info about the data frame:\n",
      "\n",
      "<class 'pandas.core.frame.DataFrame'>\n",
      "RangeIndex: 7043 entries, 0 to 7042\n",
      "Data columns (total 5 columns):\n",
      " #   Column         Non-Null Count  Dtype \n",
      "---  ------         --------------  ----- \n",
      " 0   customerID     7043 non-null   object\n",
      " 1   gender         7043 non-null   object\n",
      " 2   SeniorCitizen  7043 non-null   int64 \n",
      " 3   Partner        7043 non-null   object\n",
      " 4   Dependents     7043 non-null   object\n",
      "dtypes: int64(1), object(4)\n",
      "memory usage: 275.2+ KB\n",
      "None\n",
      "------------------------------------------\n",
      "\n"
     ]
    }
   ],
   "source": [
    "df_info(df_personal)"
   ]
  },
  {
   "cell_type": "markdown",
   "id": "cced46c2",
   "metadata": {},
   "source": [
    "**Notes**:\n",
    "* The dataframe consists of 5 columns and 7043 raws\n",
    "* The number of raws is the same as in df_contact\n",
    "* There no null values\n",
    "* Data type: object and int64\n",
    "* SeniorCitizen, Partner, Dependents types should be changed to boolean"
   ]
  },
  {
   "cell_type": "code",
   "execution_count": 12,
   "id": "af96bda5",
   "metadata": {},
   "outputs": [
    {
     "name": "stdout",
     "output_type": "stream",
     "text": [
      "Let us make the columns names consistent with the guidelines\n",
      "\n",
      "New column names: Index(['customer_id', 'gender', 'senior_citizen', 'partner', 'dependents'], dtype='object')\n"
     ]
    }
   ],
   "source": [
    "new_columns(df_personal)\n",
    "# df_personal.columns = ['customer_id', 'gender', 'senior_citizen', 'partner', 'dependents']"
   ]
  },
  {
   "cell_type": "markdown",
   "id": "01aa0072",
   "metadata": {},
   "source": [
    "#### df_internet"
   ]
  },
  {
   "cell_type": "code",
   "execution_count": 13,
   "id": "2011c4c9",
   "metadata": {
    "scrolled": false
   },
   "outputs": [
    {
     "name": "stdout",
     "output_type": "stream",
     "text": [
      "First 5 rows of a data frame:\n"
     ]
    },
    {
     "data": {
      "text/html": [
       "<div>\n",
       "<style scoped>\n",
       "    .dataframe tbody tr th:only-of-type {\n",
       "        vertical-align: middle;\n",
       "    }\n",
       "\n",
       "    .dataframe tbody tr th {\n",
       "        vertical-align: top;\n",
       "    }\n",
       "\n",
       "    .dataframe thead th {\n",
       "        text-align: right;\n",
       "    }\n",
       "</style>\n",
       "<table border=\"1\" class=\"dataframe\">\n",
       "  <thead>\n",
       "    <tr style=\"text-align: right;\">\n",
       "      <th></th>\n",
       "      <th>customerID</th>\n",
       "      <th>InternetService</th>\n",
       "      <th>OnlineSecurity</th>\n",
       "      <th>OnlineBackup</th>\n",
       "      <th>DeviceProtection</th>\n",
       "      <th>TechSupport</th>\n",
       "      <th>StreamingTV</th>\n",
       "      <th>StreamingMovies</th>\n",
       "    </tr>\n",
       "  </thead>\n",
       "  <tbody>\n",
       "    <tr>\n",
       "      <th>0</th>\n",
       "      <td>7590-VHVEG</td>\n",
       "      <td>DSL</td>\n",
       "      <td>No</td>\n",
       "      <td>Yes</td>\n",
       "      <td>No</td>\n",
       "      <td>No</td>\n",
       "      <td>No</td>\n",
       "      <td>No</td>\n",
       "    </tr>\n",
       "    <tr>\n",
       "      <th>1</th>\n",
       "      <td>5575-GNVDE</td>\n",
       "      <td>DSL</td>\n",
       "      <td>Yes</td>\n",
       "      <td>No</td>\n",
       "      <td>Yes</td>\n",
       "      <td>No</td>\n",
       "      <td>No</td>\n",
       "      <td>No</td>\n",
       "    </tr>\n",
       "    <tr>\n",
       "      <th>2</th>\n",
       "      <td>3668-QPYBK</td>\n",
       "      <td>DSL</td>\n",
       "      <td>Yes</td>\n",
       "      <td>Yes</td>\n",
       "      <td>No</td>\n",
       "      <td>No</td>\n",
       "      <td>No</td>\n",
       "      <td>No</td>\n",
       "    </tr>\n",
       "    <tr>\n",
       "      <th>3</th>\n",
       "      <td>7795-CFOCW</td>\n",
       "      <td>DSL</td>\n",
       "      <td>Yes</td>\n",
       "      <td>No</td>\n",
       "      <td>Yes</td>\n",
       "      <td>Yes</td>\n",
       "      <td>No</td>\n",
       "      <td>No</td>\n",
       "    </tr>\n",
       "    <tr>\n",
       "      <th>4</th>\n",
       "      <td>9237-HQITU</td>\n",
       "      <td>Fiber optic</td>\n",
       "      <td>No</td>\n",
       "      <td>No</td>\n",
       "      <td>No</td>\n",
       "      <td>No</td>\n",
       "      <td>No</td>\n",
       "      <td>No</td>\n",
       "    </tr>\n",
       "  </tbody>\n",
       "</table>\n",
       "</div>"
      ],
      "text/plain": [
       "   customerID InternetService OnlineSecurity OnlineBackup DeviceProtection  \\\n",
       "0  7590-VHVEG             DSL             No          Yes               No   \n",
       "1  5575-GNVDE             DSL            Yes           No              Yes   \n",
       "2  3668-QPYBK             DSL            Yes          Yes               No   \n",
       "3  7795-CFOCW             DSL            Yes           No              Yes   \n",
       "4  9237-HQITU     Fiber optic             No           No               No   \n",
       "\n",
       "  TechSupport StreamingTV StreamingMovies  \n",
       "0          No          No              No  \n",
       "1          No          No              No  \n",
       "2          No          No              No  \n",
       "3         Yes          No              No  \n",
       "4          No          No              No  "
      ]
     },
     "metadata": {},
     "output_type": "display_data"
    },
    {
     "name": "stdout",
     "output_type": "stream",
     "text": [
      "\n",
      "General info about the data frame:\n",
      "\n",
      "<class 'pandas.core.frame.DataFrame'>\n",
      "RangeIndex: 5517 entries, 0 to 5516\n",
      "Data columns (total 8 columns):\n",
      " #   Column            Non-Null Count  Dtype \n",
      "---  ------            --------------  ----- \n",
      " 0   customerID        5517 non-null   object\n",
      " 1   InternetService   5517 non-null   object\n",
      " 2   OnlineSecurity    5517 non-null   object\n",
      " 3   OnlineBackup      5517 non-null   object\n",
      " 4   DeviceProtection  5517 non-null   object\n",
      " 5   TechSupport       5517 non-null   object\n",
      " 6   StreamingTV       5517 non-null   object\n",
      " 7   StreamingMovies   5517 non-null   object\n",
      "dtypes: object(8)\n",
      "memory usage: 344.9+ KB\n",
      "None\n",
      "------------------------------------------\n",
      "\n"
     ]
    }
   ],
   "source": [
    "df_info(df_internet)"
   ]
  },
  {
   "cell_type": "markdown",
   "id": "2797eeff",
   "metadata": {},
   "source": [
    "**Notes**:\n",
    "* The dataframe consists of 8 columns and 5517 raws\n",
    "* The number of raws is the bigger than the one in df_contact and df_personal (7043)\n",
    "* There no null values\n",
    "* Data type: object\n",
    "* OnlineSecurity, OnlineBackup, DeviceProtection, TechSupport, StreamingTV, StreamingMovies should be changed to boolean"
   ]
  },
  {
   "cell_type": "code",
   "execution_count": 14,
   "id": "9bc8a804",
   "metadata": {
    "scrolled": true
   },
   "outputs": [
    {
     "name": "stdout",
     "output_type": "stream",
     "text": [
      "Let us make the columns names consistent with the guidelines\n",
      "\n",
      "New column names: Index(['customer_id', 'internet_service', 'online_security', 'online_backup',\n",
      "       'device_protection', 'tech_support', 'streaming_tv',\n",
      "       'streaming_movies'],\n",
      "      dtype='object')\n"
     ]
    }
   ],
   "source": [
    "new_columns(df_internet)"
   ]
  },
  {
   "cell_type": "markdown",
   "id": "9abcc5fa",
   "metadata": {},
   "source": [
    "#### df_phone"
   ]
  },
  {
   "cell_type": "code",
   "execution_count": 15,
   "id": "08a6986c",
   "metadata": {
    "scrolled": false
   },
   "outputs": [
    {
     "name": "stdout",
     "output_type": "stream",
     "text": [
      "First 5 rows of a data frame:\n"
     ]
    },
    {
     "data": {
      "text/html": [
       "<div>\n",
       "<style scoped>\n",
       "    .dataframe tbody tr th:only-of-type {\n",
       "        vertical-align: middle;\n",
       "    }\n",
       "\n",
       "    .dataframe tbody tr th {\n",
       "        vertical-align: top;\n",
       "    }\n",
       "\n",
       "    .dataframe thead th {\n",
       "        text-align: right;\n",
       "    }\n",
       "</style>\n",
       "<table border=\"1\" class=\"dataframe\">\n",
       "  <thead>\n",
       "    <tr style=\"text-align: right;\">\n",
       "      <th></th>\n",
       "      <th>customerID</th>\n",
       "      <th>MultipleLines</th>\n",
       "    </tr>\n",
       "  </thead>\n",
       "  <tbody>\n",
       "    <tr>\n",
       "      <th>0</th>\n",
       "      <td>5575-GNVDE</td>\n",
       "      <td>No</td>\n",
       "    </tr>\n",
       "    <tr>\n",
       "      <th>1</th>\n",
       "      <td>3668-QPYBK</td>\n",
       "      <td>No</td>\n",
       "    </tr>\n",
       "    <tr>\n",
       "      <th>2</th>\n",
       "      <td>9237-HQITU</td>\n",
       "      <td>No</td>\n",
       "    </tr>\n",
       "    <tr>\n",
       "      <th>3</th>\n",
       "      <td>9305-CDSKC</td>\n",
       "      <td>Yes</td>\n",
       "    </tr>\n",
       "    <tr>\n",
       "      <th>4</th>\n",
       "      <td>1452-KIOVK</td>\n",
       "      <td>Yes</td>\n",
       "    </tr>\n",
       "  </tbody>\n",
       "</table>\n",
       "</div>"
      ],
      "text/plain": [
       "   customerID MultipleLines\n",
       "0  5575-GNVDE            No\n",
       "1  3668-QPYBK            No\n",
       "2  9237-HQITU            No\n",
       "3  9305-CDSKC           Yes\n",
       "4  1452-KIOVK           Yes"
      ]
     },
     "metadata": {},
     "output_type": "display_data"
    },
    {
     "name": "stdout",
     "output_type": "stream",
     "text": [
      "\n",
      "General info about the data frame:\n",
      "\n",
      "<class 'pandas.core.frame.DataFrame'>\n",
      "RangeIndex: 6361 entries, 0 to 6360\n",
      "Data columns (total 2 columns):\n",
      " #   Column         Non-Null Count  Dtype \n",
      "---  ------         --------------  ----- \n",
      " 0   customerID     6361 non-null   object\n",
      " 1   MultipleLines  6361 non-null   object\n",
      "dtypes: object(2)\n",
      "memory usage: 99.5+ KB\n",
      "None\n",
      "------------------------------------------\n",
      "\n"
     ]
    }
   ],
   "source": [
    "df_info(df_phone)"
   ]
  },
  {
   "cell_type": "markdown",
   "id": "b56ca4fb",
   "metadata": {},
   "source": [
    "**Notes**:\n",
    "* The dataframe consists of 1 column and 6361 raws\n",
    "* The number of raws is the smaller than the one in df_contact and df_personal (7043) and bigger than in df_internet (5517)\n",
    "* There no null values\n",
    "* Data type: object\n",
    "* MultipleLines type should be changed to boolean"
   ]
  },
  {
   "cell_type": "code",
   "execution_count": 16,
   "id": "bc65a8db",
   "metadata": {},
   "outputs": [
    {
     "name": "stdout",
     "output_type": "stream",
     "text": [
      "Let us make the columns names consistent with the guidelines\n",
      "\n",
      "New column names: Index(['customer_id', 'multiple_lines'], dtype='object')\n"
     ]
    }
   ],
   "source": [
    "new_columns(df_phone)"
   ]
  },
  {
   "cell_type": "markdown",
   "id": "130c211d",
   "metadata": {},
   "source": [
    "### Dataframes allocation"
   ]
  },
  {
   "cell_type": "markdown",
   "id": "8523b640",
   "metadata": {},
   "source": [
    "Features found in each dataframe do not contradict each other and allow to look at a bigger picture. Let us join the dataframes by `customer_id`column"
   ]
  },
  {
   "cell_type": "code",
   "execution_count": 17,
   "id": "1a7c58a8",
   "metadata": {},
   "outputs": [],
   "source": [
    "df = df_contract.set_index('customer_id').join(\n",
    "    [df_personal.set_index('customer_id'), \n",
    "     df_internet.set_index('customer_id'), \n",
    "     df_phone.set_index('customer_id')])"
   ]
  },
  {
   "cell_type": "markdown",
   "id": "296701b0",
   "metadata": {},
   "source": [
    "Let us check that everything went smoothly"
   ]
  },
  {
   "cell_type": "code",
   "execution_count": 18,
   "id": "03b01f58",
   "metadata": {},
   "outputs": [
    {
     "name": "stdout",
     "output_type": "stream",
     "text": [
      "<class 'pandas.core.frame.DataFrame'>\n",
      "Index: 7043 entries, 7590-VHVEG to 3186-AJIEK\n",
      "Data columns (total 19 columns):\n",
      " #   Column             Non-Null Count  Dtype  \n",
      "---  ------             --------------  -----  \n",
      " 0   begin_date         7043 non-null   object \n",
      " 1   end_date           7043 non-null   object \n",
      " 2   type               7043 non-null   object \n",
      " 3   paperless_billing  7043 non-null   object \n",
      " 4   payment_method     7043 non-null   object \n",
      " 5   monthly_charges    7043 non-null   float64\n",
      " 6   total_charges      7043 non-null   object \n",
      " 7   gender             7043 non-null   object \n",
      " 8   senior_citizen     7043 non-null   int64  \n",
      " 9   partner            7043 non-null   object \n",
      " 10  dependents         7043 non-null   object \n",
      " 11  internet_service   5517 non-null   object \n",
      " 12  online_security    5517 non-null   object \n",
      " 13  online_backup      5517 non-null   object \n",
      " 14  device_protection  5517 non-null   object \n",
      " 15  tech_support       5517 non-null   object \n",
      " 16  streaming_tv       5517 non-null   object \n",
      " 17  streaming_movies   5517 non-null   object \n",
      " 18  multiple_lines     6361 non-null   object \n",
      "dtypes: float64(1), int64(1), object(17)\n",
      "memory usage: 1.1+ MB\n"
     ]
    }
   ],
   "source": [
    "df.info()"
   ]
  },
  {
   "cell_type": "code",
   "execution_count": 19,
   "id": "f60b958a",
   "metadata": {},
   "outputs": [
    {
     "data": {
      "text/plain": [
       "begin_date              0\n",
       "end_date                0\n",
       "type                    0\n",
       "paperless_billing       0\n",
       "payment_method          0\n",
       "monthly_charges         0\n",
       "total_charges           0\n",
       "gender                  0\n",
       "senior_citizen          0\n",
       "partner                 0\n",
       "dependents              0\n",
       "internet_service     1526\n",
       "online_security      1526\n",
       "online_backup        1526\n",
       "device_protection    1526\n",
       "tech_support         1526\n",
       "streaming_tv         1526\n",
       "streaming_movies     1526\n",
       "multiple_lines        682\n",
       "dtype: int64"
      ]
     },
     "execution_count": 19,
     "metadata": {},
     "output_type": "execute_result"
    }
   ],
   "source": [
    "df.isna().sum()"
   ]
  },
  {
   "cell_type": "markdown",
   "id": "06dafe50",
   "metadata": {},
   "source": [
    "As expected, the null data appeared in the final dataframe. They should be adressed while preprocessing the data"
   ]
  },
  {
   "cell_type": "code",
   "execution_count": 20,
   "id": "80b4e02d",
   "metadata": {},
   "outputs": [],
   "source": [
    "df = df.reset_index()"
   ]
  },
  {
   "cell_type": "markdown",
   "id": "af8ae1b9",
   "metadata": {},
   "source": [
    "## Data Preprocessing and Exploratory Analysis"
   ]
  },
  {
   "cell_type": "markdown",
   "id": "b6207e86",
   "metadata": {},
   "source": [
    "### Automization functions"
   ]
  },
  {
   "cell_type": "code",
   "execution_count": 21,
   "id": "79a7d668",
   "metadata": {},
   "outputs": [],
   "source": [
    "# Missed values\n",
    "\n",
    "def nan_info(column_name):\n",
    "    isna = df[column_name].isna().sum() / len(df[column_name]) * 100\n",
    "    print(f'Missed values procentage in {column_name}: {isna:.3f}%')"
   ]
  },
  {
   "cell_type": "code",
   "execution_count": 22,
   "id": "0af94fcc",
   "metadata": {},
   "outputs": [],
   "source": [
    "# Histogram\n",
    "\n",
    "def show_hist(column_name,bins_number,ymax,xmin,xmax):\n",
    "    df[column_name].hist(bins=bins_number)\n",
    "    plt.title('Histogram of values distribution in ' + column_name)\n",
    "    plt.ylim(0,ymax)\n",
    "    plt.xlim(xmin,xmax)\n"
   ]
  },
  {
   "cell_type": "code",
   "execution_count": 23,
   "id": "5ee1e07c",
   "metadata": {},
   "outputs": [],
   "source": [
    "# Boxplot\n",
    "\n",
    "def show_boxplot(column_name):\n",
    "    df.boxplot(column_name)\n",
    "    plt.title('Boxplot for values in ' + column_name)\n",
    "    plt.show()"
   ]
  },
  {
   "cell_type": "code",
   "execution_count": 24,
   "id": "6c77af92",
   "metadata": {},
   "outputs": [],
   "source": [
    "# Describe\n",
    "\n",
    "def stat_info(column_name):\n",
    "    print(f'Statistics for {column_name}')\n",
    "    print()\n",
    "    print(df[column_name].describe())\n",
    "    print()"
   ]
  },
  {
   "cell_type": "code",
   "execution_count": 25,
   "id": "46abf28f",
   "metadata": {},
   "outputs": [],
   "source": [
    "# Delete anomalies in a column\n",
    "\n",
    "def delete_irr_values(df,column_name,lower_limit,upper_limit):\n",
    "    anomalies = len(df.loc[(df[column_name] > upper_limit) | (df[column_name] < lower_limit)][column_name]) \n",
    "    anomalies = anomalies / len(df) * 100\n",
    "    print(f'Percantage of the values in {column_name} smaller than {lower_limit}and bigger than {upper_limit}: {anomalies:.3f}%')\n",
    "    \n",
    "    df = df.loc[(df[column_name] <= upper_limit) & (df[column_name] >= lower_limit)]\n",
    "    return df"
   ]
  },
  {
   "cell_type": "code",
   "execution_count": 26,
   "id": "8e98c071",
   "metadata": {},
   "outputs": [],
   "source": [
    "#Anomalies range based on IQR\n",
    "\n",
    "def iqr_limits(column_name,width):\n",
    "    iqr = df[column_name].quantile(0.75) - df[column_name].quantile(0.25)\n",
    "    lower_limit = df[column_name].quantile(0.25) - width * iqr\n",
    "    upper_limit = df[column_name].quantile(0.75) + width * iqr\n",
    "    return lower_limit, upper_limit"
   ]
  },
  {
   "cell_type": "code",
   "execution_count": 27,
   "id": "dfc1b9de",
   "metadata": {},
   "outputs": [],
   "source": [
    "#Numerical feature info\n",
    "\n",
    "def column_numerical_info(column_name):\n",
    "    nan_info(column_name)\n",
    "    print()\n",
    "    stat_info(column_name)\n",
    "    print()\n",
    "    show_boxplot(column_name)"
   ]
  },
  {
   "cell_type": "code",
   "execution_count": 28,
   "id": "b96f0a08",
   "metadata": {},
   "outputs": [],
   "source": [
    "# Unique values of categorical feature\n",
    "\n",
    "def unique_val_info(column_name):\n",
    "    print(f'Amount of unique values in {column_name}: {len(df[column_name].unique())}')\n",
    "    print(f'List of unique values in {column_name}: {df[column_name].unique()}')"
   ]
  },
  {
   "cell_type": "code",
   "execution_count": 29,
   "id": "5cee1ff8",
   "metadata": {},
   "outputs": [],
   "source": [
    "# Data allocation by column\n",
    "\n",
    "def calc_fraction(x):\n",
    "    return round(x.count() / len(df),2)\n",
    "\n",
    "def pivot_fraction(column_name):\n",
    "    display(df.pivot_table(values='customer_id', columns=column_name, aggfunc=calc_fraction))"
   ]
  },
  {
   "cell_type": "code",
   "execution_count": 30,
   "id": "84878b20",
   "metadata": {},
   "outputs": [],
   "source": [
    "# Bar chart\n",
    "\n",
    "def pivot_bar(column_name):\n",
    "    df.pivot_table(values='customer_id', columns=column_name, aggfunc='count').plot.bar()\n",
    "    plt.ylabel('number of customers')\n",
    "    plt.title('Number of customers in each category for '+ column_name)\n",
    "    plt.show()"
   ]
  },
  {
   "cell_type": "code",
   "execution_count": 31,
   "id": "1c63d2ad",
   "metadata": {},
   "outputs": [],
   "source": [
    "# Categorical feature info\n",
    "\n",
    "def column_categ_info(column_name,internet):\n",
    "    nan_info(column_name)\n",
    "    print()\n",
    "    if internet:\n",
    "        print(f'Most likely, if the value is null, the customer does not use internet. Let us fill thos values with \"No\"')\n",
    "        df[column_name] = df[column_name].fillna('No')\n",
    "        print()\n",
    "    unique_val_info(column_name)\n",
    "    print()\n",
    "    print(f'Share of customer for each value of the column ')\n",
    "    pivot_fraction(column_name)\n",
    "    print()\n",
    "    pivot_bar(column_name)\n",
    "    "
   ]
  },
  {
   "cell_type": "code",
   "execution_count": 32,
   "id": "4e3747d7",
   "metadata": {},
   "outputs": [],
   "source": [
    "# Change Yes/No to 1/0\n",
    "\n",
    "def yes_to_1(column_name):\n",
    "    print(f'Let us change Yes/No values to 1/0')\n",
    "    df[column_name] = df[column_name].map(dict(Yes=1, No=0))"
   ]
  },
  {
   "cell_type": "markdown",
   "id": "1da1d5e6",
   "metadata": {},
   "source": [
    "### `customer_id`"
   ]
  },
  {
   "cell_type": "markdown",
   "id": "81e05b70",
   "metadata": {},
   "source": [
    "It is a good idea to check whether there are non-unique values in `customer_id`"
   ]
  },
  {
   "cell_type": "code",
   "execution_count": 33,
   "id": "c3606fe9",
   "metadata": {},
   "outputs": [
    {
     "name": "stdout",
     "output_type": "stream",
     "text": [
      "Persantage of the uniqe values: 100.0%\n"
     ]
    }
   ],
   "source": [
    "percent = len(df['customer_id'].unique()) * 100 / len(df)\n",
    "print(f'Persantage of the uniqe values: {percent}%')"
   ]
  },
  {
   "cell_type": "markdown",
   "id": "aefdf0df",
   "metadata": {},
   "source": [
    "### `begin_date`, `end_date`"
   ]
  },
  {
   "cell_type": "markdown",
   "id": "343637d3",
   "metadata": {},
   "source": [
    "First, we change the format"
   ]
  },
  {
   "cell_type": "code",
   "execution_count": 34,
   "id": "28398352",
   "metadata": {},
   "outputs": [],
   "source": [
    "df['begin_date'] = pd.to_datetime(df['begin_date'], format='%Y.%m.%d')"
   ]
  },
  {
   "cell_type": "markdown",
   "id": "03faae32",
   "metadata": {},
   "source": [
    "When we encounter 'No' in the `end_date`, it means that the contract is not terminated. Below we create a new column (`is_cancrlled`), where we can add this information. This could be used as a target as we actually need to predict the customer churn"
   ]
  },
  {
   "cell_type": "code",
   "execution_count": 35,
   "id": "4eaee101",
   "metadata": {},
   "outputs": [],
   "source": [
    "def is_cancelled(row):\n",
    "    if row['end_date'] == 'No':\n",
    "        cancellation = '0'\n",
    "    else:\n",
    "        cancellation = '1'\n",
    "    return cancellation"
   ]
  },
  {
   "cell_type": "code",
   "execution_count": 36,
   "id": "23b85ac0",
   "metadata": {},
   "outputs": [],
   "source": [
    "df['is_cancelled'] = df.apply(is_cancelled, axis=1)"
   ]
  },
  {
   "cell_type": "markdown",
   "id": "873b8333",
   "metadata": {},
   "source": [
    "Instead of `begin_date` and `end_date` it is better to consider the duration of the contract. Below we change 'No' in `end_date`to a latest date in a column and format the values."
   ]
  },
  {
   "cell_type": "code",
   "execution_count": 37,
   "id": "4173ee76",
   "metadata": {
    "code_folding": []
   },
   "outputs": [],
   "source": [
    "df['end_date'] = df['end_date'].replace(['No'],'2020-02-01 00:00:00')\n",
    "\n",
    "df['end_date'] = pd.to_datetime(df['end_date'], format='%Y.%m.%d')"
   ]
  },
  {
   "cell_type": "code",
   "execution_count": 38,
   "id": "59ee6cdc",
   "metadata": {},
   "outputs": [],
   "source": [
    "df['duration'] = (df['end_date'] - df['begin_date']).dt.days"
   ]
  },
  {
   "cell_type": "markdown",
   "id": "561a168f",
   "metadata": {},
   "source": [
    "This, `duration` shows the number of days when the contract was valid. There is no more need to keep `begin_date` and `end_date`."
   ]
  },
  {
   "cell_type": "code",
   "execution_count": 39,
   "id": "f6be835b",
   "metadata": {},
   "outputs": [],
   "source": [
    "df = df.drop(['begin_date','end_date'], axis=1)"
   ]
  },
  {
   "cell_type": "markdown",
   "id": "add6748d",
   "metadata": {},
   "source": [
    "### `duration`"
   ]
  },
  {
   "cell_type": "code",
   "execution_count": 40,
   "id": "2ce7b573",
   "metadata": {},
   "outputs": [
    {
     "name": "stdout",
     "output_type": "stream",
     "text": [
      "Missed values procentage in duration: 0.000%\n",
      "\n",
      "Statistics for duration\n",
      "\n",
      "count    7043.000000\n",
      "mean      985.996166\n",
      "std       747.587844\n",
      "min         0.000000\n",
      "25%       273.000000\n",
      "50%       883.000000\n",
      "75%      1676.000000\n",
      "max      2191.000000\n",
      "Name: duration, dtype: float64\n",
      "\n",
      "\n"
     ]
    },
    {
     "data": {
      "image/png": "[encoded data removed]",
      "text/plain": [
       "<Figure size 432x288 with 1 Axes>"
      ]
     },
     "metadata": {
      "needs_background": "light"
     },
     "output_type": "display_data"
    }
   ],
   "source": [
    "column_numerical_info('duration')"
   ]
  },
  {
   "cell_type": "code",
   "execution_count": 41,
   "id": "bd3b10f8",
   "metadata": {},
   "outputs": [
    {
     "data": {
      "image/png": "[encoded data removed]",
      "text/plain": [
       "<Figure size 432x288 with 1 Axes>"
      ]
     },
     "metadata": {
      "needs_background": "light"
     },
     "output_type": "display_data"
    }
   ],
   "source": [
    "show_hist('duration',30,1000,-10,2300)"
   ]
  },
  {
   "cell_type": "markdown",
   "id": "b033a2d5",
   "metadata": {},
   "source": [
    "**Notes:**\n",
    "* The median contract duration is 985 days or 28 months\n",
    "* Most of the contracts last 0-30 days and 2200-2300 days, which are the ends of the distribution "
   ]
  },
  {
   "cell_type": "markdown",
   "id": "a23186ae",
   "metadata": {},
   "source": [
    "### `type`"
   ]
  },
  {
   "cell_type": "code",
   "execution_count": 42,
   "id": "bb14e4c4",
   "metadata": {},
   "outputs": [
    {
     "name": "stdout",
     "output_type": "stream",
     "text": [
      "Missed values procentage in type: 0.000%\n",
      "\n",
      "Amount of unique values in type: 3\n",
      "List of unique values in type: ['Month-to-month' 'One year' 'Two year']\n",
      "\n",
      "Share of customer for each value of the column \n"
     ]
    },
    {
     "data": {
      "text/html": [
       "<div>\n",
       "<style scoped>\n",
       "    .dataframe tbody tr th:only-of-type {\n",
       "        vertical-align: middle;\n",
       "    }\n",
       "\n",
       "    .dataframe tbody tr th {\n",
       "        vertical-align: top;\n",
       "    }\n",
       "\n",
       "    .dataframe thead th {\n",
       "        text-align: right;\n",
       "    }\n",
       "</style>\n",
       "<table border=\"1\" class=\"dataframe\">\n",
       "  <thead>\n",
       "    <tr style=\"text-align: right;\">\n",
       "      <th>type</th>\n",
       "      <th>Month-to-month</th>\n",
       "      <th>One year</th>\n",
       "      <th>Two year</th>\n",
       "    </tr>\n",
       "  </thead>\n",
       "  <tbody>\n",
       "    <tr>\n",
       "      <th>customer_id</th>\n",
       "      <td>0.55</td>\n",
       "      <td>0.21</td>\n",
       "      <td>0.24</td>\n",
       "    </tr>\n",
       "  </tbody>\n",
       "</table>\n",
       "</div>"
      ],
      "text/plain": [
       "type         Month-to-month  One year  Two year\n",
       "customer_id            0.55      0.21      0.24"
      ]
     },
     "metadata": {},
     "output_type": "display_data"
    },
    {
     "name": "stdout",
     "output_type": "stream",
     "text": [
      "\n"
     ]
    },
    {
     "data": {
      "image/png": "[encoded data removed]",
      "text/plain": [
       "<Figure size 432x288 with 1 Axes>"
      ]
     },
     "metadata": {
      "needs_background": "light"
     },
     "output_type": "display_data"
    }
   ],
   "source": [
    "column_categ_info('type',False)"
   ]
  },
  {
   "cell_type": "markdown",
   "id": "d70ae985",
   "metadata": {},
   "source": [
    "**Notes**:\n",
    "* Most of the customers (55%) prefer month-to-month subscription \n",
    "* There no null values, so all the info refers to people that were or are the actual customers"
   ]
  },
  {
   "cell_type": "markdown",
   "id": "28fda209",
   "metadata": {},
   "source": [
    "### `paperless_billing`"
   ]
  },
  {
   "cell_type": "code",
   "execution_count": 43,
   "id": "bfc4db03",
   "metadata": {},
   "outputs": [
    {
     "name": "stdout",
     "output_type": "stream",
     "text": [
      "Missed values procentage in paperless_billing: 0.000%\n",
      "\n",
      "Amount of unique values in paperless_billing: 2\n",
      "List of unique values in paperless_billing: ['Yes' 'No']\n",
      "\n",
      "Share of customer for each value of the column \n"
     ]
    },
    {
     "data": {
      "text/html": [
       "<div>\n",
       "<style scoped>\n",
       "    .dataframe tbody tr th:only-of-type {\n",
       "        vertical-align: middle;\n",
       "    }\n",
       "\n",
       "    .dataframe tbody tr th {\n",
       "        vertical-align: top;\n",
       "    }\n",
       "\n",
       "    .dataframe thead th {\n",
       "        text-align: right;\n",
       "    }\n",
       "</style>\n",
       "<table border=\"1\" class=\"dataframe\">\n",
       "  <thead>\n",
       "    <tr style=\"text-align: right;\">\n",
       "      <th>paperless_billing</th>\n",
       "      <th>No</th>\n",
       "      <th>Yes</th>\n",
       "    </tr>\n",
       "  </thead>\n",
       "  <tbody>\n",
       "    <tr>\n",
       "      <th>customer_id</th>\n",
       "      <td>0.41</td>\n",
       "      <td>0.59</td>\n",
       "    </tr>\n",
       "  </tbody>\n",
       "</table>\n",
       "</div>"
      ],
      "text/plain": [
       "paperless_billing    No   Yes\n",
       "customer_id        0.41  0.59"
      ]
     },
     "metadata": {},
     "output_type": "display_data"
    },
    {
     "name": "stdout",
     "output_type": "stream",
     "text": [
      "\n"
     ]
    },
    {
     "data": {
      "image/png": "[encoded data removed]",
      "text/plain": [
       "<Figure size 432x288 with 1 Axes>"
      ]
     },
     "metadata": {
      "needs_background": "light"
     },
     "output_type": "display_data"
    }
   ],
   "source": [
    "column_categ_info('paperless_billing',False)"
   ]
  },
  {
   "cell_type": "code",
   "execution_count": 44,
   "id": "c3cfd99a",
   "metadata": {},
   "outputs": [
    {
     "name": "stdout",
     "output_type": "stream",
     "text": [
      "Let us change Yes/No values to 1/0\n"
     ]
    }
   ],
   "source": [
    "yes_to_1('paperless_billing')"
   ]
  },
  {
   "cell_type": "markdown",
   "id": "04d11a00",
   "metadata": {},
   "source": [
    "**Notes:**\n",
    "* There is no significant gap between the two types of billing"
   ]
  },
  {
   "cell_type": "markdown",
   "id": "f9c1bbd5",
   "metadata": {},
   "source": [
    "### `monthly_charges`"
   ]
  },
  {
   "cell_type": "code",
   "execution_count": 45,
   "id": "bade7a9d",
   "metadata": {
    "scrolled": false
   },
   "outputs": [
    {
     "name": "stdout",
     "output_type": "stream",
     "text": [
      "Missed values procentage in monthly_charges: 0.000%\n",
      "\n",
      "Statistics for monthly_charges\n",
      "\n",
      "count    7043.000000\n",
      "mean       64.761692\n",
      "std        30.090047\n",
      "min        18.250000\n",
      "25%        35.500000\n",
      "50%        70.350000\n",
      "75%        89.850000\n",
      "max       118.750000\n",
      "Name: monthly_charges, dtype: float64\n",
      "\n",
      "\n"
     ]
    },
    {
     "data": {
      "image/png": "[encoded data removed]",
      "text/plain": [
       "<Figure size 432x288 with 1 Axes>"
      ]
     },
     "metadata": {
      "needs_background": "light"
     },
     "output_type": "display_data"
    }
   ],
   "source": [
    "column_numerical_info('monthly_charges')"
   ]
  },
  {
   "cell_type": "code",
   "execution_count": 46,
   "id": "a3a3d64d",
   "metadata": {
    "scrolled": true
   },
   "outputs": [
    {
     "data": {
      "image/png": "[encoded data removed]",
      "text/plain": [
       "<Figure size 432x288 with 1 Axes>"
      ]
     },
     "metadata": {
      "needs_background": "light"
     },
     "output_type": "display_data"
    }
   ],
   "source": [
    "show_hist('monthly_charges',30,1400,10,130)"
   ]
  },
  {
   "cell_type": "markdown",
   "id": "b7112420",
   "metadata": {},
   "source": [
    "**Notes**:\n",
    "* This is not a Gaussian distribution\n",
    "* Most of the customers spend 18.25 rubles each month. It corresponds to the minimum value in the column\n",
    "* However, it is not very clear what this number reflect. Most likely it is average amount of money charged per month"
   ]
  },
  {
   "cell_type": "markdown",
   "id": "f74fb594",
   "metadata": {},
   "source": [
    "### `total_charges`"
   ]
  },
  {
   "cell_type": "markdown",
   "id": "70b58ef4",
   "metadata": {},
   "source": [
    "Due to anomalies it is not possible to change the data type to float64 in this column. Let us estimate the amount of such anomalies"
   ]
  },
  {
   "cell_type": "code",
   "execution_count": 47,
   "id": "34e88434",
   "metadata": {},
   "outputs": [
    {
     "name": "stdout",
     "output_type": "stream",
     "text": [
      "Persantage of the anomalies in total_charges: 0.16%\n"
     ]
    }
   ],
   "source": [
    "anomalies = df[df['total_charges'] == ' ']['total_charges'].count()\n",
    "percent = anomalies * 100 / len(df)\n",
    "print(f'Persantage of the anomalies in total_charges: {percent:.2f}%')\n"
   ]
  },
  {
   "cell_type": "markdown",
   "id": "9fa87979",
   "metadata": {},
   "source": [
    "It is necessary to delete those values"
   ]
  },
  {
   "cell_type": "code",
   "execution_count": 48,
   "id": "64b274ce",
   "metadata": {},
   "outputs": [],
   "source": [
    "df = df.drop(df.index[df['total_charges'] == ' '])"
   ]
  },
  {
   "cell_type": "code",
   "execution_count": 49,
   "id": "e8eac6dd",
   "metadata": {},
   "outputs": [],
   "source": [
    "df['total_charges'] = df['total_charges'].astype('float64')"
   ]
  },
  {
   "cell_type": "code",
   "execution_count": 50,
   "id": "7b85cb7b",
   "metadata": {
    "scrolled": false
   },
   "outputs": [
    {
     "name": "stdout",
     "output_type": "stream",
     "text": [
      "Missed values procentage in total_charges: 0.000%\n",
      "\n",
      "Statistics for total_charges\n",
      "\n",
      "count    7032.000000\n",
      "mean     2283.300441\n",
      "std      2266.771362\n",
      "min        18.800000\n",
      "25%       401.450000\n",
      "50%      1397.475000\n",
      "75%      3794.737500\n",
      "max      8684.800000\n",
      "Name: total_charges, dtype: float64\n",
      "\n",
      "\n"
     ]
    },
    {
     "data": {
      "image/png": "[encoded data removed]",
      "text/plain": [
       "<Figure size 432x288 with 1 Axes>"
      ]
     },
     "metadata": {
      "needs_background": "light"
     },
     "output_type": "display_data"
    }
   ],
   "source": [
    "column_numerical_info('total_charges')"
   ]
  },
  {
   "cell_type": "code",
   "execution_count": 51,
   "id": "0961c571",
   "metadata": {
    "scrolled": true
   },
   "outputs": [
    {
     "data": {
      "image/png": "[encoded data removed]",
      "text/plain": [
       "<Figure size 432x288 with 1 Axes>"
      ]
     },
     "metadata": {
      "needs_background": "light"
     },
     "output_type": "display_data"
    }
   ],
   "source": [
    "show_hist('total_charges',30,2000,-10,10000)"
   ]
  },
  {
   "cell_type": "markdown",
   "id": "268b1f63",
   "metadata": {},
   "source": [
    "**Notes**\n",
    "* This is a Poisson-like distribution\n",
    "* For the major part of the customers `total_charges` are equivalent to minimum value (18.8)\n",
    "* The minimum value in `monthly_charges` is also 18.8\n",
    "* This is in accordance with the analysis of `duration`values, which indicates a significant amount of new customers."
   ]
  },
  {
   "cell_type": "markdown",
   "id": "ff0fe4c5",
   "metadata": {},
   "source": [
    "### `gender`"
   ]
  },
  {
   "cell_type": "code",
   "execution_count": 52,
   "id": "e5108bcd",
   "metadata": {},
   "outputs": [
    {
     "name": "stdout",
     "output_type": "stream",
     "text": [
      "Missed values procentage in gender: 0.000%\n",
      "\n",
      "Amount of unique values in gender: 2\n",
      "List of unique values in gender: ['Female' 'Male']\n",
      "\n",
      "Share of customer for each value of the column \n"
     ]
    },
    {
     "data": {
      "text/html": [
       "<div>\n",
       "<style scoped>\n",
       "    .dataframe tbody tr th:only-of-type {\n",
       "        vertical-align: middle;\n",
       "    }\n",
       "\n",
       "    .dataframe tbody tr th {\n",
       "        vertical-align: top;\n",
       "    }\n",
       "\n",
       "    .dataframe thead th {\n",
       "        text-align: right;\n",
       "    }\n",
       "</style>\n",
       "<table border=\"1\" class=\"dataframe\">\n",
       "  <thead>\n",
       "    <tr style=\"text-align: right;\">\n",
       "      <th>gender</th>\n",
       "      <th>Female</th>\n",
       "      <th>Male</th>\n",
       "    </tr>\n",
       "  </thead>\n",
       "  <tbody>\n",
       "    <tr>\n",
       "      <th>customer_id</th>\n",
       "      <td>0.5</td>\n",
       "      <td>0.5</td>\n",
       "    </tr>\n",
       "  </tbody>\n",
       "</table>\n",
       "</div>"
      ],
      "text/plain": [
       "gender       Female  Male\n",
       "customer_id     0.5   0.5"
      ]
     },
     "metadata": {},
     "output_type": "display_data"
    },
    {
     "name": "stdout",
     "output_type": "stream",
     "text": [
      "\n"
     ]
    },
    {
     "data": {
      "image/png": "[encoded data removed]",
      "text/plain": [
       "<Figure size 432x288 with 1 Axes>"
      ]
     },
     "metadata": {
      "needs_background": "light"
     },
     "output_type": "display_data"
    }
   ],
   "source": [
    "column_categ_info('gender',False)"
   ]
  },
  {
   "cell_type": "code",
   "execution_count": 53,
   "id": "cd244f0b",
   "metadata": {},
   "outputs": [
    {
     "name": "stdout",
     "output_type": "stream",
     "text": [
      "Let us chenge Yes/No to 1/0\n"
     ]
    }
   ],
   "source": [
    "print(f'Let us chenge Yes/No to 1/0')\n",
    "df['gender'] = df['gender'].map(dict(Female=1, Male=0))"
   ]
  },
  {
   "cell_type": "markdown",
   "id": "4a31dd67",
   "metadata": {},
   "source": [
    "**Notes:**\n",
    "* There is no significant gender gap\n",
    "* There are no null values and no anomalies"
   ]
  },
  {
   "cell_type": "markdown",
   "id": "b788ce2a",
   "metadata": {},
   "source": [
    "### `senior_citizen`"
   ]
  },
  {
   "cell_type": "code",
   "execution_count": 54,
   "id": "00081c01",
   "metadata": {},
   "outputs": [
    {
     "name": "stdout",
     "output_type": "stream",
     "text": [
      "Missed values procentage in senior_citizen: 0.000%\n",
      "\n",
      "Amount of unique values in senior_citizen: 2\n",
      "List of unique values in senior_citizen: [0 1]\n",
      "\n",
      "Share of customer for each value of the column \n"
     ]
    },
    {
     "data": {
      "text/html": [
       "<div>\n",
       "<style scoped>\n",
       "    .dataframe tbody tr th:only-of-type {\n",
       "        vertical-align: middle;\n",
       "    }\n",
       "\n",
       "    .dataframe tbody tr th {\n",
       "        vertical-align: top;\n",
       "    }\n",
       "\n",
       "    .dataframe thead th {\n",
       "        text-align: right;\n",
       "    }\n",
       "</style>\n",
       "<table border=\"1\" class=\"dataframe\">\n",
       "  <thead>\n",
       "    <tr style=\"text-align: right;\">\n",
       "      <th>senior_citizen</th>\n",
       "      <th>0</th>\n",
       "      <th>1</th>\n",
       "    </tr>\n",
       "  </thead>\n",
       "  <tbody>\n",
       "    <tr>\n",
       "      <th>customer_id</th>\n",
       "      <td>0.84</td>\n",
       "      <td>0.16</td>\n",
       "    </tr>\n",
       "  </tbody>\n",
       "</table>\n",
       "</div>"
      ],
      "text/plain": [
       "senior_citizen     0     1\n",
       "customer_id     0.84  0.16"
      ]
     },
     "metadata": {},
     "output_type": "display_data"
    },
    {
     "name": "stdout",
     "output_type": "stream",
     "text": [
      "\n"
     ]
    },
    {
     "data": {
      "image/png": "[encoded data removed]",
      "text/plain": [
       "<Figure size 432x288 with 1 Axes>"
      ]
     },
     "metadata": {
      "needs_background": "light"
     },
     "output_type": "display_data"
    }
   ],
   "source": [
    "column_categ_info('senior_citizen',False)"
   ]
  },
  {
   "cell_type": "markdown",
   "id": "ec3de927",
   "metadata": {},
   "source": [
    "**Notes**:\n",
    "* There is only 16% of customer referred as senior citizen\n",
    "* This class in unbalanced and this should be addressed later"
   ]
  },
  {
   "cell_type": "markdown",
   "id": "65c3a8b0",
   "metadata": {},
   "source": [
    "### `partner`"
   ]
  },
  {
   "cell_type": "code",
   "execution_count": 55,
   "id": "dc893c30",
   "metadata": {},
   "outputs": [
    {
     "name": "stdout",
     "output_type": "stream",
     "text": [
      "Missed values procentage in partner: 0.000%\n",
      "\n",
      "Amount of unique values in partner: 2\n",
      "List of unique values in partner: ['Yes' 'No']\n",
      "\n",
      "Share of customer for each value of the column \n"
     ]
    },
    {
     "data": {
      "text/html": [
       "<div>\n",
       "<style scoped>\n",
       "    .dataframe tbody tr th:only-of-type {\n",
       "        vertical-align: middle;\n",
       "    }\n",
       "\n",
       "    .dataframe tbody tr th {\n",
       "        vertical-align: top;\n",
       "    }\n",
       "\n",
       "    .dataframe thead th {\n",
       "        text-align: right;\n",
       "    }\n",
       "</style>\n",
       "<table border=\"1\" class=\"dataframe\">\n",
       "  <thead>\n",
       "    <tr style=\"text-align: right;\">\n",
       "      <th>partner</th>\n",
       "      <th>No</th>\n",
       "      <th>Yes</th>\n",
       "    </tr>\n",
       "  </thead>\n",
       "  <tbody>\n",
       "    <tr>\n",
       "      <th>customer_id</th>\n",
       "      <td>0.52</td>\n",
       "      <td>0.48</td>\n",
       "    </tr>\n",
       "  </tbody>\n",
       "</table>\n",
       "</div>"
      ],
      "text/plain": [
       "partner        No   Yes\n",
       "customer_id  0.52  0.48"
      ]
     },
     "metadata": {},
     "output_type": "display_data"
    },
    {
     "name": "stdout",
     "output_type": "stream",
     "text": [
      "\n"
     ]
    },
    {
     "data": {
      "image/png": "[encoded data removed]",
      "text/plain": [
       "<Figure size 432x288 with 1 Axes>"
      ]
     },
     "metadata": {
      "needs_background": "light"
     },
     "output_type": "display_data"
    }
   ],
   "source": [
    "column_categ_info('partner',False)"
   ]
  },
  {
   "cell_type": "code",
   "execution_count": 56,
   "id": "e32a2137",
   "metadata": {},
   "outputs": [
    {
     "name": "stdout",
     "output_type": "stream",
     "text": [
      "Let us change Yes/No values to 1/0\n"
     ]
    }
   ],
   "source": [
    "yes_to_1('partner')"
   ]
  },
  {
   "cell_type": "markdown",
   "id": "6debac3c",
   "metadata": {},
   "source": [
    "**Notes**:\n",
    "* There is no significant gap between two statuses\n",
    "* The relation between this value and the target is not obvious and might be absent "
   ]
  },
  {
   "cell_type": "markdown",
   "id": "5ccf55b9",
   "metadata": {},
   "source": [
    "### `multiple_lines`"
   ]
  },
  {
   "cell_type": "code",
   "execution_count": 57,
   "id": "816744fa",
   "metadata": {},
   "outputs": [
    {
     "name": "stdout",
     "output_type": "stream",
     "text": [
      "Missed values procentage in multiple_lines: 9.670%\n"
     ]
    }
   ],
   "source": [
    "nan_info('multiple_lines')"
   ]
  },
  {
   "cell_type": "markdown",
   "id": "c05f12d2",
   "metadata": {},
   "source": [
    "Null values is due to the fact that some customer do not use this service. Let us fill the missing values with 'No'"
   ]
  },
  {
   "cell_type": "code",
   "execution_count": 58,
   "id": "2ebb5ced",
   "metadata": {},
   "outputs": [],
   "source": [
    "df['multiple_lines'] = df['multiple_lines'].fillna('No')"
   ]
  },
  {
   "cell_type": "code",
   "execution_count": 59,
   "id": "dd3528b6",
   "metadata": {},
   "outputs": [
    {
     "name": "stdout",
     "output_type": "stream",
     "text": [
      "Missed values procentage in multiple_lines: 0.000%\n",
      "\n",
      "Amount of unique values in multiple_lines: 2\n",
      "List of unique values in multiple_lines: ['No' 'Yes']\n",
      "\n",
      "Share of customer for each value of the column \n"
     ]
    },
    {
     "data": {
      "text/html": [
       "<div>\n",
       "<style scoped>\n",
       "    .dataframe tbody tr th:only-of-type {\n",
       "        vertical-align: middle;\n",
       "    }\n",
       "\n",
       "    .dataframe tbody tr th {\n",
       "        vertical-align: top;\n",
       "    }\n",
       "\n",
       "    .dataframe thead th {\n",
       "        text-align: right;\n",
       "    }\n",
       "</style>\n",
       "<table border=\"1\" class=\"dataframe\">\n",
       "  <thead>\n",
       "    <tr style=\"text-align: right;\">\n",
       "      <th>multiple_lines</th>\n",
       "      <th>No</th>\n",
       "      <th>Yes</th>\n",
       "    </tr>\n",
       "  </thead>\n",
       "  <tbody>\n",
       "    <tr>\n",
       "      <th>customer_id</th>\n",
       "      <td>0.58</td>\n",
       "      <td>0.42</td>\n",
       "    </tr>\n",
       "  </tbody>\n",
       "</table>\n",
       "</div>"
      ],
      "text/plain": [
       "multiple_lines    No   Yes\n",
       "customer_id     0.58  0.42"
      ]
     },
     "metadata": {},
     "output_type": "display_data"
    },
    {
     "name": "stdout",
     "output_type": "stream",
     "text": [
      "\n"
     ]
    },
    {
     "data": {
      "image/png": "[encoded data removed]",
      "text/plain": [
       "<Figure size 432x288 with 1 Axes>"
      ]
     },
     "metadata": {
      "needs_background": "light"
     },
     "output_type": "display_data"
    }
   ],
   "source": [
    "column_categ_info('multiple_lines',False)"
   ]
  },
  {
   "cell_type": "code",
   "execution_count": 60,
   "id": "d1ed7b7b",
   "metadata": {},
   "outputs": [
    {
     "name": "stdout",
     "output_type": "stream",
     "text": [
      "Let us change Yes/No values to 1/0\n"
     ]
    }
   ],
   "source": [
    "yes_to_1('multiple_lines')"
   ]
  },
  {
   "cell_type": "markdown",
   "id": "307fc175",
   "metadata": {},
   "source": [
    "**Notes**:\n",
    "* There is no gap between two classes (58% against 42%)"
   ]
  },
  {
   "cell_type": "markdown",
   "id": "8470a2bb",
   "metadata": {},
   "source": [
    "### `dependents`"
   ]
  },
  {
   "cell_type": "code",
   "execution_count": 61,
   "id": "9b7bcde7",
   "metadata": {},
   "outputs": [
    {
     "name": "stdout",
     "output_type": "stream",
     "text": [
      "Missed values procentage in dependents: 0.000%\n",
      "\n",
      "Amount of unique values in dependents: 2\n",
      "List of unique values in dependents: ['No' 'Yes']\n",
      "\n",
      "Share of customer for each value of the column \n"
     ]
    },
    {
     "data": {
      "text/html": [
       "<div>\n",
       "<style scoped>\n",
       "    .dataframe tbody tr th:only-of-type {\n",
       "        vertical-align: middle;\n",
       "    }\n",
       "\n",
       "    .dataframe tbody tr th {\n",
       "        vertical-align: top;\n",
       "    }\n",
       "\n",
       "    .dataframe thead th {\n",
       "        text-align: right;\n",
       "    }\n",
       "</style>\n",
       "<table border=\"1\" class=\"dataframe\">\n",
       "  <thead>\n",
       "    <tr style=\"text-align: right;\">\n",
       "      <th>dependents</th>\n",
       "      <th>No</th>\n",
       "      <th>Yes</th>\n",
       "    </tr>\n",
       "  </thead>\n",
       "  <tbody>\n",
       "    <tr>\n",
       "      <th>customer_id</th>\n",
       "      <td>0.7</td>\n",
       "      <td>0.3</td>\n",
       "    </tr>\n",
       "  </tbody>\n",
       "</table>\n",
       "</div>"
      ],
      "text/plain": [
       "dependents    No  Yes\n",
       "customer_id  0.7  0.3"
      ]
     },
     "metadata": {},
     "output_type": "display_data"
    },
    {
     "name": "stdout",
     "output_type": "stream",
     "text": [
      "\n"
     ]
    },
    {
     "data": {
      "image/png": "[encoded data removed]",
      "text/plain": [
       "<Figure size 432x288 with 1 Axes>"
      ]
     },
     "metadata": {
      "needs_background": "light"
     },
     "output_type": "display_data"
    }
   ],
   "source": [
    "column_categ_info('dependents',False)"
   ]
  },
  {
   "cell_type": "code",
   "execution_count": 62,
   "id": "7b75b7e6",
   "metadata": {},
   "outputs": [
    {
     "name": "stdout",
     "output_type": "stream",
     "text": [
      "Let us change Yes/No values to 1/0\n"
     ]
    }
   ],
   "source": [
    "yes_to_1('dependents')"
   ]
  },
  {
   "cell_type": "markdown",
   "id": "1e46908f",
   "metadata": {},
   "source": [
    "**Notes:**\n",
    "* The classes are unbalanced (70% against 30%) and should be addressed later"
   ]
  },
  {
   "cell_type": "markdown",
   "id": "9d77b9b2",
   "metadata": {},
   "source": [
    "### `internet_service`"
   ]
  },
  {
   "cell_type": "code",
   "execution_count": 63,
   "id": "eb55fec0",
   "metadata": {},
   "outputs": [
    {
     "name": "stdout",
     "output_type": "stream",
     "text": [
      "Missed values procentage in internet_service: 21.615%\n",
      "\n",
      "Most likely, if the value is null, the customer does not use internet. Let us fill thos values with \"No\"\n",
      "\n",
      "Amount of unique values in internet_service: 3\n",
      "List of unique values in internet_service: ['DSL' 'Fiber optic' 'No']\n",
      "\n",
      "Share of customer for each value of the column \n"
     ]
    },
    {
     "data": {
      "text/html": [
       "<div>\n",
       "<style scoped>\n",
       "    .dataframe tbody tr th:only-of-type {\n",
       "        vertical-align: middle;\n",
       "    }\n",
       "\n",
       "    .dataframe tbody tr th {\n",
       "        vertical-align: top;\n",
       "    }\n",
       "\n",
       "    .dataframe thead th {\n",
       "        text-align: right;\n",
       "    }\n",
       "</style>\n",
       "<table border=\"1\" class=\"dataframe\">\n",
       "  <thead>\n",
       "    <tr style=\"text-align: right;\">\n",
       "      <th>internet_service</th>\n",
       "      <th>DSL</th>\n",
       "      <th>Fiber optic</th>\n",
       "      <th>No</th>\n",
       "    </tr>\n",
       "  </thead>\n",
       "  <tbody>\n",
       "    <tr>\n",
       "      <th>customer_id</th>\n",
       "      <td>0.34</td>\n",
       "      <td>0.44</td>\n",
       "      <td>0.22</td>\n",
       "    </tr>\n",
       "  </tbody>\n",
       "</table>\n",
       "</div>"
      ],
      "text/plain": [
       "internet_service   DSL  Fiber optic    No\n",
       "customer_id       0.34         0.44  0.22"
      ]
     },
     "metadata": {},
     "output_type": "display_data"
    },
    {
     "name": "stdout",
     "output_type": "stream",
     "text": [
      "\n"
     ]
    },
    {
     "data": {
      "image/png": "[encoded data removed]",
      "text/plain": [
       "<Figure size 432x288 with 1 Axes>"
      ]
     },
     "metadata": {
      "needs_background": "light"
     },
     "output_type": "display_data"
    }
   ],
   "source": [
    "column_categ_info('internet_service',True)"
   ]
  },
  {
   "cell_type": "markdown",
   "id": "86eb6d90",
   "metadata": {},
   "source": [
    "**Notes**:\n",
    "* Only 22% of customers do not use internet connection"
   ]
  },
  {
   "cell_type": "markdown",
   "id": "ae1be485",
   "metadata": {},
   "source": [
    "### `online_security`"
   ]
  },
  {
   "cell_type": "code",
   "execution_count": 64,
   "id": "dda4cdd3",
   "metadata": {},
   "outputs": [
    {
     "name": "stdout",
     "output_type": "stream",
     "text": [
      "Missed values procentage in online_security: 21.615%\n",
      "\n",
      "Most likely, if the value is null, the customer does not use internet. Let us fill thos values with \"No\"\n",
      "\n",
      "Amount of unique values in online_security: 2\n",
      "List of unique values in online_security: ['No' 'Yes']\n",
      "\n",
      "Share of customer for each value of the column \n"
     ]
    },
    {
     "data": {
      "text/html": [
       "<div>\n",
       "<style scoped>\n",
       "    .dataframe tbody tr th:only-of-type {\n",
       "        vertical-align: middle;\n",
       "    }\n",
       "\n",
       "    .dataframe tbody tr th {\n",
       "        vertical-align: top;\n",
       "    }\n",
       "\n",
       "    .dataframe thead th {\n",
       "        text-align: right;\n",
       "    }\n",
       "</style>\n",
       "<table border=\"1\" class=\"dataframe\">\n",
       "  <thead>\n",
       "    <tr style=\"text-align: right;\">\n",
       "      <th>online_security</th>\n",
       "      <th>No</th>\n",
       "      <th>Yes</th>\n",
       "    </tr>\n",
       "  </thead>\n",
       "  <tbody>\n",
       "    <tr>\n",
       "      <th>customer_id</th>\n",
       "      <td>0.71</td>\n",
       "      <td>0.29</td>\n",
       "    </tr>\n",
       "  </tbody>\n",
       "</table>\n",
       "</div>"
      ],
      "text/plain": [
       "online_security    No   Yes\n",
       "customer_id      0.71  0.29"
      ]
     },
     "metadata": {},
     "output_type": "display_data"
    },
    {
     "name": "stdout",
     "output_type": "stream",
     "text": [
      "\n"
     ]
    },
    {
     "data": {
      "image/png": "[encoded data removed]",
      "text/plain": [
       "<Figure size 432x288 with 1 Axes>"
      ]
     },
     "metadata": {
      "needs_background": "light"
     },
     "output_type": "display_data"
    }
   ],
   "source": [
    "column_categ_info('online_security',True)"
   ]
  },
  {
   "cell_type": "code",
   "execution_count": 65,
   "id": "309a9fe7",
   "metadata": {},
   "outputs": [
    {
     "name": "stdout",
     "output_type": "stream",
     "text": [
      "Let us change Yes/No values to 1/0\n"
     ]
    }
   ],
   "source": [
    "yes_to_1('online_security')"
   ]
  },
  {
   "cell_type": "markdown",
   "id": "271d6810",
   "metadata": {},
   "source": [
    "**Notes**:\n",
    "* Most of the customers (71%) do not use this service "
   ]
  },
  {
   "cell_type": "markdown",
   "id": "7213cb0f",
   "metadata": {},
   "source": [
    "### `online_backup`"
   ]
  },
  {
   "cell_type": "code",
   "execution_count": 66,
   "id": "1431445b",
   "metadata": {},
   "outputs": [
    {
     "name": "stdout",
     "output_type": "stream",
     "text": [
      "Missed values procentage in online_backup: 21.615%\n",
      "\n",
      "Most likely, if the value is null, the customer does not use internet. Let us fill thos values with \"No\"\n",
      "\n",
      "Amount of unique values in online_backup: 2\n",
      "List of unique values in online_backup: ['Yes' 'No']\n",
      "\n",
      "Share of customer for each value of the column \n"
     ]
    },
    {
     "data": {
      "text/html": [
       "<div>\n",
       "<style scoped>\n",
       "    .dataframe tbody tr th:only-of-type {\n",
       "        vertical-align: middle;\n",
       "    }\n",
       "\n",
       "    .dataframe tbody tr th {\n",
       "        vertical-align: top;\n",
       "    }\n",
       "\n",
       "    .dataframe thead th {\n",
       "        text-align: right;\n",
       "    }\n",
       "</style>\n",
       "<table border=\"1\" class=\"dataframe\">\n",
       "  <thead>\n",
       "    <tr style=\"text-align: right;\">\n",
       "      <th>online_backup</th>\n",
       "      <th>No</th>\n",
       "      <th>Yes</th>\n",
       "    </tr>\n",
       "  </thead>\n",
       "  <tbody>\n",
       "    <tr>\n",
       "      <th>customer_id</th>\n",
       "      <td>0.66</td>\n",
       "      <td>0.34</td>\n",
       "    </tr>\n",
       "  </tbody>\n",
       "</table>\n",
       "</div>"
      ],
      "text/plain": [
       "online_backup    No   Yes\n",
       "customer_id    0.66  0.34"
      ]
     },
     "metadata": {},
     "output_type": "display_data"
    },
    {
     "name": "stdout",
     "output_type": "stream",
     "text": [
      "\n"
     ]
    },
    {
     "data": {
      "image/png": "[encoded data removed]",
      "text/plain": [
       "<Figure size 432x288 with 1 Axes>"
      ]
     },
     "metadata": {
      "needs_background": "light"
     },
     "output_type": "display_data"
    }
   ],
   "source": [
    "column_categ_info('online_backup',True)"
   ]
  },
  {
   "cell_type": "code",
   "execution_count": 67,
   "id": "c1cea6ce",
   "metadata": {},
   "outputs": [
    {
     "name": "stdout",
     "output_type": "stream",
     "text": [
      "Let us change Yes/No values to 1/0\n"
     ]
    }
   ],
   "source": [
    "yes_to_1('online_backup')"
   ]
  },
  {
   "cell_type": "markdown",
   "id": "42581261",
   "metadata": {},
   "source": [
    "**Notes**:\n",
    "* Most of the customers (66%) do not use this service "
   ]
  },
  {
   "cell_type": "markdown",
   "id": "ae08f91f",
   "metadata": {},
   "source": [
    "### `device_protection`"
   ]
  },
  {
   "cell_type": "code",
   "execution_count": 68,
   "id": "883a4eb9",
   "metadata": {
    "scrolled": false
   },
   "outputs": [
    {
     "name": "stdout",
     "output_type": "stream",
     "text": [
      "Missed values procentage in device_protection: 21.615%\n",
      "\n",
      "Most likely, if the value is null, the customer does not use internet. Let us fill thos values with \"No\"\n",
      "\n",
      "Amount of unique values in device_protection: 2\n",
      "List of unique values in device_protection: ['No' 'Yes']\n",
      "\n",
      "Share of customer for each value of the column \n"
     ]
    },
    {
     "data": {
      "text/html": [
       "<div>\n",
       "<style scoped>\n",
       "    .dataframe tbody tr th:only-of-type {\n",
       "        vertical-align: middle;\n",
       "    }\n",
       "\n",
       "    .dataframe tbody tr th {\n",
       "        vertical-align: top;\n",
       "    }\n",
       "\n",
       "    .dataframe thead th {\n",
       "        text-align: right;\n",
       "    }\n",
       "</style>\n",
       "<table border=\"1\" class=\"dataframe\">\n",
       "  <thead>\n",
       "    <tr style=\"text-align: right;\">\n",
       "      <th>device_protection</th>\n",
       "      <th>No</th>\n",
       "      <th>Yes</th>\n",
       "    </tr>\n",
       "  </thead>\n",
       "  <tbody>\n",
       "    <tr>\n",
       "      <th>customer_id</th>\n",
       "      <td>0.66</td>\n",
       "      <td>0.34</td>\n",
       "    </tr>\n",
       "  </tbody>\n",
       "</table>\n",
       "</div>"
      ],
      "text/plain": [
       "device_protection    No   Yes\n",
       "customer_id        0.66  0.34"
      ]
     },
     "metadata": {},
     "output_type": "display_data"
    },
    {
     "name": "stdout",
     "output_type": "stream",
     "text": [
      "\n"
     ]
    },
    {
     "data": {
      "image/png": "[encoded data removed]",
      "text/plain": [
       "<Figure size 432x288 with 1 Axes>"
      ]
     },
     "metadata": {
      "needs_background": "light"
     },
     "output_type": "display_data"
    }
   ],
   "source": [
    "column_categ_info('device_protection',True)"
   ]
  },
  {
   "cell_type": "code",
   "execution_count": 69,
   "id": "99ff7ef7",
   "metadata": {},
   "outputs": [
    {
     "name": "stdout",
     "output_type": "stream",
     "text": [
      "Let us change Yes/No values to 1/0\n"
     ]
    }
   ],
   "source": [
    "yes_to_1('device_protection')"
   ]
  },
  {
   "cell_type": "markdown",
   "id": "61c8a59d",
   "metadata": {},
   "source": [
    "**Notes**:\n",
    "* Most of the customers (66%) do not use this service "
   ]
  },
  {
   "cell_type": "markdown",
   "id": "37ab809b",
   "metadata": {},
   "source": [
    "### `tech_support`"
   ]
  },
  {
   "cell_type": "code",
   "execution_count": 70,
   "id": "d3579203",
   "metadata": {
    "scrolled": false
   },
   "outputs": [
    {
     "name": "stdout",
     "output_type": "stream",
     "text": [
      "Missed values procentage in tech_support: 21.615%\n",
      "\n",
      "Most likely, if the value is null, the customer does not use internet. Let us fill thos values with \"No\"\n",
      "\n",
      "Amount of unique values in tech_support: 2\n",
      "List of unique values in tech_support: ['No' 'Yes']\n",
      "\n",
      "Share of customer for each value of the column \n"
     ]
    },
    {
     "data": {
      "text/html": [
       "<div>\n",
       "<style scoped>\n",
       "    .dataframe tbody tr th:only-of-type {\n",
       "        vertical-align: middle;\n",
       "    }\n",
       "\n",
       "    .dataframe tbody tr th {\n",
       "        vertical-align: top;\n",
       "    }\n",
       "\n",
       "    .dataframe thead th {\n",
       "        text-align: right;\n",
       "    }\n",
       "</style>\n",
       "<table border=\"1\" class=\"dataframe\">\n",
       "  <thead>\n",
       "    <tr style=\"text-align: right;\">\n",
       "      <th>tech_support</th>\n",
       "      <th>No</th>\n",
       "      <th>Yes</th>\n",
       "    </tr>\n",
       "  </thead>\n",
       "  <tbody>\n",
       "    <tr>\n",
       "      <th>customer_id</th>\n",
       "      <td>0.71</td>\n",
       "      <td>0.29</td>\n",
       "    </tr>\n",
       "  </tbody>\n",
       "</table>\n",
       "</div>"
      ],
      "text/plain": [
       "tech_support    No   Yes\n",
       "customer_id   0.71  0.29"
      ]
     },
     "metadata": {},
     "output_type": "display_data"
    },
    {
     "name": "stdout",
     "output_type": "stream",
     "text": [
      "\n"
     ]
    },
    {
     "data": {
      "image/png": "[encoded data removed]",
      "text/plain": [
       "<Figure size 432x288 with 1 Axes>"
      ]
     },
     "metadata": {
      "needs_background": "light"
     },
     "output_type": "display_data"
    }
   ],
   "source": [
    "column_categ_info('tech_support',True)"
   ]
  },
  {
   "cell_type": "code",
   "execution_count": 71,
   "id": "bc56fb2c",
   "metadata": {},
   "outputs": [
    {
     "name": "stdout",
     "output_type": "stream",
     "text": [
      "Let us change Yes/No values to 1/0\n"
     ]
    }
   ],
   "source": [
    "yes_to_1('tech_support')"
   ]
  },
  {
   "cell_type": "markdown",
   "id": "99397b1c",
   "metadata": {},
   "source": [
    "**Notes**:\n",
    "* Most of the customers (71%) do not use this service "
   ]
  },
  {
   "cell_type": "markdown",
   "id": "b11746b5",
   "metadata": {},
   "source": [
    "###  `streaming_tv`"
   ]
  },
  {
   "cell_type": "code",
   "execution_count": 72,
   "id": "1d7653f6",
   "metadata": {
    "scrolled": false
   },
   "outputs": [
    {
     "name": "stdout",
     "output_type": "stream",
     "text": [
      "Missed values procentage in streaming_tv: 21.615%\n",
      "\n",
      "Most likely, if the value is null, the customer does not use internet. Let us fill thos values with \"No\"\n",
      "\n",
      "Amount of unique values in streaming_tv: 2\n",
      "List of unique values in streaming_tv: ['No' 'Yes']\n",
      "\n",
      "Share of customer for each value of the column \n"
     ]
    },
    {
     "data": {
      "text/html": [
       "<div>\n",
       "<style scoped>\n",
       "    .dataframe tbody tr th:only-of-type {\n",
       "        vertical-align: middle;\n",
       "    }\n",
       "\n",
       "    .dataframe tbody tr th {\n",
       "        vertical-align: top;\n",
       "    }\n",
       "\n",
       "    .dataframe thead th {\n",
       "        text-align: right;\n",
       "    }\n",
       "</style>\n",
       "<table border=\"1\" class=\"dataframe\">\n",
       "  <thead>\n",
       "    <tr style=\"text-align: right;\">\n",
       "      <th>streaming_tv</th>\n",
       "      <th>No</th>\n",
       "      <th>Yes</th>\n",
       "    </tr>\n",
       "  </thead>\n",
       "  <tbody>\n",
       "    <tr>\n",
       "      <th>customer_id</th>\n",
       "      <td>0.62</td>\n",
       "      <td>0.38</td>\n",
       "    </tr>\n",
       "  </tbody>\n",
       "</table>\n",
       "</div>"
      ],
      "text/plain": [
       "streaming_tv    No   Yes\n",
       "customer_id   0.62  0.38"
      ]
     },
     "metadata": {},
     "output_type": "display_data"
    },
    {
     "name": "stdout",
     "output_type": "stream",
     "text": [
      "\n"
     ]
    },
    {
     "data": {
      "image/png": "[encoded data removed]",
      "text/plain": [
       "<Figure size 432x288 with 1 Axes>"
      ]
     },
     "metadata": {
      "needs_background": "light"
     },
     "output_type": "display_data"
    }
   ],
   "source": [
    "column_categ_info('streaming_tv',True)"
   ]
  },
  {
   "cell_type": "code",
   "execution_count": 73,
   "id": "f6939746",
   "metadata": {},
   "outputs": [
    {
     "name": "stdout",
     "output_type": "stream",
     "text": [
      "Let us change Yes/No values to 1/0\n"
     ]
    }
   ],
   "source": [
    "yes_to_1('streaming_tv')"
   ]
  },
  {
   "cell_type": "markdown",
   "id": "ad9acfb9",
   "metadata": {},
   "source": [
    "**Notes**:\n",
    "* Only 62% of customers use this service "
   ]
  },
  {
   "cell_type": "markdown",
   "id": "b59fe224",
   "metadata": {},
   "source": [
    "### `streaming_movies`"
   ]
  },
  {
   "cell_type": "code",
   "execution_count": 74,
   "id": "d536f370",
   "metadata": {
    "scrolled": false
   },
   "outputs": [
    {
     "name": "stdout",
     "output_type": "stream",
     "text": [
      "Missed values procentage in streaming_movies: 21.615%\n",
      "\n",
      "Most likely, if the value is null, the customer does not use internet. Let us fill thos values with \"No\"\n",
      "\n",
      "Amount of unique values in streaming_movies: 2\n",
      "List of unique values in streaming_movies: ['No' 'Yes']\n",
      "\n",
      "Share of customer for each value of the column \n"
     ]
    },
    {
     "data": {
      "text/html": [
       "<div>\n",
       "<style scoped>\n",
       "    .dataframe tbody tr th:only-of-type {\n",
       "        vertical-align: middle;\n",
       "    }\n",
       "\n",
       "    .dataframe tbody tr th {\n",
       "        vertical-align: top;\n",
       "    }\n",
       "\n",
       "    .dataframe thead th {\n",
       "        text-align: right;\n",
       "    }\n",
       "</style>\n",
       "<table border=\"1\" class=\"dataframe\">\n",
       "  <thead>\n",
       "    <tr style=\"text-align: right;\">\n",
       "      <th>streaming_movies</th>\n",
       "      <th>No</th>\n",
       "      <th>Yes</th>\n",
       "    </tr>\n",
       "  </thead>\n",
       "  <tbody>\n",
       "    <tr>\n",
       "      <th>customer_id</th>\n",
       "      <td>0.61</td>\n",
       "      <td>0.39</td>\n",
       "    </tr>\n",
       "  </tbody>\n",
       "</table>\n",
       "</div>"
      ],
      "text/plain": [
       "streaming_movies    No   Yes\n",
       "customer_id       0.61  0.39"
      ]
     },
     "metadata": {},
     "output_type": "display_data"
    },
    {
     "name": "stdout",
     "output_type": "stream",
     "text": [
      "\n"
     ]
    },
    {
     "data": {
      "image/png": "[encoded data removed]",
      "text/plain": [
       "<Figure size 432x288 with 1 Axes>"
      ]
     },
     "metadata": {
      "needs_background": "light"
     },
     "output_type": "display_data"
    }
   ],
   "source": [
    "column_categ_info('streaming_movies',True)"
   ]
  },
  {
   "cell_type": "code",
   "execution_count": 75,
   "id": "37340647",
   "metadata": {},
   "outputs": [
    {
     "name": "stdout",
     "output_type": "stream",
     "text": [
      "Let us change Yes/No values to 1/0\n"
     ]
    }
   ],
   "source": [
    "yes_to_1('streaming_movies')"
   ]
  },
  {
   "cell_type": "markdown",
   "id": "36bf8677",
   "metadata": {},
   "source": [
    "**Notes**:\n",
    "* The distribution is the same as for `streaming_tv`"
   ]
  },
  {
   "cell_type": "markdown",
   "id": "b362111a",
   "metadata": {},
   "source": [
    "### `is_cancelled`"
   ]
  },
  {
   "cell_type": "code",
   "execution_count": 76,
   "id": "344f0177",
   "metadata": {},
   "outputs": [
    {
     "name": "stdout",
     "output_type": "stream",
     "text": [
      "Missed values procentage in is_cancelled: 0.000%\n",
      "\n",
      "Amount of unique values in is_cancelled: 2\n",
      "List of unique values in is_cancelled: ['0' '1']\n",
      "\n",
      "Share of customer for each value of the column \n"
     ]
    },
    {
     "data": {
      "text/html": [
       "<div>\n",
       "<style scoped>\n",
       "    .dataframe tbody tr th:only-of-type {\n",
       "        vertical-align: middle;\n",
       "    }\n",
       "\n",
       "    .dataframe tbody tr th {\n",
       "        vertical-align: top;\n",
       "    }\n",
       "\n",
       "    .dataframe thead th {\n",
       "        text-align: right;\n",
       "    }\n",
       "</style>\n",
       "<table border=\"1\" class=\"dataframe\">\n",
       "  <thead>\n",
       "    <tr style=\"text-align: right;\">\n",
       "      <th>is_cancelled</th>\n",
       "      <th>0</th>\n",
       "      <th>1</th>\n",
       "    </tr>\n",
       "  </thead>\n",
       "  <tbody>\n",
       "    <tr>\n",
       "      <th>customer_id</th>\n",
       "      <td>0.73</td>\n",
       "      <td>0.27</td>\n",
       "    </tr>\n",
       "  </tbody>\n",
       "</table>\n",
       "</div>"
      ],
      "text/plain": [
       "is_cancelled     0     1\n",
       "customer_id   0.73  0.27"
      ]
     },
     "metadata": {},
     "output_type": "display_data"
    },
    {
     "name": "stdout",
     "output_type": "stream",
     "text": [
      "\n"
     ]
    },
    {
     "data": {
      "image/png": "[encoded data removed]",
      "text/plain": [
       "<Figure size 432x288 with 1 Axes>"
      ]
     },
     "metadata": {
      "needs_background": "light"
     },
     "output_type": "display_data"
    }
   ],
   "source": [
    "column_categ_info('is_cancelled',False)"
   ]
  },
  {
   "cell_type": "code",
   "execution_count": 77,
   "id": "29e38230",
   "metadata": {},
   "outputs": [],
   "source": [
    "df['is_cancelled'] = df['is_cancelled'].astype('int64')"
   ]
  },
  {
   "cell_type": "code",
   "execution_count": 78,
   "id": "57b9acfe",
   "metadata": {},
   "outputs": [
    {
     "name": "stdout",
     "output_type": "stream",
     "text": [
      "<class 'pandas.core.frame.DataFrame'>\n",
      "Int64Index: 7032 entries, 0 to 7042\n",
      "Data columns (total 20 columns):\n",
      " #   Column             Non-Null Count  Dtype  \n",
      "---  ------             --------------  -----  \n",
      " 0   customer_id        7032 non-null   object \n",
      " 1   type               7032 non-null   object \n",
      " 2   paperless_billing  7032 non-null   int64  \n",
      " 3   payment_method     7032 non-null   object \n",
      " 4   monthly_charges    7032 non-null   float64\n",
      " 5   total_charges      7032 non-null   float64\n",
      " 6   gender             7032 non-null   int64  \n",
      " 7   senior_citizen     7032 non-null   int64  \n",
      " 8   partner            7032 non-null   int64  \n",
      " 9   dependents         7032 non-null   int64  \n",
      " 10  internet_service   7032 non-null   object \n",
      " 11  online_security    7032 non-null   int64  \n",
      " 12  online_backup      7032 non-null   int64  \n",
      " 13  device_protection  7032 non-null   int64  \n",
      " 14  tech_support       7032 non-null   int64  \n",
      " 15  streaming_tv       7032 non-null   int64  \n",
      " 16  streaming_movies   7032 non-null   int64  \n",
      " 17  multiple_lines     7032 non-null   int64  \n",
      " 18  is_cancelled       7032 non-null   int64  \n",
      " 19  duration           7032 non-null   int64  \n",
      "dtypes: float64(2), int64(14), object(4)\n",
      "memory usage: 1.1+ MB\n"
     ]
    }
   ],
   "source": [
    "df.info()"
   ]
  },
  {
   "cell_type": "markdown",
   "id": "df8077fa",
   "metadata": {},
   "source": [
    "**Notes**:\n",
    "* The classes are unbalanced"
   ]
  },
  {
   "cell_type": "code",
   "execution_count": 79,
   "id": "72a06c17",
   "metadata": {
    "scrolled": false
   },
   "outputs": [
    {
     "data": {
      "text/plain": [
       "customer_id          0\n",
       "type                 0\n",
       "paperless_billing    0\n",
       "payment_method       0\n",
       "monthly_charges      0\n",
       "total_charges        0\n",
       "gender               0\n",
       "senior_citizen       0\n",
       "partner              0\n",
       "dependents           0\n",
       "internet_service     0\n",
       "online_security      0\n",
       "online_backup        0\n",
       "device_protection    0\n",
       "tech_support         0\n",
       "streaming_tv         0\n",
       "streaming_movies     0\n",
       "multiple_lines       0\n",
       "is_cancelled         0\n",
       "duration             0\n",
       "dtype: int64"
      ]
     },
     "execution_count": 79,
     "metadata": {},
     "output_type": "execute_result"
    }
   ],
   "source": [
    "df.isnull().sum()"
   ]
  },
  {
   "cell_type": "markdown",
   "id": "07563d56",
   "metadata": {},
   "source": [
    "### Correlation"
   ]
  },
  {
   "cell_type": "markdown",
   "id": "4a132ae8",
   "metadata": {},
   "source": [
    "Below one can find the correlation between the features and target within this dataframe"
   ]
  },
  {
   "cell_type": "code",
   "execution_count": 80,
   "id": "4c9a1f36",
   "metadata": {
    "scrolled": false
   },
   "outputs": [
    {
     "data": {
      "image/png": "[encoded data removed]",
      "text/plain": [
       "<Figure size 1152x432 with 2 Axes>"
      ]
     },
     "metadata": {
      "needs_background": "light"
     },
     "output_type": "display_data"
    }
   ],
   "source": [
    "plt.figure(figsize=(16, 6))\n",
    "\n",
    "heatmap = sns.heatmap(df.corr(), vmin=-1, vmax=1, annot=True)\n",
    "\n",
    "heatmap.set_title('Correlation Heatmap', fontdict={'fontsize':12}, pad=12);"
   ]
  },
  {
   "cell_type": "markdown",
   "id": "c994a019",
   "metadata": {},
   "source": [
    "**Notes**:\n",
    "* There is a strong dependency between `duration` and `total_charges`. The last column should be omitted as it may lead to instabilities because the linear models performance may be significantly affected.\n",
    "* `gender`column does not have any correlation with other parameters and has the weakest relation to the target (`is_cancelled`)"
   ]
  },
  {
   "cell_type": "code",
   "execution_count": 81,
   "id": "50b9ba15",
   "metadata": {},
   "outputs": [],
   "source": [
    "df = df.drop(['total_charges'], axis=1)"
   ]
  },
  {
   "cell_type": "markdown",
   "id": "dbc9e7cf",
   "metadata": {},
   "source": [
    "#### Scatter matrix"
   ]
  },
  {
   "cell_type": "code",
   "execution_count": 82,
   "id": "9dd1f1a7",
   "metadata": {},
   "outputs": [
    {
     "data": {
      "image/png": "[encoded data removed]",
      "text/plain": [
       "<Figure size 1440x1440 with 225 Axes>"
      ]
     },
     "metadata": {
      "needs_background": "light"
     },
     "output_type": "display_data"
    }
   ],
   "source": [
    "pd.plotting.scatter_matrix(df,figsize=(20,20))\n",
    "plt.show()"
   ]
  },
  {
   "cell_type": "markdown",
   "id": "4bebddc4",
   "metadata": {},
   "source": [
    "## Required Clarifications"
   ]
  },
  {
   "cell_type": "markdown",
   "id": "0db33658",
   "metadata": {},
   "source": [
    "Based on data exploratory analysis following questions were formulated and passed to the Project Owner \n",
    "\n",
    "1. Are there any errors in data understanding section,i.e. did we understood all the values correctly?\n",
    "\n",
    "Yes, everything is correct\n",
    "\n",
    "2. Is it possible that the customers does not use the Internet connection service at all? \n",
    "\n",
    "Yes, it is possible\n",
    "\n",
    "3. Did we treat the missing data in an appropriate way?\n",
    "\n",
    "Yes, the missing data should not be omitted and can be substituted by \"unknown\"\n",
    "\n",
    "4. What value corresponds to the `monthly_charges`column? How it was calculated?\n",
    "\n",
    "This is the amount of money that were actually spend during this month\n",
    "\n",
    "5. Did we determined the target value right? \n",
    "\n",
    "Yes\n"
   ]
  },
  {
   "cell_type": "markdown",
   "id": "76691e2c",
   "metadata": {},
   "source": [
    "## Data Preparation"
   ]
  },
  {
   "cell_type": "markdown",
   "id": "ff7f5818",
   "metadata": {},
   "source": [
    "Let us omit the values that do not correlate with the target or create cross-correlation between features"
   ]
  },
  {
   "cell_type": "code",
   "execution_count": 83,
   "id": "df73c904",
   "metadata": {},
   "outputs": [],
   "source": [
    "df = df.drop(['streaming_movies','online_backup','online_security','gender'], axis=1)"
   ]
  },
  {
   "cell_type": "code",
   "execution_count": 84,
   "id": "34a1b456",
   "metadata": {},
   "outputs": [
    {
     "data": {
      "text/html": [
       "<div>\n",
       "<style scoped>\n",
       "    .dataframe tbody tr th:only-of-type {\n",
       "        vertical-align: middle;\n",
       "    }\n",
       "\n",
       "    .dataframe tbody tr th {\n",
       "        vertical-align: top;\n",
       "    }\n",
       "\n",
       "    .dataframe thead th {\n",
       "        text-align: right;\n",
       "    }\n",
       "</style>\n",
       "<table border=\"1\" class=\"dataframe\">\n",
       "  <thead>\n",
       "    <tr style=\"text-align: right;\">\n",
       "      <th></th>\n",
       "      <th>paperless_billing</th>\n",
       "      <th>monthly_charges</th>\n",
       "      <th>senior_citizen</th>\n",
       "      <th>partner</th>\n",
       "      <th>dependents</th>\n",
       "      <th>device_protection</th>\n",
       "      <th>tech_support</th>\n",
       "      <th>streaming_tv</th>\n",
       "      <th>multiple_lines</th>\n",
       "      <th>is_cancelled</th>\n",
       "      <th>duration</th>\n",
       "    </tr>\n",
       "  </thead>\n",
       "  <tbody>\n",
       "    <tr>\n",
       "      <th>count</th>\n",
       "      <td>7032.000000</td>\n",
       "      <td>7032.000000</td>\n",
       "      <td>7032.000000</td>\n",
       "      <td>7032.000000</td>\n",
       "      <td>7032.000000</td>\n",
       "      <td>7032.000000</td>\n",
       "      <td>7032.000000</td>\n",
       "      <td>7032.000000</td>\n",
       "      <td>7032.000000</td>\n",
       "      <td>7032.000000</td>\n",
       "      <td>7032.000000</td>\n",
       "    </tr>\n",
       "    <tr>\n",
       "      <th>mean</th>\n",
       "      <td>0.592719</td>\n",
       "      <td>64.798208</td>\n",
       "      <td>0.162400</td>\n",
       "      <td>0.482509</td>\n",
       "      <td>0.298493</td>\n",
       "      <td>0.343857</td>\n",
       "      <td>0.290102</td>\n",
       "      <td>0.384386</td>\n",
       "      <td>0.421928</td>\n",
       "      <td>0.265785</td>\n",
       "      <td>987.538538</td>\n",
       "    </tr>\n",
       "    <tr>\n",
       "      <th>std</th>\n",
       "      <td>0.491363</td>\n",
       "      <td>30.085974</td>\n",
       "      <td>0.368844</td>\n",
       "      <td>0.499729</td>\n",
       "      <td>0.457629</td>\n",
       "      <td>0.475028</td>\n",
       "      <td>0.453842</td>\n",
       "      <td>0.486484</td>\n",
       "      <td>0.493902</td>\n",
       "      <td>0.441782</td>\n",
       "      <td>747.153663</td>\n",
       "    </tr>\n",
       "    <tr>\n",
       "      <th>min</th>\n",
       "      <td>0.000000</td>\n",
       "      <td>18.250000</td>\n",
       "      <td>0.000000</td>\n",
       "      <td>0.000000</td>\n",
       "      <td>0.000000</td>\n",
       "      <td>0.000000</td>\n",
       "      <td>0.000000</td>\n",
       "      <td>0.000000</td>\n",
       "      <td>0.000000</td>\n",
       "      <td>0.000000</td>\n",
       "      <td>30.000000</td>\n",
       "    </tr>\n",
       "    <tr>\n",
       "      <th>25%</th>\n",
       "      <td>0.000000</td>\n",
       "      <td>35.587500</td>\n",
       "      <td>0.000000</td>\n",
       "      <td>0.000000</td>\n",
       "      <td>0.000000</td>\n",
       "      <td>0.000000</td>\n",
       "      <td>0.000000</td>\n",
       "      <td>0.000000</td>\n",
       "      <td>0.000000</td>\n",
       "      <td>0.000000</td>\n",
       "      <td>275.000000</td>\n",
       "    </tr>\n",
       "    <tr>\n",
       "      <th>50%</th>\n",
       "      <td>1.000000</td>\n",
       "      <td>70.350000</td>\n",
       "      <td>0.000000</td>\n",
       "      <td>0.000000</td>\n",
       "      <td>0.000000</td>\n",
       "      <td>0.000000</td>\n",
       "      <td>0.000000</td>\n",
       "      <td>0.000000</td>\n",
       "      <td>0.000000</td>\n",
       "      <td>0.000000</td>\n",
       "      <td>883.000000</td>\n",
       "    </tr>\n",
       "    <tr>\n",
       "      <th>75%</th>\n",
       "      <td>1.000000</td>\n",
       "      <td>89.862500</td>\n",
       "      <td>0.000000</td>\n",
       "      <td>1.000000</td>\n",
       "      <td>1.000000</td>\n",
       "      <td>1.000000</td>\n",
       "      <td>1.000000</td>\n",
       "      <td>1.000000</td>\n",
       "      <td>1.000000</td>\n",
       "      <td>1.000000</td>\n",
       "      <td>1676.000000</td>\n",
       "    </tr>\n",
       "    <tr>\n",
       "      <th>max</th>\n",
       "      <td>1.000000</td>\n",
       "      <td>118.750000</td>\n",
       "      <td>1.000000</td>\n",
       "      <td>1.000000</td>\n",
       "      <td>1.000000</td>\n",
       "      <td>1.000000</td>\n",
       "      <td>1.000000</td>\n",
       "      <td>1.000000</td>\n",
       "      <td>1.000000</td>\n",
       "      <td>1.000000</td>\n",
       "      <td>2191.000000</td>\n",
       "    </tr>\n",
       "  </tbody>\n",
       "</table>\n",
       "</div>"
      ],
      "text/plain": [
       "       paperless_billing  monthly_charges  senior_citizen      partner  \\\n",
       "count        7032.000000      7032.000000     7032.000000  7032.000000   \n",
       "mean            0.592719        64.798208        0.162400     0.482509   \n",
       "std             0.491363        30.085974        0.368844     0.499729   \n",
       "min             0.000000        18.250000        0.000000     0.000000   \n",
       "25%             0.000000        35.587500        0.000000     0.000000   \n",
       "50%             1.000000        70.350000        0.000000     0.000000   \n",
       "75%             1.000000        89.862500        0.000000     1.000000   \n",
       "max             1.000000       118.750000        1.000000     1.000000   \n",
       "\n",
       "        dependents  device_protection  tech_support  streaming_tv  \\\n",
       "count  7032.000000        7032.000000   7032.000000   7032.000000   \n",
       "mean      0.298493           0.343857      0.290102      0.384386   \n",
       "std       0.457629           0.475028      0.453842      0.486484   \n",
       "min       0.000000           0.000000      0.000000      0.000000   \n",
       "25%       0.000000           0.000000      0.000000      0.000000   \n",
       "50%       0.000000           0.000000      0.000000      0.000000   \n",
       "75%       1.000000           1.000000      1.000000      1.000000   \n",
       "max       1.000000           1.000000      1.000000      1.000000   \n",
       "\n",
       "       multiple_lines  is_cancelled     duration  \n",
       "count     7032.000000   7032.000000  7032.000000  \n",
       "mean         0.421928      0.265785   987.538538  \n",
       "std          0.493902      0.441782   747.153663  \n",
       "min          0.000000      0.000000    30.000000  \n",
       "25%          0.000000      0.000000   275.000000  \n",
       "50%          0.000000      0.000000   883.000000  \n",
       "75%          1.000000      1.000000  1676.000000  \n",
       "max          1.000000      1.000000  2191.000000  "
      ]
     },
     "execution_count": 84,
     "metadata": {},
     "output_type": "execute_result"
    }
   ],
   "source": [
    "df.describe()"
   ]
  },
  {
   "cell_type": "markdown",
   "id": "c52a524d",
   "metadata": {},
   "source": [
    "### Features and Target selection"
   ]
  },
  {
   "cell_type": "code",
   "execution_count": 85,
   "id": "01bf9f06",
   "metadata": {},
   "outputs": [],
   "source": [
    "features = []\n",
    "target = []\n",
    "\n",
    "features = df.drop(['is_cancelled','customer_id'], axis=1)\n",
    "target = df['is_cancelled']"
   ]
  },
  {
   "cell_type": "markdown",
   "id": "010ab09a",
   "metadata": {},
   "source": [
    "### Feature Engineering"
   ]
  },
  {
   "cell_type": "code",
   "execution_count": 86,
   "id": "1380756e",
   "metadata": {},
   "outputs": [],
   "source": [
    "features_train, features_test, target_train, target_test = train_test_split(\n",
    "    features, target, test_size=0.25, random_state=190922)\n",
    "\n",
    "# feature engineering for ohe encoder\n",
    "features_train_ohe, features_test_ohe, target_train_ohe, target_test_ohe = train_test_split(\n",
    "    features, target, test_size=0.25, random_state=190922)\n",
    "\n",
    "# feature engineering for ordinal encoder\n",
    "features_train_ordinal, features_test_ordinal, target_train_ordinal, target_test_ordinal = train_test_split(\n",
    "    features, target, test_size=0.25, random_state=190922)"
   ]
  },
  {
   "cell_type": "code",
   "execution_count": 87,
   "id": "0dd77618",
   "metadata": {},
   "outputs": [
    {
     "name": "stdout",
     "output_type": "stream",
     "text": [
      "Checking sample size\n",
      "\n",
      "features_train\n",
      "(5274, 13)\n",
      "features_test\n",
      "(1758, 13)\n",
      "features_train_ohe\n",
      "(5274, 13)\n",
      "features_test_ohe\n",
      "(1758, 13)\n",
      "features_train_ordinal\n",
      "(5274, 13)\n",
      "features_test_ordinal\n",
      "(1758, 13)\n"
     ]
    }
   ],
   "source": [
    "print('Checking sample size')\n",
    "print()\n",
    "names_list =  ['features_train', 'features_test', \n",
    "         'features_train_ohe','features_test_ohe',\n",
    "         'features_train_ordinal','features_test_ordinal']\n",
    "\n",
    "feature_list = [features_train, features_test, \n",
    "                features_train_ohe,features_test_ohe,\n",
    "                features_train_ordinal,features_test_ordinal]\n",
    "\n",
    "for i in range(len(feature_list)):\n",
    "    print(names_list[i])\n",
    "    print(feature_list[i].shape)"
   ]
  },
  {
   "cell_type": "markdown",
   "id": "1acf9bed",
   "metadata": {},
   "source": [
    "### Encoding"
   ]
  },
  {
   "cell_type": "markdown",
   "id": "82c922bc",
   "metadata": {},
   "source": [
    "#### List of categorical and numerical features"
   ]
  },
  {
   "cell_type": "code",
   "execution_count": 88,
   "id": "a1b7ef19",
   "metadata": {},
   "outputs": [],
   "source": [
    "binarization = 1\n",
    "\n",
    "if binarization == 1:\n",
    "    categories = ['type', 'payment_method','internet_service']\n",
    "    numeric = ['duration', 'monthly_charges','paperless_billing','senior_citizen',\n",
    "               'partner', 'dependents','device_protection', 'tech_support', 'streaming_tv','multiple_lines']\n",
    "    \n",
    "else:\n",
    "    categories = ['type', 'paperless_billing', 'payment_method','senior_citizen', 'partner', 'dependents',\n",
    "                  'internet_service', 'device_protection', 'tech_support', 'streaming_tv','multiple_lines']\n",
    "    numeric = ['duration', 'monthly_charges']    \n",
    "        "
   ]
  },
  {
   "cell_type": "markdown",
   "id": "d357976d",
   "metadata": {},
   "source": [
    "#### One-Hoot Encoding for linear models"
   ]
  },
  {
   "cell_type": "code",
   "execution_count": 89,
   "id": "079f371e",
   "metadata": {},
   "outputs": [],
   "source": [
    "features_train_ohe = pd.get_dummies(features_train[categories],drop_first=True)\n",
    "features_test_ohe = pd.get_dummies(features_test[categories],drop_first=True)"
   ]
  },
  {
   "cell_type": "markdown",
   "id": "f8c25bc2",
   "metadata": {},
   "source": [
    "#### Ordinal Encoding for trees models"
   ]
  },
  {
   "cell_type": "code",
   "execution_count": 90,
   "id": "560c387c",
   "metadata": {},
   "outputs": [],
   "source": [
    "encoder = OrdinalEncoder()\n",
    "features_train_ordinal = pd.DataFrame(encoder.fit_transform(features_train_ordinal),\n",
    "                            columns=features_train_ordinal.columns)\n",
    "features_test_ordinal = pd.DataFrame(encoder.fit_transform(features_test_ordinal),\n",
    "                            columns=features_test_ordinal.columns)"
   ]
  },
  {
   "cell_type": "markdown",
   "id": "55fc3042",
   "metadata": {},
   "source": [
    "### Scaling"
   ]
  },
  {
   "cell_type": "markdown",
   "id": "671a9cdb",
   "metadata": {},
   "source": [
    "Scaling is only required for Logistic Regression (this is a linear model). The numerical features include:`duration`, `monthly_charges`, `total_charges`"
   ]
  },
  {
   "cell_type": "code",
   "execution_count": 91,
   "id": "3c0a5b85",
   "metadata": {},
   "outputs": [],
   "source": [
    "scaler = StandardScaler()\n",
    "scaler.fit(features_train[numeric])\n",
    "    \n",
    "features_train_ohe[numeric] = scaler.transform(features_train[numeric])\n",
    "features_test_ohe[numeric] = scaler.transform(features_test[numeric])"
   ]
  },
  {
   "cell_type": "markdown",
   "id": "c2ec5c7d",
   "metadata": {},
   "source": [
    "## Training and Models Evaluation"
   ]
  },
  {
   "cell_type": "markdown",
   "id": "2f38ad4b",
   "metadata": {},
   "source": [
    "### Automatization Functions"
   ]
  },
  {
   "cell_type": "code",
   "execution_count": 92,
   "id": "44d313ed",
   "metadata": {},
   "outputs": [],
   "source": [
    "# Parameters fitting\n",
    "\n",
    "def run_GridSearchCV(model_name,model,search_space,metrics,features_set,target_set):\n",
    "    gs = GridSearchCV(estimator = model,\n",
    "                      param_grid=search_space,\n",
    "                      scoring=metrics,\n",
    "                      cv=5)\n",
    "    gs.fit(features_set,target_set)\n",
    "    print(f\"Model: {model_name}\")\n",
    "    print(f\"Best parameter set: {gs.best_params_}\")\n",
    "    #\n",
    "    print(f\"{metrics} with cross-validation: {gs.best_score_:.4f}\")\n",
    "    print()\n",
    "    print('Time:')\n",
    "    #\n",
    "    return gs"
   ]
  },
  {
   "cell_type": "code",
   "execution_count": 93,
   "id": "023da0be",
   "metadata": {},
   "outputs": [],
   "source": [
    "# Model evaluation (test selection)\n",
    "\n",
    "def model_results(model,model_name,features,target,features_name):\n",
    "    test_predictions = model.predict(features)\n",
    "    test_roc_auc = roc_auc_score(target, test_predictions)\n",
    "    metrics = 'AUC-ROC'\n",
    "    print(f\"Model: {model_name}\")\n",
    "    print(f\"Metrics on a {features_name} selection:\")\n",
    "    print()\n",
    "    print(f\"{metrics}: {test_roc_auc:.2f}\")\n",
    "    print()\n",
    "    print('Confusion matrix:')\n",
    "    print(confusion_matrix(target, test_predictions))\n",
    "    print()\n",
    "    test_recall = recall_score(target,test_predictions)\n",
    "    print(f'Recall: {test_recall:.2f}')\n",
    "    print()\n",
    "    test_precision = precision_score(target,test_predictions)\n",
    "    print(f'Precision: {test_precision:.2f}')"
   ]
  },
  {
   "cell_type": "code",
   "execution_count": 94,
   "id": "293cab10",
   "metadata": {},
   "outputs": [],
   "source": [
    "# Convergence plot\n",
    "\n",
    "def plot_mean_score(gs,search_space_gs,\n",
    "                    param_1_name,param_2_name,query_option,\n",
    "                    param_3_name,param_3_val,\n",
    "                    model_name,metrics,\n",
    "                    xlim1,xlim2,ylim1,ylim2):\n",
    "    \n",
    "    df_gs = pd.DataFrame(gs.cv_results_)\n",
    "    \n",
    "    search_space = search_space_gs\n",
    "        \n",
    "    for param in search_space[param_1_name]:\n",
    "        if query_option == 1:\n",
    "            query_line = \"param_\" + param_1_name + \" == '\" + param +\"'\"\n",
    "        if query_option == 2:\n",
    "            param=str(param)\n",
    "            query_line = \"param_\" + param_1_name + \" == \" + param\n",
    "        if query_option == 3:\n",
    "            param=str(param)\n",
    "            query_line = \"param_\" + param_1_name + \" == \" + param + ' & ' + \"param_\" + param_3_name + ' == ' + str(param_3_val)\n",
    "\n",
    "        plt.plot(df_gs.query(query_line)['param_'+param_2_name], \n",
    "             df_gs.query(query_line)[\"mean_test_score\"], label = param, marker='o')\n",
    "\n",
    "    plt.ylim(ylim1,ylim2)\n",
    "    plt.xlim(xlim1,xlim2)\n",
    "    plt.legend()\n",
    "    plt.ylabel(metrics)\n",
    "    plt.xlabel(param_2_name)\n",
    "    plt.title('Dependency of ' + metrics + ' on '+ param_2_name + ' for the ' + model_name)\n",
    "    plt.show()"
   ]
  },
  {
   "cell_type": "markdown",
   "id": "070cbb76",
   "metadata": {},
   "source": [
    "### Validation"
   ]
  },
  {
   "cell_type": "markdown",
   "id": "693972cd",
   "metadata": {},
   "source": [
    "#### Logistic Regression"
   ]
  },
  {
   "cell_type": "code",
   "execution_count": 95,
   "id": "d4922dd0",
   "metadata": {},
   "outputs": [
    {
     "name": "stdout",
     "output_type": "stream",
     "text": [
      "Model: LogisticRegression\n",
      "Best parameter set: {'max_iter': 100, 'solver': 'sag'}\n",
      "roc_auc with cross-validation: 0.8416\n",
      "\n",
      "Time:\n",
      "CPU times: total: 3.16 s\n",
      "Wall time: 3.14 s\n"
     ]
    }
   ],
   "source": [
    "%%time\n",
    "\n",
    "lr_model = LogisticRegression(class_weight='balanced',random_state=190922)\n",
    "\n",
    "search_space_lr = {\n",
    "    'solver': ['newton-cg', 'lbfgs', 'liblinear', 'sag', 'saga'],\n",
    "    'max_iter': [100,500,1000]\n",
    "}\n",
    "\n",
    "gs_lr = run_GridSearchCV('LogisticRegression',lr_model,search_space_lr,'roc_auc',features_train_ohe,target_train_ohe)\n"
   ]
  },
  {
   "cell_type": "code",
   "execution_count": 96,
   "id": "16985b17",
   "metadata": {},
   "outputs": [
    {
     "data": {
      "image/png": "[encoded data removed]",
      "text/plain": [
       "<Figure size 432x288 with 1 Axes>"
      ]
     },
     "metadata": {
      "needs_background": "light"
     },
     "output_type": "display_data"
    }
   ],
   "source": [
    "plot_mean_score(gs_lr,search_space_lr,\n",
    "                'solver','max_iter',1, 0, 0,\n",
    "                'LogisticRegression','roc_auc',50,1050,0.7,0.9)"
   ]
  },
  {
   "cell_type": "markdown",
   "id": "bab38321",
   "metadata": {},
   "source": [
    "**Notes:**\n",
    "* Model parameters fitting does not affect the results\n",
    "* Training time is low enough and metrics value for the test selection is adequate"
   ]
  },
  {
   "cell_type": "markdown",
   "id": "d25c43bd",
   "metadata": {},
   "source": [
    "#### Random Forest"
   ]
  },
  {
   "cell_type": "code",
   "execution_count": 97,
   "id": "144baf63",
   "metadata": {
    "scrolled": true
   },
   "outputs": [
    {
     "name": "stdout",
     "output_type": "stream",
     "text": [
      "Model: RandomForestClassifier\n",
      "Best parameter set: {'max_depth': 6, 'n_estimators': 91}\n",
      "roc_auc with cross-validation: 0.8541\n",
      "\n",
      "Time:\n",
      "CPU times: total: 1min 31s\n",
      "Wall time: 1min 32s\n"
     ]
    }
   ],
   "source": [
    "%%time\n",
    "\n",
    "rfc_model = RandomForestClassifier(random_state=190922,class_weight='balanced')\n",
    "\n",
    "search_space_rfc = {\n",
    "    'n_estimators': range(1,101,10),\n",
    "    'max_depth': range(1,51,5) \n",
    "}\n",
    "\n",
    "gs_rfc = run_GridSearchCV('RandomForestClassifier',rfc_model,search_space_rfc,\n",
    "                          'roc_auc',features_train_ordinal,target_train_ordinal)"
   ]
  },
  {
   "cell_type": "code",
   "execution_count": 98,
   "id": "f95f7749",
   "metadata": {},
   "outputs": [
    {
     "data": {
      "image/png": "[encoded data removed]",
      "text/plain": [
       "<Figure size 432x288 with 1 Axes>"
      ]
     },
     "metadata": {
      "needs_background": "light"
     },
     "output_type": "display_data"
    }
   ],
   "source": [
    "plot_mean_score(gs_rfc,search_space_rfc,\n",
    "                'n_estimators','max_depth',2,0,0,\n",
    "                'RandomForestClassifier','roc_auc',0,60,0.6,0.95)"
   ]
  },
  {
   "cell_type": "markdown",
   "id": "7832bd8a",
   "metadata": {},
   "source": [
    "**Notes:**\n",
    "* The peak value of ROC-AUC corresponds to max_depth=6. \n",
    "* The parameter fitting algorithm reaches convergence when max_depth > 20 and n_estimators > 21\n",
    "* GridSearchCV pick the parameters corresponding to the peak values of ROC-AUC and no to those observed after convergence\n",
    "* Training time is low enough and metrics value for the test selection is adequate"
   ]
  },
  {
   "cell_type": "markdown",
   "id": "4484a7c8",
   "metadata": {},
   "source": [
    "#### CatBoost"
   ]
  },
  {
   "cell_type": "code",
   "execution_count": 99,
   "id": "d670b5a1",
   "metadata": {},
   "outputs": [
    {
     "name": "stdout",
     "output_type": "stream",
     "text": [
      "<class 'pandas.core.frame.DataFrame'>\n",
      "Int64Index: 5274 entries, 2630 to 3579\n",
      "Data columns (total 13 columns):\n",
      " #   Column             Non-Null Count  Dtype  \n",
      "---  ------             --------------  -----  \n",
      " 0   type               5274 non-null   object \n",
      " 1   paperless_billing  5274 non-null   int64  \n",
      " 2   payment_method     5274 non-null   object \n",
      " 3   monthly_charges    5274 non-null   float64\n",
      " 4   senior_citizen     5274 non-null   int64  \n",
      " 5   partner            5274 non-null   int64  \n",
      " 6   dependents         5274 non-null   int64  \n",
      " 7   internet_service   5274 non-null   object \n",
      " 8   device_protection  5274 non-null   int64  \n",
      " 9   tech_support       5274 non-null   int64  \n",
      " 10  streaming_tv       5274 non-null   int64  \n",
      " 11  multiple_lines     5274 non-null   int64  \n",
      " 12  duration           5274 non-null   int64  \n",
      "dtypes: float64(1), int64(9), object(3)\n",
      "memory usage: 576.8+ KB\n"
     ]
    }
   ],
   "source": [
    "features_train.info()"
   ]
  },
  {
   "cell_type": "code",
   "execution_count": 100,
   "id": "feac5f23",
   "metadata": {},
   "outputs": [
    {
     "name": "stdout",
     "output_type": "stream",
     "text": [
      "Fitting 3 folds for each of 10 candidates, totalling 30 fits\n",
      "Model: CatBoostClassifier\n",
      "Best parameters: {'reg_lambda': 1, 'learning_rate': 0.25, 'iterations': 600, 'depth': 3}\n",
      "ROC_AUC with cross-validation: 0.9200\n",
      "\n",
      "CPU times: total: 26 s\n",
      "Wall time: 5min 14s\n"
     ]
    }
   ],
   "source": [
    "%%time\n",
    "from sklearn.model_selection import RandomizedSearchCV\n",
    "from sklearn.model_selection import StratifiedKFold\n",
    "\n",
    "cv = StratifiedKFold(n_splits=3)\n",
    "\n",
    "cbc_model = CatBoostClassifier(random_state=190922, verbose=False,\n",
    "                               loss_function='Logloss', auto_class_weights='Balanced', cat_features=categories)\n",
    "\n",
    "distributions = {'depth': [3, 6, 12],\n",
    "                 'learning_rate': [0.25, 0.5],\n",
    "                 'iterations': [600, 800],\n",
    "                 'reg_lambda': [0, 1, 3]}\n",
    "\n",
    "rscv_cb = RandomizedSearchCV(cbc_model, distributions, scoring='roc_auc', n_jobs=-1, verbose=1, cv=cv)\n",
    "rscv_cb.fit(features_train, target_train)\n",
    "\n",
    "print(f\"Model: CatBoostClassifier\")\n",
    "print(f\"Best parameters: {rscv_cb.best_params_}\")\n",
    "print(f\"ROC_AUC with cross-validation: {rscv_cb.best_score_:.4f}\")\n",
    "print()\n",
    "#print('Время:')\n",
    "\n",
    "\n"
   ]
  },
  {
   "cell_type": "markdown",
   "id": "5dedd87b",
   "metadata": {},
   "source": [
    "**Notes:**\n",
    "* Metrics value for the test selection is high enough, although training time is higher"
   ]
  },
  {
   "cell_type": "markdown",
   "id": "0c2871a7",
   "metadata": {},
   "source": [
    "#### Gradient Boosting with LGBM"
   ]
  },
  {
   "cell_type": "code",
   "execution_count": 101,
   "id": "580ec7df",
   "metadata": {},
   "outputs": [],
   "source": [
    "# Change types for categorical features\n",
    "\n",
    "for feature in categories:\n",
    "    features_train[feature] = pd.Series(features_train[feature], dtype=\"category\")\n",
    "    features_test[feature] = pd.Series(features_test[feature], dtype=\"category\")\n",
    "    \n",
    "features_train = features_train.drop(['device_protection','tech_support','streaming_tv','dependents'], axis=1)\n",
    "features_test = features_test.drop(['device_protection','tech_support','streaming_tv','dependents'], axis=1)\n",
    "\n",
    "cat = list(features_train.select_dtypes('object').columns)"
   ]
  },
  {
   "cell_type": "code",
   "execution_count": 102,
   "id": "1d07cd59",
   "metadata": {},
   "outputs": [
    {
     "name": "stdout",
     "output_type": "stream",
     "text": [
      "[LightGBM] [Warning] min_data_in_leaf is set=50, min_child_samples=20 will be ignored. Current value: min_data_in_leaf=50\n",
      "[LightGBM] [Warning] lambda_l1 is set=0, reg_alpha=0.5 will be ignored. Current value: lambda_l1=0\n",
      "[LightGBM] [Warning] lambda_l2 is set=1, reg_lambda=0.0 will be ignored. Current value: lambda_l2=1\n",
      "[LightGBM] [Warning] min_data_in_leaf is set=50, min_child_samples=20 will be ignored. Current value: min_data_in_leaf=50\n",
      "[LightGBM] [Warning] lambda_l1 is set=0, reg_alpha=0.5 will be ignored. Current value: lambda_l1=0\n",
      "[LightGBM] [Warning] lambda_l2 is set=1, reg_lambda=0.0 will be ignored. Current value: lambda_l2=1\n",
      "[LightGBM] [Warning] min_data_in_leaf is set=50, min_child_samples=20 will be ignored. Current value: min_data_in_leaf=50\n",
      "[LightGBM] [Warning] lambda_l1 is set=0, reg_alpha=0.5 will be ignored. Current value: lambda_l1=0\n",
      "[LightGBM] [Warning] lambda_l2 is set=1, reg_lambda=0.0 will be ignored. Current value: lambda_l2=1\n",
      "[LightGBM] [Warning] min_data_in_leaf is set=50, min_child_samples=20 will be ignored. Current value: min_data_in_leaf=50\n",
      "[LightGBM] [Warning] lambda_l1 is set=0, reg_alpha=0.5 will be ignored. Current value: lambda_l1=0\n",
      "[LightGBM] [Warning] lambda_l2 is set=1, reg_lambda=0.0 will be ignored. Current value: lambda_l2=1\n",
      "[LightGBM] [Warning] min_data_in_leaf is set=50, min_child_samples=20 will be ignored. Current value: min_data_in_leaf=50\n",
      "[LightGBM] [Warning] lambda_l1 is set=0, reg_alpha=0.5 will be ignored. Current value: lambda_l1=0\n",
      "[LightGBM] [Warning] lambda_l2 is set=1, reg_lambda=0.0 will be ignored. Current value: lambda_l2=1\n",
      "[LightGBM] [Warning] min_data_in_leaf is set=100, min_child_samples=20 will be ignored. Current value: min_data_in_leaf=100\n",
      "[LightGBM] [Warning] lambda_l1 is set=0, reg_alpha=0 will be ignored. Current value: lambda_l1=0\n",
      "[LightGBM] [Warning] lambda_l2 is set=0, reg_lambda=0.0 will be ignored. Current value: lambda_l2=0\n",
      "[LightGBM] [Warning] min_data_in_leaf is set=100, min_child_samples=20 will be ignored. Current value: min_data_in_leaf=100\n",
      "[LightGBM] [Warning] lambda_l1 is set=0, reg_alpha=0 will be ignored. Current value: lambda_l1=0\n",
      "[LightGBM] [Warning] lambda_l2 is set=0, reg_lambda=0.0 will be ignored. Current value: lambda_l2=0\n",
      "[LightGBM] [Warning] min_data_in_leaf is set=100, min_child_samples=20 will be ignored. Current value: min_data_in_leaf=100\n",
      "[LightGBM] [Warning] lambda_l1 is set=0, reg_alpha=0 will be ignored. Current value: lambda_l1=0\n",
      "[LightGBM] [Warning] lambda_l2 is set=0, reg_lambda=0.0 will be ignored. Current value: lambda_l2=0\n",
      "[LightGBM] [Warning] min_data_in_leaf is set=100, min_child_samples=20 will be ignored. Current value: min_data_in_leaf=100\n",
      "[LightGBM] [Warning] lambda_l1 is set=0, reg_alpha=0 will be ignored. Current value: lambda_l1=0\n",
      "[LightGBM] [Warning] lambda_l2 is set=0, reg_lambda=0.0 will be ignored. Current value: lambda_l2=0\n",
      "[LightGBM] [Warning] min_data_in_leaf is set=100, min_child_samples=20 will be ignored. Current value: min_data_in_leaf=100\n",
      "[LightGBM] [Warning] lambda_l1 is set=0, reg_alpha=0 will be ignored. Current value: lambda_l1=0\n",
      "[LightGBM] [Warning] lambda_l2 is set=0, reg_lambda=0.0 will be ignored. Current value: lambda_l2=0\n",
      "[LightGBM] [Warning] min_data_in_leaf is set=50, min_child_samples=20 will be ignored. Current value: min_data_in_leaf=50\n",
      "[LightGBM] [Warning] lambda_l1 is set=1.5, reg_alpha=0.5 will be ignored. Current value: lambda_l1=1.5\n",
      "[LightGBM] [Warning] lambda_l2 is set=1, reg_lambda=0.0 will be ignored. Current value: lambda_l2=1\n",
      "[LightGBM] [Warning] min_data_in_leaf is set=50, min_child_samples=20 will be ignored. Current value: min_data_in_leaf=50\n",
      "[LightGBM] [Warning] lambda_l1 is set=1.5, reg_alpha=0.5 will be ignored. Current value: lambda_l1=1.5\n",
      "[LightGBM] [Warning] lambda_l2 is set=1, reg_lambda=0.0 will be ignored. Current value: lambda_l2=1\n",
      "[LightGBM] [Warning] min_data_in_leaf is set=50, min_child_samples=20 will be ignored. Current value: min_data_in_leaf=50\n",
      "[LightGBM] [Warning] lambda_l1 is set=1.5, reg_alpha=0.5 will be ignored. Current value: lambda_l1=1.5\n",
      "[LightGBM] [Warning] lambda_l2 is set=1, reg_lambda=0.0 will be ignored. Current value: lambda_l2=1\n",
      "[LightGBM] [Warning] min_data_in_leaf is set=50, min_child_samples=20 will be ignored. Current value: min_data_in_leaf=50\n",
      "[LightGBM] [Warning] lambda_l1 is set=1.5, reg_alpha=0.5 will be ignored. Current value: lambda_l1=1.5\n",
      "[LightGBM] [Warning] lambda_l2 is set=1, reg_lambda=0.0 will be ignored. Current value: lambda_l2=1\n",
      "[LightGBM] [Warning] min_data_in_leaf is set=50, min_child_samples=20 will be ignored. Current value: min_data_in_leaf=50\n",
      "[LightGBM] [Warning] lambda_l1 is set=1.5, reg_alpha=0.5 will be ignored. Current value: lambda_l1=1.5\n",
      "[LightGBM] [Warning] lambda_l2 is set=1, reg_lambda=0.0 will be ignored. Current value: lambda_l2=1\n",
      "[LightGBM] [Warning] min_data_in_leaf is set=50, min_child_samples=20 will be ignored. Current value: min_data_in_leaf=50\n",
      "[LightGBM] [Warning] lambda_l1 is set=1, reg_alpha=0.1 will be ignored. Current value: lambda_l1=1\n",
      "[LightGBM] [Warning] lambda_l2 is set=0, reg_lambda=0.0 will be ignored. Current value: lambda_l2=0\n",
      "[LightGBM] [Warning] min_data_in_leaf is set=50, min_child_samples=20 will be ignored. Current value: min_data_in_leaf=50\n",
      "[LightGBM] [Warning] lambda_l1 is set=1, reg_alpha=0.1 will be ignored. Current value: lambda_l1=1\n",
      "[LightGBM] [Warning] lambda_l2 is set=0, reg_lambda=0.0 will be ignored. Current value: lambda_l2=0\n",
      "[LightGBM] [Warning] min_data_in_leaf is set=50, min_child_samples=20 will be ignored. Current value: min_data_in_leaf=50\n",
      "[LightGBM] [Warning] lambda_l1 is set=1, reg_alpha=0.1 will be ignored. Current value: lambda_l1=1\n",
      "[LightGBM] [Warning] lambda_l2 is set=0, reg_lambda=0.0 will be ignored. Current value: lambda_l2=0\n",
      "[LightGBM] [Warning] min_data_in_leaf is set=50, min_child_samples=20 will be ignored. Current value: min_data_in_leaf=50\n",
      "[LightGBM] [Warning] lambda_l1 is set=1, reg_alpha=0.1 will be ignored. Current value: lambda_l1=1\n",
      "[LightGBM] [Warning] lambda_l2 is set=0, reg_lambda=0.0 will be ignored. Current value: lambda_l2=0\n",
      "[LightGBM] [Warning] min_data_in_leaf is set=50, min_child_samples=20 will be ignored. Current value: min_data_in_leaf=50\n",
      "[LightGBM] [Warning] lambda_l1 is set=1, reg_alpha=0.1 will be ignored. Current value: lambda_l1=1\n",
      "[LightGBM] [Warning] lambda_l2 is set=0, reg_lambda=0.0 will be ignored. Current value: lambda_l2=0\n",
      "[LightGBM] [Warning] min_data_in_leaf is set=300, min_child_samples=20 will be ignored. Current value: min_data_in_leaf=300\n",
      "[LightGBM] [Warning] lambda_l1 is set=1, reg_alpha=0.5 will be ignored. Current value: lambda_l1=1\n",
      "[LightGBM] [Warning] lambda_l2 is set=0, reg_lambda=0.0 will be ignored. Current value: lambda_l2=0\n",
      "[LightGBM] [Warning] min_data_in_leaf is set=300, min_child_samples=20 will be ignored. Current value: min_data_in_leaf=300\n",
      "[LightGBM] [Warning] lambda_l1 is set=1, reg_alpha=0.5 will be ignored. Current value: lambda_l1=1\n",
      "[LightGBM] [Warning] lambda_l2 is set=0, reg_lambda=0.0 will be ignored. Current value: lambda_l2=0\n",
      "[LightGBM] [Warning] min_data_in_leaf is set=300, min_child_samples=20 will be ignored. Current value: min_data_in_leaf=300\n",
      "[LightGBM] [Warning] lambda_l1 is set=1, reg_alpha=0.5 will be ignored. Current value: lambda_l1=1\n",
      "[LightGBM] [Warning] lambda_l2 is set=0, reg_lambda=0.0 will be ignored. Current value: lambda_l2=0\n",
      "[LightGBM] [Warning] min_data_in_leaf is set=300, min_child_samples=20 will be ignored. Current value: min_data_in_leaf=300\n",
      "[LightGBM] [Warning] lambda_l1 is set=1, reg_alpha=0.5 will be ignored. Current value: lambda_l1=1\n",
      "[LightGBM] [Warning] lambda_l2 is set=0, reg_lambda=0.0 will be ignored. Current value: lambda_l2=0\n",
      "[LightGBM] [Warning] min_data_in_leaf is set=300, min_child_samples=20 will be ignored. Current value: min_data_in_leaf=300\n",
      "[LightGBM] [Warning] lambda_l1 is set=1, reg_alpha=0.5 will be ignored. Current value: lambda_l1=1\n",
      "[LightGBM] [Warning] lambda_l2 is set=0, reg_lambda=0.0 will be ignored. Current value: lambda_l2=0\n",
      "[LightGBM] [Warning] min_data_in_leaf is set=50, min_child_samples=20 will be ignored. Current value: min_data_in_leaf=50\n",
      "[LightGBM] [Warning] lambda_l1 is set=0, reg_alpha=0.5 will be ignored. Current value: lambda_l1=0\n",
      "[LightGBM] [Warning] lambda_l2 is set=1, reg_lambda=0.0 will be ignored. Current value: lambda_l2=1\n"
     ]
    },
    {
     "name": "stdout",
     "output_type": "stream",
     "text": [
      "[LightGBM] [Warning] min_data_in_leaf is set=50, min_child_samples=20 will be ignored. Current value: min_data_in_leaf=50\n",
      "[LightGBM] [Warning] lambda_l1 is set=0, reg_alpha=0.5 will be ignored. Current value: lambda_l1=0\n",
      "[LightGBM] [Warning] lambda_l2 is set=1, reg_lambda=0.0 will be ignored. Current value: lambda_l2=1\n",
      "[LightGBM] [Warning] min_data_in_leaf is set=50, min_child_samples=20 will be ignored. Current value: min_data_in_leaf=50\n",
      "[LightGBM] [Warning] lambda_l1 is set=0, reg_alpha=0.5 will be ignored. Current value: lambda_l1=0\n",
      "[LightGBM] [Warning] lambda_l2 is set=1, reg_lambda=0.0 will be ignored. Current value: lambda_l2=1\n",
      "[LightGBM] [Warning] min_data_in_leaf is set=50, min_child_samples=20 will be ignored. Current value: min_data_in_leaf=50\n",
      "[LightGBM] [Warning] lambda_l1 is set=0, reg_alpha=0.5 will be ignored. Current value: lambda_l1=0\n",
      "[LightGBM] [Warning] lambda_l2 is set=1, reg_lambda=0.0 will be ignored. Current value: lambda_l2=1\n",
      "[LightGBM] [Warning] min_data_in_leaf is set=50, min_child_samples=20 will be ignored. Current value: min_data_in_leaf=50\n",
      "[LightGBM] [Warning] lambda_l1 is set=0, reg_alpha=0.5 will be ignored. Current value: lambda_l1=0\n",
      "[LightGBM] [Warning] lambda_l2 is set=1, reg_lambda=0.0 will be ignored. Current value: lambda_l2=1\n",
      "[LightGBM] [Warning] min_data_in_leaf is set=100, min_child_samples=20 will be ignored. Current value: min_data_in_leaf=100\n",
      "[LightGBM] [Warning] lambda_l1 is set=0, reg_alpha=0 will be ignored. Current value: lambda_l1=0\n",
      "[LightGBM] [Warning] lambda_l2 is set=0, reg_lambda=0.0 will be ignored. Current value: lambda_l2=0\n",
      "[LightGBM] [Warning] min_data_in_leaf is set=100, min_child_samples=20 will be ignored. Current value: min_data_in_leaf=100\n",
      "[LightGBM] [Warning] lambda_l1 is set=0, reg_alpha=0 will be ignored. Current value: lambda_l1=0\n",
      "[LightGBM] [Warning] lambda_l2 is set=0, reg_lambda=0.0 will be ignored. Current value: lambda_l2=0\n",
      "[LightGBM] [Warning] min_data_in_leaf is set=100, min_child_samples=20 will be ignored. Current value: min_data_in_leaf=100\n",
      "[LightGBM] [Warning] lambda_l1 is set=0, reg_alpha=0 will be ignored. Current value: lambda_l1=0\n",
      "[LightGBM] [Warning] lambda_l2 is set=0, reg_lambda=0.0 will be ignored. Current value: lambda_l2=0\n",
      "[LightGBM] [Warning] min_data_in_leaf is set=100, min_child_samples=20 will be ignored. Current value: min_data_in_leaf=100\n",
      "[LightGBM] [Warning] lambda_l1 is set=0, reg_alpha=0 will be ignored. Current value: lambda_l1=0\n",
      "[LightGBM] [Warning] lambda_l2 is set=0, reg_lambda=0.0 will be ignored. Current value: lambda_l2=0\n",
      "[LightGBM] [Warning] min_data_in_leaf is set=100, min_child_samples=20 will be ignored. Current value: min_data_in_leaf=100\n",
      "[LightGBM] [Warning] lambda_l1 is set=0, reg_alpha=0 will be ignored. Current value: lambda_l1=0\n",
      "[LightGBM] [Warning] lambda_l2 is set=0, reg_lambda=0.0 will be ignored. Current value: lambda_l2=0\n",
      "[LightGBM] [Warning] min_data_in_leaf is set=50, min_child_samples=20 will be ignored. Current value: min_data_in_leaf=50\n",
      "[LightGBM] [Warning] lambda_l1 is set=1, reg_alpha=0 will be ignored. Current value: lambda_l1=1\n",
      "[LightGBM] [Warning] lambda_l2 is set=1, reg_lambda=0.0 will be ignored. Current value: lambda_l2=1\n",
      "[LightGBM] [Warning] min_data_in_leaf is set=50, min_child_samples=20 will be ignored. Current value: min_data_in_leaf=50\n",
      "[LightGBM] [Warning] lambda_l1 is set=1, reg_alpha=0 will be ignored. Current value: lambda_l1=1\n",
      "[LightGBM] [Warning] lambda_l2 is set=1, reg_lambda=0.0 will be ignored. Current value: lambda_l2=1\n",
      "[LightGBM] [Warning] min_data_in_leaf is set=50, min_child_samples=20 will be ignored. Current value: min_data_in_leaf=50\n",
      "[LightGBM] [Warning] lambda_l1 is set=1, reg_alpha=0 will be ignored. Current value: lambda_l1=1\n",
      "[LightGBM] [Warning] lambda_l2 is set=1, reg_lambda=0.0 will be ignored. Current value: lambda_l2=1\n",
      "[LightGBM] [Warning] min_data_in_leaf is set=50, min_child_samples=20 will be ignored. Current value: min_data_in_leaf=50\n",
      "[LightGBM] [Warning] lambda_l1 is set=1, reg_alpha=0 will be ignored. Current value: lambda_l1=1\n",
      "[LightGBM] [Warning] lambda_l2 is set=1, reg_lambda=0.0 will be ignored. Current value: lambda_l2=1\n",
      "[LightGBM] [Warning] min_data_in_leaf is set=50, min_child_samples=20 will be ignored. Current value: min_data_in_leaf=50\n",
      "[LightGBM] [Warning] lambda_l1 is set=1, reg_alpha=0 will be ignored. Current value: lambda_l1=1\n",
      "[LightGBM] [Warning] lambda_l2 is set=1, reg_lambda=0.0 will be ignored. Current value: lambda_l2=1\n",
      "[LightGBM] [Warning] min_data_in_leaf is set=300, min_child_samples=20 will be ignored. Current value: min_data_in_leaf=300\n",
      "[LightGBM] [Warning] lambda_l1 is set=1.5, reg_alpha=0 will be ignored. Current value: lambda_l1=1.5\n",
      "[LightGBM] [Warning] lambda_l2 is set=1, reg_lambda=0.0 will be ignored. Current value: lambda_l2=1\n",
      "[LightGBM] [Warning] min_data_in_leaf is set=300, min_child_samples=20 will be ignored. Current value: min_data_in_leaf=300\n",
      "[LightGBM] [Warning] lambda_l1 is set=1.5, reg_alpha=0 will be ignored. Current value: lambda_l1=1.5\n",
      "[LightGBM] [Warning] lambda_l2 is set=1, reg_lambda=0.0 will be ignored. Current value: lambda_l2=1\n",
      "[LightGBM] [Warning] min_data_in_leaf is set=300, min_child_samples=20 will be ignored. Current value: min_data_in_leaf=300\n",
      "[LightGBM] [Warning] lambda_l1 is set=1.5, reg_alpha=0 will be ignored. Current value: lambda_l1=1.5\n",
      "[LightGBM] [Warning] lambda_l2 is set=1, reg_lambda=0.0 will be ignored. Current value: lambda_l2=1\n",
      "[LightGBM] [Warning] min_data_in_leaf is set=300, min_child_samples=20 will be ignored. Current value: min_data_in_leaf=300\n",
      "[LightGBM] [Warning] lambda_l1 is set=1.5, reg_alpha=0 will be ignored. Current value: lambda_l1=1.5\n",
      "[LightGBM] [Warning] lambda_l2 is set=1, reg_lambda=0.0 will be ignored. Current value: lambda_l2=1\n",
      "[LightGBM] [Warning] min_data_in_leaf is set=300, min_child_samples=20 will be ignored. Current value: min_data_in_leaf=300\n",
      "[LightGBM] [Warning] lambda_l1 is set=1.5, reg_alpha=0 will be ignored. Current value: lambda_l1=1.5\n",
      "[LightGBM] [Warning] lambda_l2 is set=1, reg_lambda=0.0 will be ignored. Current value: lambda_l2=1\n",
      "[LightGBM] [Warning] min_data_in_leaf is set=100, min_child_samples=20 will be ignored. Current value: min_data_in_leaf=100\n",
      "[LightGBM] [Warning] lambda_l1 is set=0, reg_alpha=0 will be ignored. Current value: lambda_l1=0\n",
      "[LightGBM] [Warning] lambda_l2 is set=1, reg_lambda=0.0 will be ignored. Current value: lambda_l2=1\n",
      "[LightGBM] [Warning] min_data_in_leaf is set=100, min_child_samples=20 will be ignored. Current value: min_data_in_leaf=100\n",
      "[LightGBM] [Warning] lambda_l1 is set=0, reg_alpha=0 will be ignored. Current value: lambda_l1=0\n",
      "[LightGBM] [Warning] lambda_l2 is set=1, reg_lambda=0.0 will be ignored. Current value: lambda_l2=1\n",
      "[LightGBM] [Warning] min_data_in_leaf is set=100, min_child_samples=20 will be ignored. Current value: min_data_in_leaf=100\n",
      "[LightGBM] [Warning] lambda_l1 is set=0, reg_alpha=0 will be ignored. Current value: lambda_l1=0\n",
      "[LightGBM] [Warning] lambda_l2 is set=1, reg_lambda=0.0 will be ignored. Current value: lambda_l2=1\n",
      "[LightGBM] [Warning] min_data_in_leaf is set=100, min_child_samples=20 will be ignored. Current value: min_data_in_leaf=100\n",
      "[LightGBM] [Warning] lambda_l1 is set=0, reg_alpha=0 will be ignored. Current value: lambda_l1=0\n",
      "[LightGBM] [Warning] lambda_l2 is set=1, reg_lambda=0.0 will be ignored. Current value: lambda_l2=1\n",
      "[LightGBM] [Warning] min_data_in_leaf is set=100, min_child_samples=20 will be ignored. Current value: min_data_in_leaf=100\n",
      "[LightGBM] [Warning] lambda_l1 is set=0, reg_alpha=0 will be ignored. Current value: lambda_l1=0\n",
      "[LightGBM] [Warning] lambda_l2 is set=1, reg_lambda=0.0 will be ignored. Current value: lambda_l2=1\n",
      "[LightGBM] [Warning] min_data_in_leaf is set=50, min_child_samples=20 will be ignored. Current value: min_data_in_leaf=50\n",
      "[LightGBM] [Warning] lambda_l1 is set=1, reg_alpha=0 will be ignored. Current value: lambda_l1=1\n",
      "[LightGBM] [Warning] lambda_l2 is set=1, reg_lambda=0.0 will be ignored. Current value: lambda_l2=1\n",
      "\n",
      "Model: lgmb_model\n",
      "Best parameters: {'reg_alpha': 0, 'num_leaves': 31, 'n_estimators': 300, 'min_data_in_leaf': 50, 'max_depth': 20, 'learning_rate': 0.1, 'lambda_l2': 1, 'lambda_l1': 1}\n",
      "ROC_AUC with cross-validation: 0.9030\n",
      "\n",
      "Time:\n",
      "CPU times: total: 1min 1s\n",
      "Wall time: 15.3 s\n"
     ]
    }
   ],
   "source": [
    "%%time\n",
    "\n",
    "lgmb_model = lgb.LGBMClassifier(is_unbalance = True,random_state=190922)\n",
    "\n",
    "distributions = {\n",
    "    'learning_rate': [0.05,0.1,0.2,0.5],\n",
    "    'n_estimators': [300, 500, 700],\n",
    "    'max_depth': [-1,5,10,20],\n",
    "    'num_leaves': [31, 127,254],\n",
    "    'reg_alpha': [0, 0.1, 0.5],    \n",
    "    'min_data_in_leaf': [50, 100, 300],\n",
    "    'lambda_l1': [0, 1, 1.5],\n",
    "#     'class_weight': [{0: x, 1: 1.0-x} for x in weights],\n",
    "    'lambda_l2': [0, 1]\n",
    "}\n",
    "\n",
    "LGBM_rscv = RandomizedSearchCV(lgmb_model, distributions, scoring='roc_auc', cv=5)\n",
    "LGBM_rscv.fit(features_train, target_train)\n",
    "\n",
    "print()\n",
    "print(f\"Model: lgmb_model\")\n",
    "print(f\"Best parameters: {LGBM_rscv.best_params_}\")\n",
    "print(f\"ROC_AUC with cross-validation: {LGBM_rscv.best_score_:.4f}\")\n",
    "print()\n",
    "print('Time:')"
   ]
  },
  {
   "cell_type": "markdown",
   "id": "9fcdeff6",
   "metadata": {},
   "source": [
    "### Testing"
   ]
  },
  {
   "cell_type": "markdown",
   "id": "43686b2d",
   "metadata": {},
   "source": [
    "#### CatBoost"
   ]
  },
  {
   "cell_type": "code",
   "execution_count": 106,
   "id": "0ea71a41",
   "metadata": {
    "scrolled": true
   },
   "outputs": [
    {
     "name": "stdout",
     "output_type": "stream",
     "text": [
      "Fitting 3 folds for each of 10 candidates, totalling 30 fits\n",
      "Model: CatBoostClassifier\n",
      "Best parameters: {'reg_lambda': 3, 'learning_rate': 0.25, 'iterations': 600, 'depth': 3}\n",
      "ROC_AUC with cross-validation: 0.9192\n",
      "\n",
      "Time:\n"
     ]
    }
   ],
   "source": [
    "cv = StratifiedKFold(n_splits=3)\n",
    "\n",
    "cbc_model = CatBoostClassifier(random_state=190922, verbose=False,\n",
    "                               loss_function='Logloss', auto_class_weights='Balanced', cat_features=categories)\n",
    "\n",
    "distributions = {'depth': [3, 6, 12],\n",
    "                 'learning_rate': [0.25, 0.5],\n",
    "                 'iterations': [600, 800],\n",
    "                 'reg_lambda': [0, 1, 3]}\n",
    "\n",
    "rscv_cb = RandomizedSearchCV(cbc_model, distributions, scoring='roc_auc', n_jobs=-1, verbose=1, cv=cv)\n",
    "rscv_cb.fit(features_train, target_train)\n",
    "\n",
    "print(f\"Model: CatBoostClassifier\")\n",
    "print(f\"Best parameters: {rscv_cb.best_params_}\")\n",
    "print(f\"ROC_AUC with cross-validation: {rscv_cb.best_score_:.4f}\")\n",
    "print()\n",
    "print('Time:')"
   ]
  },
  {
   "cell_type": "markdown",
   "id": "c116bceb",
   "metadata": {},
   "source": [
    "#### LGBM"
   ]
  },
  {
   "cell_type": "markdown",
   "id": "cc9eb514",
   "metadata": {},
   "source": [
    "Let us also see the results for LGBM model and compare it to CatBoost model"
   ]
  },
  {
   "cell_type": "code",
   "execution_count": 104,
   "id": "01793a64",
   "metadata": {},
   "outputs": [
    {
     "name": "stdout",
     "output_type": "stream",
     "text": [
      "Model: LGBM\n",
      "Metrics on a test semple selection:\n",
      "\n",
      "AUC-ROC: 0.82\n",
      "\n",
      "Confusion matrix:\n",
      "[[1113  179]\n",
      " [ 103  363]]\n",
      "\n",
      "Recall: 0.78\n",
      "\n",
      "Precision: 0.67\n",
      "\n",
      "Time:\n",
      "CPU times: total: 125 ms\n",
      "Wall time: 31.3 ms\n"
     ]
    }
   ],
   "source": [
    "%%time\n",
    "\n",
    "model_results(LGBM_rscv.best_estimator_,'LGBM',features_test,target_test,'test semple')\n",
    "\n",
    "print()\n",
    "print('Time:')"
   ]
  },
  {
   "cell_type": "markdown",
   "id": "156a4c5a",
   "metadata": {},
   "source": [
    "#### Feature importance"
   ]
  },
  {
   "cell_type": "code",
   "execution_count": 107,
   "id": "022bb6f0",
   "metadata": {},
   "outputs": [
    {
     "data": {
      "image/png": "[encoded data removed]",
      "text/plain": [
       "<Figure size 648x432 with 1 Axes>"
      ]
     },
     "metadata": {
      "needs_background": "light"
     },
     "output_type": "display_data"
    }
   ],
   "source": [
    "feature_importance = rscv_cb.best_estimator_.feature_importances_\n",
    "sorted_idx = np.argsort(feature_importance)\n",
    "fig = plt.figure(figsize=(9, 6))\n",
    "plt.barh(range(len(sorted_idx)), feature_importance[sorted_idx], align='center')\n",
    "plt.yticks(range(len(sorted_idx)), np.array(features_test.columns)[sorted_idx])\n",
    "plt.title('Feature Importance для CatBoost')\n",
    "plt.show()\n"
   ]
  },
  {
   "cell_type": "code",
   "execution_count": 108,
   "id": "5dd8fae7",
   "metadata": {},
   "outputs": [
    {
     "data": {
      "image/png": "[encoded data removed]",
      "text/plain": [
       "<Figure size 648x432 with 1 Axes>"
      ]
     },
     "metadata": {
      "needs_background": "light"
     },
     "output_type": "display_data"
    }
   ],
   "source": [
    "lgb.plot_importance(LGBM_rscv.best_estimator_, max_num_features = 60, height=0.9,figsize=(9, 6))\n",
    "plt.title('Feature Importance for LGBM')\n",
    "plt.show()"
   ]
  },
  {
   "cell_type": "markdown",
   "id": "a9c356d4",
   "metadata": {},
   "source": [
    "**Notes**:\n",
    "* The most important features is the duration of the contract and the monthly charges"
   ]
  },
  {
   "cell_type": "markdown",
   "id": "2a8022ae",
   "metadata": {},
   "source": [
    "## Conclusion"
   ]
  },
  {
   "cell_type": "markdown",
   "id": "288a1f95",
   "metadata": {},
   "source": [
    "As a result of this project, we have developed a predictive model aimed at anticipating customer churn for the Telecom company (The Project Owner). This model will be used to prevent customer churn since it can identify at-risk customers. Based on this data, the marketing team of the Project owner can offer special conditions, discounts, or promotional codes for those customers and thus prevent the churn. \n",
    "\n",
    "Important aspects of this research are summarized below. "
   ]
  },
  {
   "cell_type": "markdown",
   "id": "66068f22",
   "metadata": {},
   "source": [
    "### Data Desription"
   ]
  },
  {
   "cell_type": "markdown",
   "id": "2ae119b8",
   "metadata": {},
   "source": [
    "The data on customers personal information was collected and provided by the Project Owner. These were allocated in one dataframe (Part 1 of this report)."
   ]
  },
  {
   "cell_type": "markdown",
   "id": "bf3e1658",
   "metadata": {},
   "source": [
    "### Data Preprocessing"
   ]
  },
  {
   "cell_type": "markdown",
   "id": "966e9639",
   "metadata": {},
   "source": [
    "As part of the data preprocessing, we addressed several issues, including handling missing data and performing necessary data type replacements. We observed that it is better to represent the contract duration in days than to operate with the start and end days of the contract. The target feature was also identified, which indicates whether or not a contract was terminated.\n",
    "\n",
    "During the preprocessing of the data, we encountered missing values in the `internet_service column`, which occurred primarily when customers did not sign up to use Internet services. In these cases, we substituted the value \"No\" in the `internet_service` column. A similar replacement of \"No\" was done for related features such as `online_security`, `online_backup`, `device_protection`, `tech_support`, `streaming_tv`, and `streaming_movies`.\n",
    "\n",
    "We analyzed the distribution of customers within each feature after the data processing. It became apparent that the majority of customers did not use the Internet and related services. Moreover, there was an imbalance in classes for the target attribute, as only 23% of the customers in the sample had their contracts terminated.\n",
    "\n",
    "Additionally, we observed a strong correlation between the 'duration' and `total_charges features`. It was decided to remove the `total_charges` feature from the data frame. More details on this can be found in section 4 of this report."
   ]
  },
  {
   "cell_type": "markdown",
   "id": "3be5ff1f",
   "metadata": {},
   "source": [
    "### Data Preparation"
   ]
  },
  {
   "cell_type": "markdown",
   "id": "95d15417",
   "metadata": {},
   "source": [
    "After data preprocessing, we prepared the data to select features and target, which were then encoded, scaled, etc. depending on the requirement of a particular model. For example, scaling was applied only for the LogisticRegretion, as generally required for a linear model. Encoding was performed only for the RandomForest model. Gradient boosting models, such as CatBoost and LGBM, do not require such prior feature processing."
   ]
  },
  {
   "cell_type": "markdown",
   "id": "8b0c61c2",
   "metadata": {},
   "source": [
    "### Choosing the Best Model"
   ]
  },
  {
   "cell_type": "markdown",
   "id": "a4fa9e12",
   "metadata": {},
   "source": [
    "Using GridSearchCV and RandomizedSearchCV the best set of parameters was found for each model. The performance of each model is summarized below. "
   ]
  },
  {
   "cell_type": "markdown",
   "id": "26ec9d91",
   "metadata": {},
   "source": [
    "#### Validation results"
   ]
  },
  {
   "cell_type": "markdown",
   "id": "8e865416",
   "metadata": {},
   "source": [
    "**Model: LogisticRegression**\n",
    "* Best parameter set: {'max_iter': 100, 'solver': 'sag'}\n",
    "* ROC_AUC with cross-validation: 0.8416\n",
    "* CPU times: total: 3.06 s\n",
    "* Wall time: 2.34 s\n",
    "\n",
    "\n",
    "**Model: RandomForestClassifier**\n",
    "* Best parameter set: {'max_depth': 6, 'n_estimators': 91}\n",
    "* ROC_AUC with cross-validation: 0.8541\n",
    "* CPU times: total: 1 min 11 s\n",
    "* Wall time: 1 min 1 1s\n",
    "\n",
    "\n",
    "**Model: CatBoost**\n",
    "* Best parameter set: {'reg_lambda': 1, 'learning_rate': 0.25, 'iterations': 800, 'depth': 3}\n",
    "* ROC_AUC with cross-validation: 0.9176\n",
    "* CPU times: total: 38.5 s\n",
    "* Wall time: 8 min 15 s\n",
    "\n",
    "\n",
    "**Model: LGBM**\n",
    "* Best parameter set: {'reg_alpha': 0.5, 'num_leaves': 31, 'n_estimators': 300, 'min_data_in_leaf': 50, 'max_depth': 20, 'learning_rate': 0.1, 'lambda_l2': 1, 'lambda_l1': 1.5}\n",
    "* ROC_AUC with cross-validation: 0.9015\n",
    "* CPU times: total: 47.5 s\n",
    "* Wall time: 12 s"
   ]
  },
  {
   "cell_type": "markdown",
   "id": "dca8d841",
   "metadata": {},
   "source": [
    "#### Testing results"
   ]
  },
  {
   "cell_type": "markdown",
   "id": "1a0fdca5",
   "metadata": {},
   "source": [
    "Based on validation results, the following models were selected for testing: CatBoost (as a primary one) and LGBM.\n",
    "\n",
    "**Model: CatBoost**\n",
    "* ROC_AUC with cross-validation: 0.86\n",
    "* Confusion matrix:[[1144  148],[  75  391]]\n",
    "* Recall: 0.84\n",
    "* Precision: 0.73\n",
    "* CPU times: total: 46.9 ms\n",
    "* Wall time: 22.5 ms\n",
    "\n",
    "\n",
    "**Model: LGBM**\n",
    "* ROC_AUC with cross-validation: 0.82\n",
    "* Confusion matrix: [[1105  187], [  99  367]]\n",
    "* Recall: 0.79\n",
    "* Precision: 0.66\n",
    "* CPU times: total: 125 ms\n",
    "* Wall time: 3.8 ms"
   ]
  },
  {
   "cell_type": "markdown",
   "id": "96643a31",
   "metadata": {},
   "source": [
    "#### Analysis of difficulties encountered during this research"
   ]
  },
  {
   "cell_type": "markdown",
   "id": "58083c0c",
   "metadata": {},
   "source": [
    "The following notes are important for future work and should be taken into account while working on similar projects.\n",
    "\n",
    "* Initially, `duration` column represented contract durations in months. However, after converting it to days, a slight increase in the metrics was observed.\n",
    "* Due to the anticipated high duration of GridSearchCV with boosting models, RandomizedSearchCV was used as an alternative to speed up the process.\n",
    "* The pool of parameters was significantly expanded, and their value ranges were widened during the course of work to improve model performance.\n",
    "* Attempting to improve Precision and Recall metrics for LGBM, the class balance was modified using is_balanced, but this change did not significantly impact the metrics.\n",
    "* Based on correlation coefficients, the`total_charges` column was excluded due to its high correlation with duration. However, excluding duration instead of `total_charges` did not affect the results.\n",
    "* Features such as `device_protection`, `tech_support`, `streaming_tv`, and `dependents` were excluded from consideration based on their low importance for LGBM. Expanding the number of excluded features didn't lead to significant improvements in model quality. In contrast, for the CatBoost model, no features were excluded, as it achieved adequate ROC-AUC metrics even with the full feature set.\n",
    "\n",
    "In conclusion, the difficulties arose from the attempt to tailor features specifically for each model. Alongside data preprocessing, this step is crucial in the model development process."
   ]
  },
  {
   "cell_type": "markdown",
   "id": "59faf0fb",
   "metadata": {},
   "source": [
    "### Final model and Feature Importance"
   ]
  },
  {
   "cell_type": "markdown",
   "id": "f6fee5c3",
   "metadata": {},
   "source": [
    "Based on the ROC-AUC metrics, considering cross-validation on the training set, the CatBoost and the LGBM models were marked as promising models. Finally, the Catboost model ('reg_lambda': 1, 'learning_rate': 0.25, 'iterations': 800, 'depth': 3) was chosen as the best model in this work. On the test sample, the model achieved an ROC-AUC value of 0.86, surpassing the threshold posed by the customer.\n",
    "\n",
    "Furthermore, a feature importance study revealed that the most influential features are duration and monthly_charges. This information can be Based on the ROC-AUC metrics, considering cross-validation on the training set, the CatBoost and the LGBM models were marked as the promising models. Finally, the Catboost model ('reg_lambda': 1, 'learning_rate': 0.25, 'iterations': 800, 'depth': 3) was chosen as the best model in this work. On the test sample, the model achieved an ROC-AUC value of 0.86, surpassing the threshold posed by the customer."
   ]
  }
 ],
 "metadata": {
  "ExecuteTimeLog": [
   {
    "duration": 1983,
    "start_time": "2022-05-10T18:38:36.229Z"
   },
   {
    "duration": 178,
    "start_time": "2022-05-10T18:38:38.214Z"
   },
   {
    "duration": 12,
    "start_time": "2022-05-10T18:38:38.394Z"
   },
   {
    "duration": 40,
    "start_time": "2022-05-10T18:38:38.408Z"
   },
   {
    "duration": 15,
    "start_time": "2022-05-10T18:38:38.449Z"
   },
   {
    "duration": 32,
    "start_time": "2022-05-10T18:38:38.466Z"
   },
   {
    "duration": 41,
    "start_time": "2022-05-10T18:38:38.500Z"
   },
   {
    "duration": 39,
    "start_time": "2022-05-10T18:38:38.543Z"
   },
   {
    "duration": 42,
    "start_time": "2022-05-10T18:38:38.584Z"
   },
   {
    "duration": 24,
    "start_time": "2022-05-10T18:38:38.629Z"
   },
   {
    "duration": 31,
    "start_time": "2022-05-10T18:38:38.655Z"
   },
   {
    "duration": 38,
    "start_time": "2022-05-10T18:38:38.688Z"
   },
   {
    "duration": 258,
    "start_time": "2022-05-10T18:38:38.728Z"
   },
   {
    "duration": 164,
    "start_time": "2022-05-10T18:38:38.987Z"
   },
   {
    "duration": 3,
    "start_time": "2022-05-10T18:38:39.153Z"
   },
   {
    "duration": 19,
    "start_time": "2022-05-10T18:38:39.157Z"
   },
   {
    "duration": 2416,
    "start_time": "2022-05-10T18:38:39.178Z"
   },
   {
    "duration": 186,
    "start_time": "2022-05-10T18:38:41.595Z"
   },
   {
    "duration": 2,
    "start_time": "2022-05-10T18:38:41.783Z"
   },
   {
    "duration": 11,
    "start_time": "2022-05-10T18:38:41.787Z"
   },
   {
    "duration": 7336,
    "start_time": "2022-05-10T18:38:41.800Z"
   },
   {
    "duration": 405,
    "start_time": "2022-05-10T18:38:49.139Z"
   },
   {
    "duration": 7,
    "start_time": "2022-05-10T18:38:49.546Z"
   },
   {
    "duration": 19,
    "start_time": "2022-05-10T18:38:49.554Z"
   },
   {
    "duration": 6,
    "start_time": "2022-05-10T18:38:49.574Z"
   },
   {
    "duration": 1616,
    "start_time": "2022-05-23T18:37:56.484Z"
   },
   {
    "duration": 434,
    "start_time": "2022-05-23T18:37:58.102Z"
   },
   {
    "duration": 22,
    "start_time": "2022-05-23T18:37:58.538Z"
   },
   {
    "duration": 6,
    "start_time": "2022-05-23T18:37:58.563Z"
   },
   {
    "duration": 29,
    "start_time": "2022-05-23T18:37:58.571Z"
   },
   {
    "duration": 12,
    "start_time": "2022-05-23T18:37:58.602Z"
   },
   {
    "duration": 33,
    "start_time": "2022-05-23T18:37:58.616Z"
   },
   {
    "duration": 6,
    "start_time": "2022-05-23T18:37:58.651Z"
   },
   {
    "duration": 15,
    "start_time": "2022-05-23T18:37:58.660Z"
   },
   {
    "duration": 31,
    "start_time": "2022-05-23T18:37:58.678Z"
   },
   {
    "duration": 36,
    "start_time": "2022-05-23T18:37:58.712Z"
   },
   {
    "duration": 6,
    "start_time": "2022-05-23T18:37:58.750Z"
   },
   {
    "duration": 9,
    "start_time": "2022-05-23T18:37:58.758Z"
   },
   {
    "duration": 35,
    "start_time": "2022-05-23T18:37:58.769Z"
   },
   {
    "duration": 21,
    "start_time": "2022-05-23T18:37:58.806Z"
   },
   {
    "duration": 8,
    "start_time": "2022-05-23T18:37:58.829Z"
   },
   {
    "duration": 10,
    "start_time": "2022-05-23T18:37:58.839Z"
   },
   {
    "duration": 9,
    "start_time": "2022-05-23T18:37:58.851Z"
   },
   {
    "duration": 16,
    "start_time": "2022-05-23T18:37:58.863Z"
   },
   {
    "duration": 5,
    "start_time": "2022-05-23T18:37:58.895Z"
   },
   {
    "duration": 15,
    "start_time": "2022-05-23T18:37:58.902Z"
   },
   {
    "duration": 188,
    "start_time": "2022-05-23T18:37:58.919Z"
   },
   {
    "duration": 3,
    "start_time": "2022-05-23T18:37:59.109Z"
   },
   {
    "duration": 31,
    "start_time": "2022-05-23T18:37:59.125Z"
   },
   {
    "duration": 2101,
    "start_time": "2022-05-23T18:37:59.159Z"
   },
   {
    "duration": 19,
    "start_time": "2022-05-23T18:38:01.262Z"
   },
   {
    "duration": 63,
    "start_time": "2022-05-23T18:38:01.284Z"
   },
   {
    "duration": 172,
    "start_time": "2022-05-23T18:38:01.352Z"
   },
   {
    "duration": 4,
    "start_time": "2022-05-23T18:38:01.527Z"
   },
   {
    "duration": 26,
    "start_time": "2022-05-23T18:38:01.533Z"
   },
   {
    "duration": 2625,
    "start_time": "2022-05-23T18:38:01.561Z"
   },
   {
    "duration": 15,
    "start_time": "2022-05-23T18:38:04.188Z"
   },
   {
    "duration": 198,
    "start_time": "2022-05-23T18:38:04.205Z"
   },
   {
    "duration": 4,
    "start_time": "2022-05-23T18:38:04.405Z"
   },
   {
    "duration": 8,
    "start_time": "2022-05-23T18:38:04.411Z"
   },
   {
    "duration": 8309,
    "start_time": "2022-05-23T18:38:04.422Z"
   },
   {
    "duration": 11,
    "start_time": "2022-05-23T18:38:12.733Z"
   },
   {
    "duration": 188,
    "start_time": "2022-05-23T18:38:12.746Z"
   },
   {
    "duration": 3,
    "start_time": "2022-05-23T18:38:12.937Z"
   },
   {
    "duration": 8,
    "start_time": "2022-05-23T18:38:12.942Z"
   },
   {
    "duration": 83855,
    "start_time": "2022-05-23T18:38:12.952Z"
   },
   {
    "duration": 13,
    "start_time": "2022-05-23T18:39:36.809Z"
   },
   {
    "duration": 559,
    "start_time": "2022-05-23T18:39:36.823Z"
   },
   {
    "duration": 13,
    "start_time": "2022-05-23T18:39:37.384Z"
   },
   {
    "duration": 50,
    "start_time": "2022-05-23T18:39:37.399Z"
   },
   {
    "duration": 181,
    "start_time": "2022-05-23T18:39:37.451Z"
   },
   {
    "duration": 32,
    "start_time": "2022-05-23T18:39:37.634Z"
   },
   {
    "duration": 195,
    "start_time": "2022-05-23T18:39:37.667Z"
   },
   {
    "duration": 131,
    "start_time": "2022-05-23T18:39:37.864Z"
   },
   {
    "duration": 371,
    "start_time": "2022-05-23T18:39:38.003Z"
   },
   {
    "duration": 1945,
    "start_time": "2022-05-31T16:15:16.994Z"
   },
   {
    "duration": 977,
    "start_time": "2022-05-31T16:15:18.942Z"
   },
   {
    "duration": 4,
    "start_time": "2022-05-31T16:15:19.921Z"
   },
   {
    "duration": 76,
    "start_time": "2022-05-31T16:15:19.926Z"
   },
   {
    "duration": 189,
    "start_time": "2022-05-31T16:15:20.005Z"
   },
   {
    "duration": 15,
    "start_time": "2022-05-31T16:15:20.195Z"
   },
   {
    "duration": 77,
    "start_time": "2022-05-31T16:15:20.212Z"
   },
   {
    "duration": 34,
    "start_time": "2022-05-31T16:15:20.291Z"
   },
   {
    "duration": 50,
    "start_time": "2022-05-31T16:15:20.327Z"
   },
   {
    "duration": 104,
    "start_time": "2022-05-31T16:15:20.379Z"
   },
   {
    "duration": 1083,
    "start_time": "2022-05-31T16:15:20.486Z"
   },
   {
    "duration": 14,
    "start_time": "2022-05-31T16:15:21.574Z"
   },
   {
    "duration": 30,
    "start_time": "2022-05-31T16:15:21.595Z"
   },
   {
    "duration": 9,
    "start_time": "2022-05-31T16:15:21.628Z"
   },
   {
    "duration": 8,
    "start_time": "2022-05-31T16:15:21.639Z"
   },
   {
    "duration": 8,
    "start_time": "2022-05-31T16:15:21.648Z"
   },
   {
    "duration": 37,
    "start_time": "2022-05-31T16:15:21.658Z"
   },
   {
    "duration": 2659,
    "start_time": "2022-05-31T16:15:21.698Z"
   },
   {
    "duration": 260,
    "start_time": "2022-05-31T16:15:24.359Z"
   },
   {
    "duration": 8,
    "start_time": "2022-05-31T16:15:24.621Z"
   },
   {
    "duration": 5,
    "start_time": "2022-05-31T16:16:03.203Z"
   },
   {
    "duration": 5,
    "start_time": "2022-05-31T16:16:05.731Z"
   },
   {
    "duration": 5,
    "start_time": "2022-05-31T16:16:09.830Z"
   },
   {
    "duration": 5,
    "start_time": "2022-05-31T16:16:11.957Z"
   },
   {
    "duration": 5,
    "start_time": "2022-05-31T16:20:22.921Z"
   },
   {
    "duration": 2393,
    "start_time": "2022-05-31T16:20:23.159Z"
   },
   {
    "duration": 5,
    "start_time": "2022-05-31T16:20:28.748Z"
   },
   {
    "duration": 2407,
    "start_time": "2022-05-31T16:20:28.971Z"
   },
   {
    "duration": 237,
    "start_time": "2022-05-31T16:20:31.385Z"
   },
   {
    "duration": 5,
    "start_time": "2022-05-31T16:20:33.549Z"
   },
   {
    "duration": 6,
    "start_time": "2022-05-31T16:20:33.732Z"
   },
   {
    "duration": 2016,
    "start_time": "2022-07-14T03:36:16.821Z"
   },
   {
    "duration": 3446,
    "start_time": "2022-07-14T03:36:18.839Z"
   },
   {
    "duration": 27,
    "start_time": "2022-07-14T03:36:25.295Z"
   },
   {
    "duration": 4,
    "start_time": "2022-07-14T03:36:47.064Z"
   },
   {
    "duration": 3,
    "start_time": "2022-07-14T03:36:54.760Z"
   },
   {
    "duration": 4,
    "start_time": "2022-07-14T03:37:07.877Z"
   },
   {
    "duration": 3,
    "start_time": "2022-07-14T03:37:13.290Z"
   },
   {
    "duration": 3,
    "start_time": "2022-07-14T03:37:17.230Z"
   },
   {
    "duration": 5,
    "start_time": "2022-07-14T03:37:52.289Z"
   },
   {
    "duration": 3,
    "start_time": "2022-07-14T03:38:00.865Z"
   },
   {
    "duration": 360,
    "start_time": "2022-07-14T03:39:07.730Z"
   },
   {
    "duration": 21,
    "start_time": "2022-07-14T03:39:08.226Z"
   },
   {
    "duration": 45,
    "start_time": "2022-07-14T03:39:17.823Z"
   },
   {
    "duration": 13,
    "start_time": "2022-07-14T03:39:23.036Z"
   },
   {
    "duration": 37,
    "start_time": "2022-07-14T03:39:31.023Z"
   },
   {
    "duration": 16,
    "start_time": "2022-07-14T03:40:02.340Z"
   },
   {
    "duration": 41,
    "start_time": "2022-07-14T03:40:08.326Z"
   },
   {
    "duration": 274,
    "start_time": "2022-07-14T03:40:26.557Z"
   },
   {
    "duration": 505,
    "start_time": "2022-07-14T03:40:29.364Z"
   },
   {
    "duration": 18,
    "start_time": "2022-07-14T03:40:32.137Z"
   },
   {
    "duration": 15,
    "start_time": "2022-07-14T03:40:54.246Z"
   },
   {
    "duration": 36,
    "start_time": "2022-07-14T03:40:55.380Z"
   },
   {
    "duration": 272,
    "start_time": "2022-07-14T03:41:22.223Z"
   },
   {
    "duration": 17,
    "start_time": "2022-07-14T03:41:39.158Z"
   },
   {
    "duration": 535,
    "start_time": "2022-07-14T03:41:39.820Z"
   },
   {
    "duration": 61,
    "start_time": "2022-07-14T03:42:08.618Z"
   },
   {
    "duration": 452,
    "start_time": "2022-07-14T03:42:09.924Z"
   },
   {
    "duration": 224,
    "start_time": "2022-07-14T03:42:15.273Z"
   },
   {
    "duration": 15,
    "start_time": "2022-07-14T03:42:59.830Z"
   },
   {
    "duration": 21,
    "start_time": "2022-07-14T03:43:00.818Z"
   },
   {
    "duration": 57,
    "start_time": "2022-07-14T03:43:14.662Z"
   },
   {
    "duration": 15,
    "start_time": "2022-07-14T03:43:40.770Z"
   },
   {
    "duration": 60,
    "start_time": "2022-07-14T03:43:46.178Z"
   },
   {
    "duration": 34,
    "start_time": "2022-07-14T03:44:06.136Z"
   },
   {
    "duration": 353,
    "start_time": "2022-07-14T03:44:09.331Z"
   },
   {
    "duration": 185,
    "start_time": "2022-07-14T03:44:14.884Z"
   },
   {
    "duration": 4,
    "start_time": "2022-07-14T03:44:26.688Z"
   },
   {
    "duration": 176,
    "start_time": "2022-07-14T03:46:25.484Z"
   },
   {
    "duration": 14,
    "start_time": "2022-07-14T03:46:45.121Z"
   },
   {
    "duration": 318,
    "start_time": "2022-07-14T03:46:46.934Z"
   },
   {
    "duration": 15,
    "start_time": "2022-07-14T03:46:53.672Z"
   },
   {
    "duration": 34,
    "start_time": "2022-07-14T03:47:16.090Z"
   },
   {
    "duration": 505,
    "start_time": "2022-07-14T03:47:16.718Z"
   },
   {
    "duration": 262,
    "start_time": "2022-07-14T03:47:18.565Z"
   },
   {
    "duration": 283,
    "start_time": "2022-07-14T03:47:26.028Z"
   },
   {
    "duration": 13,
    "start_time": "2022-07-14T03:47:30.079Z"
   },
   {
    "duration": 239,
    "start_time": "2022-07-14T03:47:34.230Z"
   },
   {
    "duration": 38,
    "start_time": "2022-07-14T03:47:59.582Z"
   },
   {
    "duration": 236,
    "start_time": "2022-07-14T03:48:13.030Z"
   },
   {
    "duration": 256,
    "start_time": "2022-07-14T03:48:19.278Z"
   },
   {
    "duration": 17,
    "start_time": "2022-07-14T03:48:22.419Z"
   },
   {
    "duration": 15,
    "start_time": "2022-07-14T03:49:02.886Z"
   },
   {
    "duration": 288,
    "start_time": "2022-07-14T03:49:05.262Z"
   },
   {
    "duration": 31,
    "start_time": "2022-07-14T03:49:10.293Z"
   },
   {
    "duration": 219,
    "start_time": "2022-07-14T03:49:17.085Z"
   },
   {
    "duration": 36,
    "start_time": "2022-07-14T03:49:19.996Z"
   },
   {
    "duration": 4,
    "start_time": "2022-07-14T03:49:41.332Z"
   },
   {
    "duration": 12,
    "start_time": "2022-07-14T03:49:41.925Z"
   },
   {
    "duration": 36,
    "start_time": "2022-07-14T03:49:46.254Z"
   },
   {
    "duration": 19,
    "start_time": "2022-07-14T03:49:47.047Z"
   },
   {
    "duration": 229,
    "start_time": "2022-07-14T03:50:18.629Z"
   },
   {
    "duration": 264,
    "start_time": "2022-07-14T03:50:19.694Z"
   },
   {
    "duration": 19,
    "start_time": "2022-07-14T03:51:15.826Z"
   },
   {
    "duration": 114,
    "start_time": "2022-07-14T03:51:29.477Z"
   },
   {
    "duration": 22,
    "start_time": "2022-07-14T03:51:34.937Z"
   },
   {
    "duration": 131,
    "start_time": "2022-07-14T03:52:18.704Z"
   },
   {
    "duration": 902,
    "start_time": "2022-07-14T03:53:28.544Z"
   },
   {
    "duration": 31,
    "start_time": "2022-07-14T03:54:34.564Z"
   },
   {
    "duration": 35,
    "start_time": "2022-07-14T03:54:54.947Z"
   },
   {
    "duration": 408,
    "start_time": "2022-07-14T03:57:02.159Z"
   },
   {
    "duration": 3,
    "start_time": "2022-07-14T03:58:53.781Z"
   },
   {
    "duration": 51,
    "start_time": "2022-07-14T20:34:37.569Z"
   },
   {
    "duration": 53,
    "start_time": "2022-07-14T20:38:35.242Z"
   },
   {
    "duration": 3,
    "start_time": "2022-07-14T20:43:01.979Z"
   },
   {
    "duration": 50,
    "start_time": "2022-07-14T20:44:43.986Z"
   },
   {
    "duration": 1574,
    "start_time": "2022-07-14T20:44:53.375Z"
   },
   {
    "duration": 1231,
    "start_time": "2022-07-14T20:44:54.951Z"
   },
   {
    "duration": 4,
    "start_time": "2022-07-14T20:44:56.184Z"
   },
   {
    "duration": 140,
    "start_time": "2022-07-14T20:44:56.190Z"
   },
   {
    "duration": 3,
    "start_time": "2022-07-14T20:44:56.333Z"
   },
   {
    "duration": 17,
    "start_time": "2022-07-14T20:44:56.338Z"
   },
   {
    "duration": 6,
    "start_time": "2022-07-14T20:44:56.357Z"
   },
   {
    "duration": 8,
    "start_time": "2022-07-14T20:44:56.365Z"
   },
   {
    "duration": 7,
    "start_time": "2022-07-14T20:44:56.375Z"
   },
   {
    "duration": 17,
    "start_time": "2022-07-14T20:44:56.384Z"
   },
   {
    "duration": 4,
    "start_time": "2022-07-14T20:44:56.402Z"
   },
   {
    "duration": 297,
    "start_time": "2022-07-14T20:44:56.407Z"
   },
   {
    "duration": 18,
    "start_time": "2022-07-14T20:44:56.705Z"
   },
   {
    "duration": 39,
    "start_time": "2022-07-14T20:44:56.725Z"
   },
   {
    "duration": 11,
    "start_time": "2022-07-14T20:44:56.765Z"
   },
   {
    "duration": 32,
    "start_time": "2022-07-14T20:44:56.802Z"
   },
   {
    "duration": 15,
    "start_time": "2022-07-14T20:44:56.836Z"
   },
   {
    "duration": 48,
    "start_time": "2022-07-14T20:44:56.853Z"
   },
   {
    "duration": 41,
    "start_time": "2022-07-14T20:44:56.903Z"
   },
   {
    "duration": 250,
    "start_time": "2022-07-14T20:44:56.946Z"
   },
   {
    "duration": 431,
    "start_time": "2022-07-14T20:44:57.198Z"
   },
   {
    "duration": 15,
    "start_time": "2022-07-14T20:44:57.631Z"
   },
   {
    "duration": 14,
    "start_time": "2022-07-14T20:44:57.648Z"
   },
   {
    "duration": 44,
    "start_time": "2022-07-14T20:44:57.663Z"
   },
   {
    "duration": 20,
    "start_time": "2022-07-14T20:44:57.708Z"
   },
   {
    "duration": 259,
    "start_time": "2022-07-14T20:44:57.730Z"
   },
   {
    "duration": 22,
    "start_time": "2022-07-14T20:44:57.990Z"
   },
   {
    "duration": 470,
    "start_time": "2022-07-14T20:44:58.014Z"
   },
   {
    "duration": 77,
    "start_time": "2022-07-14T20:44:58.487Z"
   },
   {
    "duration": 387,
    "start_time": "2022-07-14T20:44:58.566Z"
   },
   {
    "duration": 202,
    "start_time": "2022-07-14T20:44:58.955Z"
   },
   {
    "duration": 14,
    "start_time": "2022-07-14T20:44:59.159Z"
   },
   {
    "duration": 28,
    "start_time": "2022-07-14T20:44:59.176Z"
   },
   {
    "duration": 41,
    "start_time": "2022-07-14T20:44:59.207Z"
   },
   {
    "duration": 16,
    "start_time": "2022-07-14T20:44:59.250Z"
   },
   {
    "duration": 91,
    "start_time": "2022-07-14T20:44:59.268Z"
   },
   {
    "duration": 44,
    "start_time": "2022-07-14T20:44:59.361Z"
   },
   {
    "duration": 273,
    "start_time": "2022-07-14T20:44:59.407Z"
   },
   {
    "duration": 148,
    "start_time": "2022-07-14T20:44:59.681Z"
   },
   {
    "duration": 11,
    "start_time": "2022-07-14T20:44:59.831Z"
   },
   {
    "duration": 240,
    "start_time": "2022-07-14T20:44:59.847Z"
   },
   {
    "duration": 22,
    "start_time": "2022-07-14T20:45:00.089Z"
   },
   {
    "duration": 20,
    "start_time": "2022-07-14T20:45:00.112Z"
   },
   {
    "duration": 352,
    "start_time": "2022-07-14T20:45:00.134Z"
   },
   {
    "duration": 216,
    "start_time": "2022-07-14T20:45:00.487Z"
   },
   {
    "duration": 398,
    "start_time": "2022-07-14T20:45:00.705Z"
   },
   {
    "duration": 12,
    "start_time": "2022-07-14T20:45:01.104Z"
   },
   {
    "duration": 422,
    "start_time": "2022-07-14T20:45:01.118Z"
   },
   {
    "duration": 74,
    "start_time": "2022-07-14T20:45:01.542Z"
   },
   {
    "duration": 513,
    "start_time": "2022-07-14T20:45:01.618Z"
   },
   {
    "duration": 68,
    "start_time": "2022-07-14T20:45:02.133Z"
   },
   {
    "duration": 10,
    "start_time": "2022-07-14T20:45:02.203Z"
   },
   {
    "duration": 414,
    "start_time": "2022-07-14T20:45:02.215Z"
   },
   {
    "duration": 12,
    "start_time": "2022-07-14T20:45:02.630Z"
   },
   {
    "duration": 166,
    "start_time": "2022-07-14T20:45:02.645Z"
   },
   {
    "duration": 16,
    "start_time": "2022-07-14T20:45:02.813Z"
   },
   {
    "duration": 5,
    "start_time": "2022-07-14T20:45:02.831Z"
   },
   {
    "duration": 14,
    "start_time": "2022-07-14T20:45:02.837Z"
   },
   {
    "duration": 64,
    "start_time": "2022-07-14T20:45:02.853Z"
   },
   {
    "duration": 20,
    "start_time": "2022-07-14T20:45:02.919Z"
   },
   {
    "duration": 190,
    "start_time": "2022-07-14T20:45:02.944Z"
   },
   {
    "duration": 210,
    "start_time": "2022-07-14T20:45:03.136Z"
   },
   {
    "duration": 14,
    "start_time": "2022-07-14T20:45:03.348Z"
   },
   {
    "duration": 103,
    "start_time": "2022-07-14T20:45:03.364Z"
   },
   {
    "duration": 697,
    "start_time": "2022-07-14T20:45:03.468Z"
   },
   {
    "duration": 467,
    "start_time": "2022-07-14T20:45:04.167Z"
   },
   {
    "duration": 5,
    "start_time": "2022-07-14T20:45:04.635Z"
   },
   {
    "duration": 7,
    "start_time": "2022-07-14T20:45:04.641Z"
   },
   {
    "duration": 8,
    "start_time": "2022-07-14T20:45:04.649Z"
   },
   {
    "duration": 296,
    "start_time": "2022-07-14T20:45:04.659Z"
   },
   {
    "duration": 61,
    "start_time": "2022-07-14T20:45:04.957Z"
   },
   {
    "duration": 57,
    "start_time": "2022-07-14T20:45:05.020Z"
   },
   {
    "duration": 64,
    "start_time": "2022-07-14T20:45:05.079Z"
   },
   {
    "duration": 68,
    "start_time": "2022-07-14T20:45:05.144Z"
   },
   {
    "duration": 459,
    "start_time": "2022-07-14T20:45:05.214Z"
   },
   {
    "duration": 80,
    "start_time": "2022-07-14T20:45:05.675Z"
   },
   {
    "duration": 3,
    "start_time": "2022-07-14T20:45:05.757Z"
   },
   {
    "duration": 68,
    "start_time": "2022-07-14T20:45:05.761Z"
   },
   {
    "duration": 8,
    "start_time": "2022-07-14T20:45:05.830Z"
   },
   {
    "duration": 398,
    "start_time": "2022-07-14T20:45:45.337Z"
   },
   {
    "duration": 19789,
    "start_time": "2022-07-14T20:45:48.015Z"
   },
   {
    "duration": 304,
    "start_time": "2022-07-14T20:48:36.601Z"
   },
   {
    "duration": 188,
    "start_time": "2022-07-14T20:48:49.013Z"
   },
   {
    "duration": 178,
    "start_time": "2022-07-14T20:48:55.133Z"
   },
   {
    "duration": 144680,
    "start_time": "2022-07-14T20:49:29.691Z"
   },
   {
    "duration": 395,
    "start_time": "2022-07-14T20:52:16.513Z"
   },
   {
    "duration": 2,
    "start_time": "2022-07-14T20:52:22.473Z"
   },
   {
    "duration": 4579,
    "start_time": "2022-07-14T20:52:24.629Z"
   },
   {
    "duration": 482,
    "start_time": "2022-07-14T20:52:31.537Z"
   },
   {
    "duration": 584,
    "start_time": "2022-07-14T20:52:36.917Z"
   },
   {
    "duration": 3,
    "start_time": "2022-07-14T20:53:11.504Z"
   },
   {
    "duration": 4,
    "start_time": "2022-07-14T20:53:13.821Z"
   },
   {
    "duration": 1271,
    "start_time": "2022-07-14T21:10:46.942Z"
   },
   {
    "duration": 761,
    "start_time": "2022-07-14T21:10:48.215Z"
   },
   {
    "duration": 3,
    "start_time": "2022-07-14T21:10:48.978Z"
   },
   {
    "duration": 140,
    "start_time": "2022-07-14T21:10:48.982Z"
   },
   {
    "duration": 3,
    "start_time": "2022-07-14T21:10:49.124Z"
   },
   {
    "duration": 11,
    "start_time": "2022-07-14T21:10:49.129Z"
   },
   {
    "duration": 7,
    "start_time": "2022-07-14T21:10:49.141Z"
   },
   {
    "duration": 8,
    "start_time": "2022-07-14T21:10:49.150Z"
   },
   {
    "duration": 7,
    "start_time": "2022-07-14T21:10:49.160Z"
   },
   {
    "duration": 10,
    "start_time": "2022-07-14T21:10:49.168Z"
   },
   {
    "duration": 6,
    "start_time": "2022-07-14T21:10:49.179Z"
   },
   {
    "duration": 280,
    "start_time": "2022-07-14T21:10:49.186Z"
   },
   {
    "duration": 16,
    "start_time": "2022-07-14T21:10:49.468Z"
   },
   {
    "duration": 46,
    "start_time": "2022-07-14T21:10:49.487Z"
   },
   {
    "duration": 11,
    "start_time": "2022-07-14T21:10:49.534Z"
   },
   {
    "duration": 30,
    "start_time": "2022-07-14T21:10:49.546Z"
   },
   {
    "duration": 34,
    "start_time": "2022-07-14T21:10:49.577Z"
   },
   {
    "duration": 14,
    "start_time": "2022-07-14T21:10:49.612Z"
   },
   {
    "duration": 38,
    "start_time": "2022-07-14T21:10:49.627Z"
   },
   {
    "duration": 225,
    "start_time": "2022-07-14T21:10:49.666Z"
   },
   {
    "duration": 367,
    "start_time": "2022-07-14T21:10:49.893Z"
   },
   {
    "duration": 17,
    "start_time": "2022-07-14T21:10:50.261Z"
   },
   {
    "duration": 24,
    "start_time": "2022-07-14T21:10:50.279Z"
   },
   {
    "duration": 18,
    "start_time": "2022-07-14T21:10:50.304Z"
   },
   {
    "duration": 21,
    "start_time": "2022-07-14T21:10:50.324Z"
   },
   {
    "duration": 238,
    "start_time": "2022-07-14T21:10:50.347Z"
   },
   {
    "duration": 25,
    "start_time": "2022-07-14T21:10:50.587Z"
   },
   {
    "duration": 423,
    "start_time": "2022-07-14T21:10:50.613Z"
   },
   {
    "duration": 53,
    "start_time": "2022-07-14T21:10:51.038Z"
   },
   {
    "duration": 321,
    "start_time": "2022-07-14T21:10:51.093Z"
   },
   {
    "duration": 177,
    "start_time": "2022-07-14T21:10:51.416Z"
   },
   {
    "duration": 14,
    "start_time": "2022-07-14T21:10:51.594Z"
   },
   {
    "duration": 21,
    "start_time": "2022-07-14T21:10:51.610Z"
   },
   {
    "duration": 46,
    "start_time": "2022-07-14T21:10:51.632Z"
   },
   {
    "duration": 23,
    "start_time": "2022-07-14T21:10:51.679Z"
   },
   {
    "duration": 40,
    "start_time": "2022-07-14T21:10:51.704Z"
   },
   {
    "duration": 30,
    "start_time": "2022-07-14T21:10:51.746Z"
   },
   {
    "duration": 258,
    "start_time": "2022-07-14T21:10:51.778Z"
   },
   {
    "duration": 142,
    "start_time": "2022-07-14T21:10:52.037Z"
   },
   {
    "duration": 20,
    "start_time": "2022-07-14T21:10:52.181Z"
   },
   {
    "duration": 232,
    "start_time": "2022-07-14T21:10:52.205Z"
   },
   {
    "duration": 15,
    "start_time": "2022-07-14T21:10:52.439Z"
   },
   {
    "duration": 16,
    "start_time": "2022-07-14T21:10:52.456Z"
   },
   {
    "duration": 348,
    "start_time": "2022-07-14T21:10:52.473Z"
   },
   {
    "duration": 207,
    "start_time": "2022-07-14T21:10:52.823Z"
   },
   {
    "duration": 222,
    "start_time": "2022-07-14T21:10:53.032Z"
   },
   {
    "duration": 12,
    "start_time": "2022-07-14T21:10:53.256Z"
   },
   {
    "duration": 193,
    "start_time": "2022-07-14T21:10:53.270Z"
   },
   {
    "duration": 27,
    "start_time": "2022-07-14T21:10:53.464Z"
   },
   {
    "duration": 191,
    "start_time": "2022-07-14T21:10:53.495Z"
   },
   {
    "duration": 18,
    "start_time": "2022-07-14T21:10:53.687Z"
   },
   {
    "duration": 11,
    "start_time": "2022-07-14T21:10:53.707Z"
   },
   {
    "duration": 237,
    "start_time": "2022-07-14T21:10:53.720Z"
   },
   {
    "duration": 14,
    "start_time": "2022-07-14T21:10:53.959Z"
   },
   {
    "duration": 169,
    "start_time": "2022-07-14T21:10:53.975Z"
   },
   {
    "duration": 15,
    "start_time": "2022-07-14T21:10:54.146Z"
   },
   {
    "duration": 4,
    "start_time": "2022-07-14T21:10:54.163Z"
   },
   {
    "duration": 15,
    "start_time": "2022-07-14T21:10:54.169Z"
   },
   {
    "duration": 46,
    "start_time": "2022-07-14T21:10:54.186Z"
   },
   {
    "duration": 17,
    "start_time": "2022-07-14T21:10:54.234Z"
   },
   {
    "duration": 193,
    "start_time": "2022-07-14T21:10:54.253Z"
   },
   {
    "duration": 201,
    "start_time": "2022-07-14T21:10:54.448Z"
   },
   {
    "duration": 15,
    "start_time": "2022-07-14T21:10:54.651Z"
   },
   {
    "duration": 94,
    "start_time": "2022-07-14T21:10:54.667Z"
   },
   {
    "duration": 730,
    "start_time": "2022-07-14T21:10:54.762Z"
   },
   {
    "duration": 470,
    "start_time": "2022-07-14T21:10:55.493Z"
   },
   {
    "duration": 3,
    "start_time": "2022-07-14T21:10:55.965Z"
   },
   {
    "duration": 9,
    "start_time": "2022-07-14T21:10:55.970Z"
   },
   {
    "duration": 14,
    "start_time": "2022-07-14T21:10:55.980Z"
   },
   {
    "duration": 12909,
    "start_time": "2022-07-14T21:10:55.995Z"
   },
   {
    "duration": 200,
    "start_time": "2022-07-14T21:11:08.906Z"
   },
   {
    "duration": 93,
    "start_time": "2022-07-14T21:11:09.108Z"
   },
   {
    "duration": 142704,
    "start_time": "2022-07-14T21:11:09.208Z"
   },
   {
    "duration": 360,
    "start_time": "2022-07-14T21:13:31.913Z"
   },
   {
    "duration": 3,
    "start_time": "2022-07-14T21:13:32.274Z"
   },
   {
    "duration": 4635,
    "start_time": "2022-07-14T21:13:32.278Z"
   },
   {
    "duration": 601,
    "start_time": "2022-07-14T21:13:36.914Z"
   },
   {
    "duration": 3,
    "start_time": "2022-07-14T21:13:37.517Z"
   },
   {
    "duration": 7,
    "start_time": "2022-07-14T21:13:37.521Z"
   },
   {
    "duration": 1049,
    "start_time": "2022-09-22T17:15:25.634Z"
   },
   {
    "duration": 3,
    "start_time": "2022-09-22T17:15:28.768Z"
   },
   {
    "duration": 4,
    "start_time": "2022-09-22T17:15:30.451Z"
   },
   {
    "duration": 171,
    "start_time": "2022-09-22T17:15:34.848Z"
   },
   {
    "duration": 6,
    "start_time": "2022-09-22T17:16:44.094Z"
   },
   {
    "duration": 4,
    "start_time": "2022-09-22T17:16:44.438Z"
   },
   {
    "duration": 604,
    "start_time": "2022-09-22T17:16:45.768Z"
   },
   {
    "duration": 24,
    "start_time": "2022-09-22T17:16:50.056Z"
   },
   {
    "duration": 4,
    "start_time": "2022-09-22T17:29:46.630Z"
   },
   {
    "duration": 3,
    "start_time": "2022-09-22T17:29:48.035Z"
   },
   {
    "duration": 235,
    "start_time": "2022-09-22T17:29:49.059Z"
   },
   {
    "duration": 22,
    "start_time": "2022-09-22T17:29:49.692Z"
   },
   {
    "duration": 4,
    "start_time": "2022-09-22T17:29:50.543Z"
   },
   {
    "duration": 19,
    "start_time": "2022-09-22T17:29:51.037Z"
   },
   {
    "duration": 3,
    "start_time": "2022-09-22T17:29:51.534Z"
   },
   {
    "duration": 21,
    "start_time": "2022-09-22T17:29:51.835Z"
   },
   {
    "duration": 2,
    "start_time": "2022-09-22T17:29:52.295Z"
   },
   {
    "duration": 16,
    "start_time": "2022-09-22T17:29:52.639Z"
   },
   {
    "duration": 3,
    "start_time": "2022-09-22T17:29:53.140Z"
   },
   {
    "duration": 21,
    "start_time": "2022-09-22T17:29:53.764Z"
   },
   {
    "duration": 15,
    "start_time": "2022-09-22T17:29:54.364Z"
   },
   {
    "duration": 14,
    "start_time": "2022-09-22T17:29:54.382Z"
   },
   {
    "duration": 5,
    "start_time": "2022-09-22T17:29:54.989Z"
   },
   {
    "duration": 3,
    "start_time": "2022-09-22T17:29:55.866Z"
   },
   {
    "duration": 3,
    "start_time": "2022-09-22T17:29:56.395Z"
   },
   {
    "duration": 24,
    "start_time": "2022-09-22T17:29:56.400Z"
   },
   {
    "duration": 4,
    "start_time": "2022-09-22T17:29:56.539Z"
   },
   {
    "duration": 4,
    "start_time": "2022-09-22T17:29:56.751Z"
   },
   {
    "duration": 5,
    "start_time": "2022-09-22T17:29:56.859Z"
   },
   {
    "duration": 2,
    "start_time": "2022-09-22T17:29:57.051Z"
   },
   {
    "duration": 3,
    "start_time": "2022-09-22T17:29:57.235Z"
   },
   {
    "duration": 4,
    "start_time": "2022-09-22T17:29:57.370Z"
   },
   {
    "duration": 3,
    "start_time": "2022-09-22T17:29:57.770Z"
   },
   {
    "duration": 9,
    "start_time": "2022-09-22T17:29:57.775Z"
   },
   {
    "duration": 5,
    "start_time": "2022-09-22T17:29:58.446Z"
   },
   {
    "duration": 6,
    "start_time": "2022-09-22T17:29:58.958Z"
   },
   {
    "duration": 2,
    "start_time": "2022-09-22T17:29:59.329Z"
   },
   {
    "duration": 68,
    "start_time": "2022-09-22T17:29:59.488Z"
   },
   {
    "duration": 9,
    "start_time": "2022-09-22T17:29:59.974Z"
   },
   {
    "duration": 11,
    "start_time": "2022-09-22T17:30:16.875Z"
   },
   {
    "duration": 4,
    "start_time": "2022-09-22T17:30:22.050Z"
   },
   {
    "duration": 1195,
    "start_time": "2022-09-22T19:34:05.709Z"
   },
   {
    "duration": 3,
    "start_time": "2022-09-22T19:34:06.906Z"
   },
   {
    "duration": 9,
    "start_time": "2022-09-22T19:34:06.911Z"
   },
   {
    "duration": 460,
    "start_time": "2022-09-22T19:34:06.922Z"
   },
   {
    "duration": 23,
    "start_time": "2022-09-22T19:34:07.385Z"
   },
   {
    "duration": 3,
    "start_time": "2022-09-22T19:34:07.409Z"
   },
   {
    "duration": 20,
    "start_time": "2022-09-22T19:34:07.414Z"
   },
   {
    "duration": 4,
    "start_time": "2022-09-22T19:34:07.435Z"
   },
   {
    "duration": 46,
    "start_time": "2022-09-22T19:34:07.440Z"
   },
   {
    "duration": 3,
    "start_time": "2022-09-22T19:34:07.488Z"
   },
   {
    "duration": 18,
    "start_time": "2022-09-22T19:34:07.492Z"
   },
   {
    "duration": 3,
    "start_time": "2022-09-22T19:34:07.511Z"
   },
   {
    "duration": 24,
    "start_time": "2022-09-22T19:34:07.515Z"
   },
   {
    "duration": 35,
    "start_time": "2022-09-22T19:34:07.542Z"
   },
   {
    "duration": 9,
    "start_time": "2022-09-22T19:34:07.578Z"
   },
   {
    "duration": 5,
    "start_time": "2022-09-22T19:34:07.589Z"
   },
   {
    "duration": 5,
    "start_time": "2022-09-22T19:34:07.596Z"
   },
   {
    "duration": 7,
    "start_time": "2022-09-22T19:34:07.602Z"
   },
   {
    "duration": 11,
    "start_time": "2022-09-22T19:34:07.610Z"
   },
   {
    "duration": 5,
    "start_time": "2022-09-22T19:34:07.622Z"
   },
   {
    "duration": 7,
    "start_time": "2022-09-22T19:34:07.628Z"
   },
   {
    "duration": 8,
    "start_time": "2022-09-22T19:34:07.636Z"
   },
   {
    "duration": 5,
    "start_time": "2022-09-22T19:34:07.646Z"
   },
   {
    "duration": 6,
    "start_time": "2022-09-22T19:34:07.652Z"
   },
   {
    "duration": 3,
    "start_time": "2022-09-22T19:34:07.677Z"
   },
   {
    "duration": 5,
    "start_time": "2022-09-22T19:34:07.682Z"
   },
   {
    "duration": 6,
    "start_time": "2022-09-22T19:34:07.688Z"
   },
   {
    "duration": 7,
    "start_time": "2022-09-22T19:34:07.695Z"
   },
   {
    "duration": 11,
    "start_time": "2022-09-22T19:34:07.703Z"
   },
   {
    "duration": 7,
    "start_time": "2022-09-22T19:34:07.715Z"
   },
   {
    "duration": 76,
    "start_time": "2022-09-22T19:34:07.723Z"
   },
   {
    "duration": 18,
    "start_time": "2022-09-22T19:34:07.801Z"
   },
   {
    "duration": 116,
    "start_time": "2022-09-22T19:34:07.821Z"
   },
   {
    "duration": 0,
    "start_time": "2022-09-22T19:34:07.938Z"
   },
   {
    "duration": 0,
    "start_time": "2022-09-22T19:34:07.939Z"
   },
   {
    "duration": 2,
    "start_time": "2022-09-22T19:34:38.179Z"
   },
   {
    "duration": 3,
    "start_time": "2022-09-22T19:34:38.197Z"
   },
   {
    "duration": 18,
    "start_time": "2022-09-22T19:34:38.201Z"
   },
   {
    "duration": 185,
    "start_time": "2022-09-22T19:34:38.220Z"
   },
   {
    "duration": 19,
    "start_time": "2022-09-22T19:34:38.406Z"
   },
   {
    "duration": 2,
    "start_time": "2022-09-22T19:34:38.427Z"
   },
   {
    "duration": 18,
    "start_time": "2022-09-22T19:34:38.431Z"
   },
   {
    "duration": 3,
    "start_time": "2022-09-22T19:34:38.451Z"
   },
   {
    "duration": 20,
    "start_time": "2022-09-22T19:34:38.455Z"
   },
   {
    "duration": 2,
    "start_time": "2022-09-22T19:34:38.477Z"
   },
   {
    "duration": 16,
    "start_time": "2022-09-22T19:34:38.480Z"
   },
   {
    "duration": 3,
    "start_time": "2022-09-22T19:34:38.497Z"
   },
   {
    "duration": 28,
    "start_time": "2022-09-22T19:34:38.501Z"
   },
   {
    "duration": 16,
    "start_time": "2022-09-22T19:34:38.531Z"
   },
   {
    "duration": 9,
    "start_time": "2022-09-22T19:34:38.578Z"
   },
   {
    "duration": 6,
    "start_time": "2022-09-22T19:34:38.588Z"
   },
   {
    "duration": 2,
    "start_time": "2022-09-22T19:34:38.596Z"
   },
   {
    "duration": 4,
    "start_time": "2022-09-22T19:34:38.600Z"
   },
   {
    "duration": 4,
    "start_time": "2022-09-22T19:34:38.606Z"
   },
   {
    "duration": 4,
    "start_time": "2022-09-22T19:34:38.611Z"
   },
   {
    "duration": 4,
    "start_time": "2022-09-22T19:34:38.617Z"
   },
   {
    "duration": 4,
    "start_time": "2022-09-22T19:34:38.623Z"
   },
   {
    "duration": 6,
    "start_time": "2022-09-22T19:34:38.628Z"
   },
   {
    "duration": 7,
    "start_time": "2022-09-22T19:34:38.635Z"
   },
   {
    "duration": 33,
    "start_time": "2022-09-22T19:34:38.644Z"
   },
   {
    "duration": 3,
    "start_time": "2022-09-22T19:34:38.679Z"
   },
   {
    "duration": 5,
    "start_time": "2022-09-22T19:34:38.683Z"
   },
   {
    "duration": 9,
    "start_time": "2022-09-22T19:34:38.689Z"
   },
   {
    "duration": 9,
    "start_time": "2022-09-22T19:34:38.699Z"
   },
   {
    "duration": 5,
    "start_time": "2022-09-22T19:34:38.709Z"
   },
   {
    "duration": 81,
    "start_time": "2022-09-22T19:34:38.715Z"
   },
   {
    "duration": 18,
    "start_time": "2022-09-22T19:34:41.786Z"
   },
   {
    "duration": 15,
    "start_time": "2022-09-22T19:34:43.368Z"
   },
   {
    "duration": 12,
    "start_time": "2022-09-22T19:34:49.039Z"
   },
   {
    "duration": 9,
    "start_time": "2022-09-22T19:35:17.964Z"
   },
   {
    "duration": 5,
    "start_time": "2022-09-22T19:35:23.315Z"
   },
   {
    "duration": 3,
    "start_time": "2022-09-22T19:37:03.800Z"
   },
   {
    "duration": 7,
    "start_time": "2022-09-22T19:37:03.805Z"
   },
   {
    "duration": 11,
    "start_time": "2022-09-22T19:37:03.814Z"
   },
   {
    "duration": 214,
    "start_time": "2022-09-22T19:37:03.827Z"
   },
   {
    "duration": 21,
    "start_time": "2022-09-22T19:37:04.044Z"
   },
   {
    "duration": 3,
    "start_time": "2022-09-22T19:37:04.067Z"
   },
   {
    "duration": 20,
    "start_time": "2022-09-22T19:37:04.072Z"
   },
   {
    "duration": 2,
    "start_time": "2022-09-22T19:37:04.094Z"
   },
   {
    "duration": 24,
    "start_time": "2022-09-22T19:37:04.098Z"
   },
   {
    "duration": 3,
    "start_time": "2022-09-22T19:37:04.123Z"
   },
   {
    "duration": 21,
    "start_time": "2022-09-22T19:37:04.128Z"
   },
   {
    "duration": 26,
    "start_time": "2022-09-22T19:37:04.151Z"
   },
   {
    "duration": 21,
    "start_time": "2022-09-22T19:37:04.178Z"
   },
   {
    "duration": 15,
    "start_time": "2022-09-22T19:37:04.201Z"
   },
   {
    "duration": 22,
    "start_time": "2022-09-22T19:37:04.218Z"
   },
   {
    "duration": 4,
    "start_time": "2022-09-22T19:37:04.242Z"
   },
   {
    "duration": 6,
    "start_time": "2022-09-22T19:37:04.248Z"
   },
   {
    "duration": 23,
    "start_time": "2022-09-22T19:37:04.256Z"
   },
   {
    "duration": 11,
    "start_time": "2022-09-22T19:37:04.281Z"
   },
   {
    "duration": 5,
    "start_time": "2022-09-22T19:37:04.294Z"
   },
   {
    "duration": 5,
    "start_time": "2022-09-22T19:37:04.300Z"
   },
   {
    "duration": 8,
    "start_time": "2022-09-22T19:37:04.306Z"
   },
   {
    "duration": 8,
    "start_time": "2022-09-22T19:37:04.316Z"
   },
   {
    "duration": 5,
    "start_time": "2022-09-22T19:37:04.325Z"
   },
   {
    "duration": 8,
    "start_time": "2022-09-22T19:37:04.332Z"
   },
   {
    "duration": 8,
    "start_time": "2022-09-22T19:37:04.342Z"
   },
   {
    "duration": 9,
    "start_time": "2022-09-22T19:37:04.351Z"
   },
   {
    "duration": 12,
    "start_time": "2022-09-22T19:37:04.361Z"
   },
   {
    "duration": 5,
    "start_time": "2022-09-22T19:37:04.378Z"
   },
   {
    "duration": 12,
    "start_time": "2022-09-22T19:37:04.385Z"
   },
   {
    "duration": 71,
    "start_time": "2022-09-22T19:37:04.399Z"
   },
   {
    "duration": 9,
    "start_time": "2022-09-22T19:37:05.690Z"
   },
   {
    "duration": 6,
    "start_time": "2022-09-22T19:37:07.764Z"
   },
   {
    "duration": 4,
    "start_time": "2022-09-22T19:37:09.855Z"
   },
   {
    "duration": 9,
    "start_time": "2022-09-22T19:37:14.241Z"
   },
   {
    "duration": 7,
    "start_time": "2022-09-22T19:37:22.712Z"
   },
   {
    "duration": 137,
    "start_time": "2022-09-22T19:37:30.752Z"
   },
   {
    "duration": 178,
    "start_time": "2022-09-22T19:37:33.557Z"
   },
   {
    "duration": 8,
    "start_time": "2022-09-22T19:37:36.300Z"
   },
   {
    "duration": 3,
    "start_time": "2022-09-22T19:41:28.628Z"
   },
   {
    "duration": 10,
    "start_time": "2022-09-22T19:41:28.634Z"
   },
   {
    "duration": 5,
    "start_time": "2022-09-22T19:41:28.645Z"
   },
   {
    "duration": 229,
    "start_time": "2022-09-22T19:41:28.652Z"
   },
   {
    "duration": 20,
    "start_time": "2022-09-22T19:41:28.883Z"
   },
   {
    "duration": 3,
    "start_time": "2022-09-22T19:41:28.904Z"
   },
   {
    "duration": 20,
    "start_time": "2022-09-22T19:41:28.908Z"
   },
   {
    "duration": 2,
    "start_time": "2022-09-22T19:41:28.930Z"
   },
   {
    "duration": 47,
    "start_time": "2022-09-22T19:41:28.933Z"
   },
   {
    "duration": 3,
    "start_time": "2022-09-22T19:41:28.981Z"
   },
   {
    "duration": 18,
    "start_time": "2022-09-22T19:41:28.986Z"
   },
   {
    "duration": 2,
    "start_time": "2022-09-22T19:41:29.006Z"
   },
   {
    "duration": 25,
    "start_time": "2022-09-22T19:41:29.010Z"
   },
   {
    "duration": 41,
    "start_time": "2022-09-22T19:41:29.036Z"
   },
   {
    "duration": 10,
    "start_time": "2022-09-22T19:41:29.079Z"
   },
   {
    "duration": 5,
    "start_time": "2022-09-22T19:41:29.091Z"
   },
   {
    "duration": 4,
    "start_time": "2022-09-22T19:41:29.097Z"
   },
   {
    "duration": 6,
    "start_time": "2022-09-22T19:41:29.103Z"
   },
   {
    "duration": 6,
    "start_time": "2022-09-22T19:41:29.111Z"
   },
   {
    "duration": 5,
    "start_time": "2022-09-22T19:41:29.118Z"
   },
   {
    "duration": 5,
    "start_time": "2022-09-22T19:41:29.124Z"
   },
   {
    "duration": 7,
    "start_time": "2022-09-22T19:41:29.131Z"
   },
   {
    "duration": 38,
    "start_time": "2022-09-22T19:41:29.139Z"
   },
   {
    "duration": 11,
    "start_time": "2022-09-22T19:41:29.179Z"
   },
   {
    "duration": 9,
    "start_time": "2022-09-22T19:41:29.191Z"
   },
   {
    "duration": 6,
    "start_time": "2022-09-22T19:41:29.202Z"
   },
   {
    "duration": 12,
    "start_time": "2022-09-22T19:41:29.209Z"
   },
   {
    "duration": 6,
    "start_time": "2022-09-22T19:41:29.223Z"
   },
   {
    "duration": 7,
    "start_time": "2022-09-22T19:41:29.232Z"
   },
   {
    "duration": 6,
    "start_time": "2022-09-22T19:41:29.241Z"
   },
   {
    "duration": 71,
    "start_time": "2022-09-22T19:41:29.248Z"
   },
   {
    "duration": 8,
    "start_time": "2022-09-22T19:41:29.320Z"
   },
   {
    "duration": 6,
    "start_time": "2022-09-22T19:41:29.330Z"
   },
   {
    "duration": 11,
    "start_time": "2022-09-22T19:41:29.337Z"
   },
   {
    "duration": 8,
    "start_time": "2022-09-22T19:41:29.349Z"
   },
   {
    "duration": 127,
    "start_time": "2022-09-22T19:41:29.358Z"
   },
   {
    "duration": 163,
    "start_time": "2022-09-22T19:41:29.487Z"
   },
   {
    "duration": 179,
    "start_time": "2022-09-22T19:41:29.652Z"
   },
   {
    "duration": 245,
    "start_time": "2022-09-22T19:41:29.833Z"
   },
   {
    "duration": 118,
    "start_time": "2022-09-22T19:41:30.080Z"
   },
   {
    "duration": 176,
    "start_time": "2022-09-22T19:41:30.200Z"
   },
   {
    "duration": 16,
    "start_time": "2022-09-22T19:41:30.378Z"
   },
   {
    "duration": 0,
    "start_time": "2022-09-22T19:41:30.396Z"
   },
   {
    "duration": 0,
    "start_time": "2022-09-22T19:41:30.398Z"
   },
   {
    "duration": 0,
    "start_time": "2022-09-22T19:41:30.399Z"
   },
   {
    "duration": 0,
    "start_time": "2022-09-22T19:41:30.400Z"
   },
   {
    "duration": 0,
    "start_time": "2022-09-22T19:41:30.401Z"
   },
   {
    "duration": 0,
    "start_time": "2022-09-22T19:41:30.402Z"
   },
   {
    "duration": 0,
    "start_time": "2022-09-22T19:41:30.403Z"
   },
   {
    "duration": 0,
    "start_time": "2022-09-22T19:41:30.405Z"
   },
   {
    "duration": 6,
    "start_time": "2022-09-22T19:42:15.781Z"
   },
   {
    "duration": 7,
    "start_time": "2022-09-22T19:42:26.270Z"
   },
   {
    "duration": 6,
    "start_time": "2022-09-22T19:42:30.871Z"
   },
   {
    "duration": 10,
    "start_time": "2022-09-22T19:42:37.834Z"
   },
   {
    "duration": 13,
    "start_time": "2022-09-22T19:42:49.304Z"
   },
   {
    "duration": 141,
    "start_time": "2022-09-22T19:42:55.395Z"
   },
   {
    "duration": 143,
    "start_time": "2022-09-22T19:42:59.745Z"
   },
   {
    "duration": 5,
    "start_time": "2022-09-22T19:43:06.810Z"
   },
   {
    "duration": 4,
    "start_time": "2022-09-22T19:43:08.315Z"
   },
   {
    "duration": 147,
    "start_time": "2022-09-22T19:43:09.852Z"
   },
   {
    "duration": 5,
    "start_time": "2022-09-22T19:44:43.187Z"
   },
   {
    "duration": 21,
    "start_time": "2022-09-22T19:47:18.474Z"
   },
   {
    "duration": 4,
    "start_time": "2022-09-22T19:49:23.695Z"
   },
   {
    "duration": 2,
    "start_time": "2022-09-22T19:50:51.071Z"
   },
   {
    "duration": 7,
    "start_time": "2022-09-22T19:50:51.076Z"
   },
   {
    "duration": 5,
    "start_time": "2022-09-22T19:50:51.085Z"
   },
   {
    "duration": 352,
    "start_time": "2022-09-22T19:50:51.092Z"
   },
   {
    "duration": 21,
    "start_time": "2022-09-22T19:50:51.446Z"
   },
   {
    "duration": 3,
    "start_time": "2022-09-22T19:50:51.469Z"
   },
   {
    "duration": 24,
    "start_time": "2022-09-22T19:50:51.473Z"
   },
   {
    "duration": 3,
    "start_time": "2022-09-22T19:50:51.499Z"
   },
   {
    "duration": 27,
    "start_time": "2022-09-22T19:50:51.503Z"
   },
   {
    "duration": 3,
    "start_time": "2022-09-22T19:50:51.531Z"
   },
   {
    "duration": 19,
    "start_time": "2022-09-22T19:50:51.535Z"
   },
   {
    "duration": 3,
    "start_time": "2022-09-22T19:50:51.555Z"
   },
   {
    "duration": 23,
    "start_time": "2022-09-22T19:50:51.576Z"
   },
   {
    "duration": 15,
    "start_time": "2022-09-22T19:50:51.603Z"
   },
   {
    "duration": 12,
    "start_time": "2022-09-22T19:50:51.619Z"
   },
   {
    "duration": 5,
    "start_time": "2022-09-22T19:50:51.632Z"
   },
   {
    "duration": 5,
    "start_time": "2022-09-22T19:50:51.639Z"
   },
   {
    "duration": 4,
    "start_time": "2022-09-22T19:50:51.646Z"
   },
   {
    "duration": 3,
    "start_time": "2022-09-22T19:50:51.677Z"
   },
   {
    "duration": 5,
    "start_time": "2022-09-22T19:50:51.682Z"
   },
   {
    "duration": 5,
    "start_time": "2022-09-22T19:50:51.689Z"
   },
   {
    "duration": 11,
    "start_time": "2022-09-22T19:50:51.696Z"
   },
   {
    "duration": 7,
    "start_time": "2022-09-22T19:50:51.708Z"
   },
   {
    "duration": 12,
    "start_time": "2022-09-22T19:50:51.716Z"
   },
   {
    "duration": 5,
    "start_time": "2022-09-22T19:50:51.729Z"
   },
   {
    "duration": 6,
    "start_time": "2022-09-22T19:50:51.735Z"
   },
   {
    "duration": 8,
    "start_time": "2022-09-22T19:50:51.743Z"
   },
   {
    "duration": 15,
    "start_time": "2022-09-22T19:50:51.753Z"
   },
   {
    "duration": 7,
    "start_time": "2022-09-22T19:50:51.776Z"
   },
   {
    "duration": 8,
    "start_time": "2022-09-22T19:50:51.784Z"
   },
   {
    "duration": 75,
    "start_time": "2022-09-22T19:50:51.793Z"
   },
   {
    "duration": 12,
    "start_time": "2022-09-22T19:50:51.870Z"
   },
   {
    "duration": 4,
    "start_time": "2022-09-22T19:50:51.884Z"
   },
   {
    "duration": 11,
    "start_time": "2022-09-22T19:50:51.890Z"
   },
   {
    "duration": 8,
    "start_time": "2022-09-22T19:50:51.903Z"
   },
   {
    "duration": 125,
    "start_time": "2022-09-22T19:50:51.913Z"
   },
   {
    "duration": 178,
    "start_time": "2022-09-22T19:50:52.040Z"
   },
   {
    "duration": 179,
    "start_time": "2022-09-22T19:50:52.219Z"
   },
   {
    "duration": 189,
    "start_time": "2022-09-22T19:50:52.400Z"
   },
   {
    "duration": 197,
    "start_time": "2022-09-22T19:50:52.592Z"
   },
   {
    "duration": 156,
    "start_time": "2022-09-22T19:50:52.794Z"
   },
   {
    "duration": 6,
    "start_time": "2022-09-22T19:50:57.027Z"
   },
   {
    "duration": 5,
    "start_time": "2022-09-22T19:53:10.974Z"
   },
   {
    "duration": 6,
    "start_time": "2022-09-22T19:53:30.579Z"
   },
   {
    "duration": 8,
    "start_time": "2022-09-22T19:53:31.980Z"
   },
   {
    "duration": 6,
    "start_time": "2022-09-22T19:53:35.105Z"
   },
   {
    "duration": 5,
    "start_time": "2022-09-22T19:53:46.428Z"
   },
   {
    "duration": 3,
    "start_time": "2022-09-22T19:53:49.660Z"
   },
   {
    "duration": 6,
    "start_time": "2022-09-22T19:53:57.063Z"
   },
   {
    "duration": 6,
    "start_time": "2022-09-22T19:54:08.924Z"
   },
   {
    "duration": 5,
    "start_time": "2022-09-22T19:54:13.777Z"
   },
   {
    "duration": 5,
    "start_time": "2022-09-22T19:54:19.514Z"
   },
   {
    "duration": 6,
    "start_time": "2022-09-22T19:58:37.605Z"
   },
   {
    "duration": 5,
    "start_time": "2022-09-22T19:58:39.768Z"
   },
   {
    "duration": 98,
    "start_time": "2022-09-22T19:58:41.181Z"
   },
   {
    "duration": 8,
    "start_time": "2022-09-22T19:59:02.073Z"
   },
   {
    "duration": 4,
    "start_time": "2022-09-22T19:59:03.465Z"
   },
   {
    "duration": 101,
    "start_time": "2022-09-22T19:59:04.521Z"
   },
   {
    "duration": 156,
    "start_time": "2022-09-22T19:59:10.581Z"
   },
   {
    "duration": 163,
    "start_time": "2022-09-22T20:03:48.486Z"
   },
   {
    "duration": 4,
    "start_time": "2022-09-22T20:04:02.367Z"
   },
   {
    "duration": 4,
    "start_time": "2022-09-22T20:04:05.432Z"
   },
   {
    "duration": 162,
    "start_time": "2022-09-22T20:04:09.000Z"
   },
   {
    "duration": 4,
    "start_time": "2022-09-22T20:04:24.955Z"
   },
   {
    "duration": 3,
    "start_time": "2022-09-22T20:04:33.238Z"
   },
   {
    "duration": 4,
    "start_time": "2022-09-22T20:04:33.246Z"
   },
   {
    "duration": 9,
    "start_time": "2022-09-22T20:04:33.252Z"
   },
   {
    "duration": 184,
    "start_time": "2022-09-22T20:04:33.263Z"
   },
   {
    "duration": 23,
    "start_time": "2022-09-22T20:04:33.449Z"
   },
   {
    "duration": 3,
    "start_time": "2022-09-22T20:04:33.474Z"
   },
   {
    "duration": 40,
    "start_time": "2022-09-22T20:04:33.479Z"
   },
   {
    "duration": 15,
    "start_time": "2022-09-22T20:04:33.520Z"
   },
   {
    "duration": 36,
    "start_time": "2022-09-22T20:04:33.537Z"
   },
   {
    "duration": 4,
    "start_time": "2022-09-22T20:04:33.575Z"
   },
   {
    "duration": 33,
    "start_time": "2022-09-22T20:04:33.581Z"
   },
   {
    "duration": 3,
    "start_time": "2022-09-22T20:04:33.618Z"
   },
   {
    "duration": 33,
    "start_time": "2022-09-22T20:04:33.623Z"
   },
   {
    "duration": 30,
    "start_time": "2022-09-22T20:04:33.658Z"
   },
   {
    "duration": 30,
    "start_time": "2022-09-22T20:04:33.690Z"
   },
   {
    "duration": 24,
    "start_time": "2022-09-22T20:04:33.722Z"
   },
   {
    "duration": 12,
    "start_time": "2022-09-22T20:04:33.747Z"
   },
   {
    "duration": 21,
    "start_time": "2022-09-22T20:04:33.761Z"
   },
   {
    "duration": 24,
    "start_time": "2022-09-22T20:04:33.783Z"
   },
   {
    "duration": 7,
    "start_time": "2022-09-22T20:04:33.809Z"
   },
   {
    "duration": 11,
    "start_time": "2022-09-22T20:04:33.818Z"
   },
   {
    "duration": 14,
    "start_time": "2022-09-22T20:04:33.830Z"
   },
   {
    "duration": 16,
    "start_time": "2022-09-22T20:04:33.846Z"
   },
   {
    "duration": 15,
    "start_time": "2022-09-22T20:04:33.864Z"
   },
   {
    "duration": 19,
    "start_time": "2022-09-22T20:04:33.881Z"
   },
   {
    "duration": 16,
    "start_time": "2022-09-22T20:04:33.902Z"
   },
   {
    "duration": 41,
    "start_time": "2022-09-22T20:04:33.920Z"
   },
   {
    "duration": 20,
    "start_time": "2022-09-22T20:04:33.964Z"
   },
   {
    "duration": 33,
    "start_time": "2022-09-22T20:04:33.987Z"
   },
   {
    "duration": 19,
    "start_time": "2022-09-22T20:04:34.024Z"
   },
   {
    "duration": 76,
    "start_time": "2022-09-22T20:04:34.045Z"
   },
   {
    "duration": 9,
    "start_time": "2022-09-22T20:04:34.123Z"
   },
   {
    "duration": 11,
    "start_time": "2022-09-22T20:04:34.133Z"
   },
   {
    "duration": 11,
    "start_time": "2022-09-22T20:04:34.146Z"
   },
   {
    "duration": 20,
    "start_time": "2022-09-22T20:04:34.159Z"
   },
   {
    "duration": 125,
    "start_time": "2022-09-22T20:04:34.181Z"
   },
   {
    "duration": 168,
    "start_time": "2022-09-22T20:04:34.308Z"
   },
   {
    "duration": 177,
    "start_time": "2022-09-22T20:04:34.478Z"
   },
   {
    "duration": 240,
    "start_time": "2022-09-22T20:04:34.656Z"
   },
   {
    "duration": 106,
    "start_time": "2022-09-22T20:04:34.898Z"
   },
   {
    "duration": 162,
    "start_time": "2022-09-22T20:04:35.006Z"
   },
   {
    "duration": 11,
    "start_time": "2022-09-22T20:04:35.170Z"
   },
   {
    "duration": 30,
    "start_time": "2022-09-22T20:04:35.183Z"
   },
   {
    "duration": 38,
    "start_time": "2022-09-22T20:04:35.214Z"
   },
   {
    "duration": 145,
    "start_time": "2022-09-22T20:04:35.253Z"
   },
   {
    "duration": 158,
    "start_time": "2022-09-22T20:04:35.400Z"
   },
   {
    "duration": 155,
    "start_time": "2022-09-22T20:04:35.560Z"
   },
   {
    "duration": 146,
    "start_time": "2022-09-22T20:04:35.716Z"
   },
   {
    "duration": 155,
    "start_time": "2022-09-22T20:04:35.863Z"
   },
   {
    "duration": 4,
    "start_time": "2022-09-22T20:04:36.020Z"
   },
   {
    "duration": 13,
    "start_time": "2022-09-22T20:04:36.025Z"
   },
   {
    "duration": 157,
    "start_time": "2022-09-22T20:04:36.039Z"
   },
   {
    "duration": 149,
    "start_time": "2022-09-22T20:04:36.197Z"
   },
   {
    "duration": 174,
    "start_time": "2022-09-22T20:04:38.456Z"
   },
   {
    "duration": 1087,
    "start_time": "2022-09-22T20:05:53.540Z"
   },
   {
    "duration": 4,
    "start_time": "2022-09-22T20:05:54.629Z"
   },
   {
    "duration": 9,
    "start_time": "2022-09-22T20:05:54.634Z"
   },
   {
    "duration": 271,
    "start_time": "2022-09-22T20:05:54.645Z"
   },
   {
    "duration": 24,
    "start_time": "2022-09-22T20:05:54.917Z"
   },
   {
    "duration": 3,
    "start_time": "2022-09-22T20:05:54.943Z"
   },
   {
    "duration": 25,
    "start_time": "2022-09-22T20:05:54.948Z"
   },
   {
    "duration": 4,
    "start_time": "2022-09-22T20:05:54.974Z"
   },
   {
    "duration": 21,
    "start_time": "2022-09-22T20:05:54.979Z"
   },
   {
    "duration": 3,
    "start_time": "2022-09-22T20:05:55.003Z"
   },
   {
    "duration": 16,
    "start_time": "2022-09-22T20:05:55.007Z"
   },
   {
    "duration": 2,
    "start_time": "2022-09-22T20:05:55.025Z"
   },
   {
    "duration": 48,
    "start_time": "2022-09-22T20:05:55.029Z"
   },
   {
    "duration": 14,
    "start_time": "2022-09-22T20:05:55.079Z"
   },
   {
    "duration": 10,
    "start_time": "2022-09-22T20:05:55.094Z"
   },
   {
    "duration": 15,
    "start_time": "2022-09-22T20:05:55.106Z"
   },
   {
    "duration": 13,
    "start_time": "2022-09-22T20:05:55.122Z"
   },
   {
    "duration": 6,
    "start_time": "2022-09-22T20:05:55.136Z"
   },
   {
    "duration": 15,
    "start_time": "2022-09-22T20:05:55.143Z"
   },
   {
    "duration": 9,
    "start_time": "2022-09-22T20:05:55.159Z"
   },
   {
    "duration": 8,
    "start_time": "2022-09-22T20:05:55.170Z"
   },
   {
    "duration": 13,
    "start_time": "2022-09-22T20:05:55.180Z"
   },
   {
    "duration": 9,
    "start_time": "2022-09-22T20:05:55.195Z"
   },
   {
    "duration": 18,
    "start_time": "2022-09-22T20:05:55.206Z"
   },
   {
    "duration": 9,
    "start_time": "2022-09-22T20:05:55.226Z"
   },
   {
    "duration": 20,
    "start_time": "2022-09-22T20:05:55.237Z"
   },
   {
    "duration": 16,
    "start_time": "2022-09-22T20:05:55.259Z"
   },
   {
    "duration": 8,
    "start_time": "2022-09-22T20:05:55.280Z"
   },
   {
    "duration": 16,
    "start_time": "2022-09-22T20:05:55.291Z"
   },
   {
    "duration": 7,
    "start_time": "2022-09-22T20:05:55.309Z"
   },
   {
    "duration": 79,
    "start_time": "2022-09-22T20:05:55.317Z"
   },
   {
    "duration": 8,
    "start_time": "2022-09-22T20:05:55.397Z"
   },
   {
    "duration": 4,
    "start_time": "2022-09-22T20:05:55.407Z"
   },
   {
    "duration": 11,
    "start_time": "2022-09-22T20:05:55.413Z"
   },
   {
    "duration": 6,
    "start_time": "2022-09-22T20:05:55.425Z"
   },
   {
    "duration": 140,
    "start_time": "2022-09-22T20:05:55.432Z"
   },
   {
    "duration": 157,
    "start_time": "2022-09-22T20:05:55.576Z"
   },
   {
    "duration": 172,
    "start_time": "2022-09-22T20:05:55.735Z"
   },
   {
    "duration": 159,
    "start_time": "2022-09-22T20:05:55.909Z"
   },
   {
    "duration": 116,
    "start_time": "2022-09-22T20:05:56.070Z"
   },
   {
    "duration": 153,
    "start_time": "2022-09-22T20:05:56.188Z"
   },
   {
    "duration": 6,
    "start_time": "2022-09-22T20:05:56.343Z"
   },
   {
    "duration": 11,
    "start_time": "2022-09-22T20:05:56.350Z"
   },
   {
    "duration": 15,
    "start_time": "2022-09-22T20:05:56.363Z"
   },
   {
    "duration": 103,
    "start_time": "2022-09-22T20:05:56.379Z"
   },
   {
    "duration": 168,
    "start_time": "2022-09-22T20:05:56.483Z"
   },
   {
    "duration": 241,
    "start_time": "2022-09-22T20:05:56.653Z"
   },
   {
    "duration": 178,
    "start_time": "2022-09-22T20:05:56.896Z"
   },
   {
    "duration": 156,
    "start_time": "2022-09-22T20:05:57.079Z"
   },
   {
    "duration": 4,
    "start_time": "2022-09-22T20:05:57.236Z"
   },
   {
    "duration": 7,
    "start_time": "2022-09-22T20:05:57.241Z"
   },
   {
    "duration": 175,
    "start_time": "2022-09-22T20:05:57.249Z"
   },
   {
    "duration": 152,
    "start_time": "2022-09-22T20:05:57.426Z"
   },
   {
    "duration": 190,
    "start_time": "2022-09-22T20:05:57.580Z"
   },
   {
    "duration": 156,
    "start_time": "2022-09-22T20:05:57.772Z"
   },
   {
    "duration": 150,
    "start_time": "2022-09-22T20:05:57.930Z"
   },
   {
    "duration": 144,
    "start_time": "2022-09-22T20:05:58.082Z"
   },
   {
    "duration": 148,
    "start_time": "2022-09-22T20:05:58.228Z"
   },
   {
    "duration": 142,
    "start_time": "2022-09-22T20:05:58.378Z"
   },
   {
    "duration": 233,
    "start_time": "2022-09-22T20:05:58.522Z"
   },
   {
    "duration": 150,
    "start_time": "2022-09-22T20:05:58.756Z"
   },
   {
    "duration": 2454,
    "start_time": "2022-09-25T21:28:18.801Z"
   },
   {
    "duration": 3,
    "start_time": "2022-09-25T21:28:21.257Z"
   },
   {
    "duration": 3,
    "start_time": "2022-09-25T21:28:24.020Z"
   },
   {
    "duration": 494,
    "start_time": "2022-09-25T21:28:24.650Z"
   },
   {
    "duration": 25,
    "start_time": "2022-09-25T21:28:25.146Z"
   },
   {
    "duration": 2,
    "start_time": "2022-09-25T21:28:25.602Z"
   },
   {
    "duration": 20,
    "start_time": "2022-09-25T21:28:26.199Z"
   },
   {
    "duration": 3,
    "start_time": "2022-09-25T21:28:26.667Z"
   },
   {
    "duration": 18,
    "start_time": "2022-09-25T21:28:26.978Z"
   },
   {
    "duration": 2,
    "start_time": "2022-09-25T21:28:27.456Z"
   },
   {
    "duration": 13,
    "start_time": "2022-09-25T21:28:27.775Z"
   },
   {
    "duration": 4,
    "start_time": "2022-09-25T21:28:28.249Z"
   },
   {
    "duration": 23,
    "start_time": "2022-09-25T21:28:28.895Z"
   },
   {
    "duration": 14,
    "start_time": "2022-09-25T21:28:29.237Z"
   },
   {
    "duration": 10,
    "start_time": "2022-09-25T21:28:29.383Z"
   },
   {
    "duration": 5,
    "start_time": "2022-09-25T21:28:29.921Z"
   },
   {
    "duration": 4,
    "start_time": "2022-09-25T21:28:30.586Z"
   },
   {
    "duration": 3,
    "start_time": "2022-09-25T21:28:30.763Z"
   },
   {
    "duration": 3,
    "start_time": "2022-09-25T21:28:30.935Z"
   },
   {
    "duration": 4,
    "start_time": "2022-09-25T21:28:31.120Z"
   },
   {
    "duration": 4,
    "start_time": "2022-09-25T21:28:31.297Z"
   },
   {
    "duration": 4,
    "start_time": "2022-09-25T21:28:31.526Z"
   },
   {
    "duration": 3,
    "start_time": "2022-09-25T21:28:32.085Z"
   },
   {
    "duration": 3,
    "start_time": "2022-09-25T21:28:32.697Z"
   },
   {
    "duration": 3,
    "start_time": "2022-09-25T21:28:33.123Z"
   },
   {
    "duration": 3,
    "start_time": "2022-09-25T21:28:33.384Z"
   },
   {
    "duration": 4,
    "start_time": "2022-09-25T21:28:33.656Z"
   },
   {
    "duration": 4,
    "start_time": "2022-09-25T21:28:34.513Z"
   },
   {
    "duration": 7,
    "start_time": "2022-09-25T21:28:35.393Z"
   },
   {
    "duration": 3,
    "start_time": "2022-09-25T21:28:35.808Z"
   },
   {
    "duration": 75,
    "start_time": "2022-09-25T21:28:35.983Z"
   },
   {
    "duration": 9,
    "start_time": "2022-09-25T21:28:36.670Z"
   },
   {
    "duration": 5,
    "start_time": "2022-09-25T21:28:37.805Z"
   },
   {
    "duration": 9,
    "start_time": "2022-09-25T21:28:38.237Z"
   },
   {
    "duration": 7,
    "start_time": "2022-09-25T21:28:38.604Z"
   },
   {
    "duration": 138,
    "start_time": "2022-09-25T21:28:39.243Z"
   },
   {
    "duration": 141,
    "start_time": "2022-09-25T21:28:39.391Z"
   },
   {
    "duration": 148,
    "start_time": "2022-09-25T21:28:40.226Z"
   },
   {
    "duration": 197,
    "start_time": "2022-09-25T21:28:40.779Z"
   },
   {
    "duration": 110,
    "start_time": "2022-09-25T21:28:41.299Z"
   },
   {
    "duration": 170,
    "start_time": "2022-09-25T21:28:41.464Z"
   },
   {
    "duration": 5,
    "start_time": "2022-09-25T21:28:42.237Z"
   },
   {
    "duration": 3,
    "start_time": "2022-09-25T21:28:42.630Z"
   },
   {
    "duration": 7,
    "start_time": "2022-09-25T21:28:42.958Z"
   },
   {
    "duration": 3,
    "start_time": "2022-09-25T21:28:43.142Z"
   },
   {
    "duration": 6,
    "start_time": "2022-09-25T21:28:43.472Z"
   },
   {
    "duration": 107,
    "start_time": "2022-09-25T21:28:43.649Z"
   },
   {
    "duration": 164,
    "start_time": "2022-09-25T21:28:43.822Z"
   },
   {
    "duration": 140,
    "start_time": "2022-09-25T21:28:44.714Z"
   },
   {
    "duration": 148,
    "start_time": "2022-09-25T21:28:46.174Z"
   },
   {
    "duration": 139,
    "start_time": "2022-09-25T21:28:46.658Z"
   },
   {
    "duration": 5,
    "start_time": "2022-09-25T21:28:47.122Z"
   },
   {
    "duration": 4,
    "start_time": "2022-09-25T21:28:47.753Z"
   },
   {
    "duration": 153,
    "start_time": "2022-09-25T21:28:47.916Z"
   },
   {
    "duration": 143,
    "start_time": "2022-09-25T21:28:48.618Z"
   },
   {
    "duration": 159,
    "start_time": "2022-09-25T21:28:49.151Z"
   },
   {
    "duration": 135,
    "start_time": "2022-09-25T21:28:49.864Z"
   },
   {
    "duration": 200,
    "start_time": "2022-09-25T21:28:50.925Z"
   },
   {
    "duration": 134,
    "start_time": "2022-09-25T21:28:51.676Z"
   },
   {
    "duration": 135,
    "start_time": "2022-09-25T21:28:52.249Z"
   },
   {
    "duration": 137,
    "start_time": "2022-09-25T21:28:52.768Z"
   },
   {
    "duration": 141,
    "start_time": "2022-09-25T21:28:53.407Z"
   },
   {
    "duration": 131,
    "start_time": "2022-09-25T21:28:54.153Z"
   },
   {
    "duration": 9,
    "start_time": "2022-09-25T21:28:54.782Z"
   },
   {
    "duration": 6,
    "start_time": "2022-09-25T21:28:59.110Z"
   },
   {
    "duration": 14,
    "start_time": "2022-09-25T21:28:59.794Z"
   },
   {
    "duration": 3,
    "start_time": "2022-09-25T21:29:01.643Z"
   },
   {
    "duration": 44,
    "start_time": "2022-09-25T21:29:02.644Z"
   },
   {
    "duration": 39,
    "start_time": "2022-09-25T21:29:05.031Z"
   },
   {
    "duration": 15,
    "start_time": "2022-09-25T21:29:06.715Z"
   },
   {
    "duration": 4,
    "start_time": "2022-09-25T21:29:08.613Z"
   },
   {
    "duration": 6,
    "start_time": "2022-09-25T21:29:11.295Z"
   },
   {
    "duration": 4,
    "start_time": "2022-09-25T21:29:12.776Z"
   },
   {
    "duration": 8,
    "start_time": "2022-09-25T21:29:13.741Z"
   },
   {
    "duration": 22159,
    "start_time": "2022-09-25T21:29:26.354Z"
   },
   {
    "duration": 4,
    "start_time": "2022-09-25T21:32:10.584Z"
   },
   {
    "duration": 1692,
    "start_time": "2022-09-27T13:49:06.139Z"
   },
   {
    "duration": 4,
    "start_time": "2022-09-27T13:49:10.261Z"
   },
   {
    "duration": 3,
    "start_time": "2022-09-27T13:49:12.653Z"
   },
   {
    "duration": 464,
    "start_time": "2022-09-27T13:49:13.649Z"
   },
   {
    "duration": 24,
    "start_time": "2022-09-27T13:49:14.709Z"
   },
   {
    "duration": 3,
    "start_time": "2022-09-27T13:49:15.329Z"
   },
   {
    "duration": 17,
    "start_time": "2022-09-27T13:49:16.422Z"
   },
   {
    "duration": 3,
    "start_time": "2022-09-27T13:49:17.146Z"
   },
   {
    "duration": 23,
    "start_time": "2022-09-27T13:49:17.605Z"
   },
   {
    "duration": 3,
    "start_time": "2022-09-27T13:49:18.302Z"
   },
   {
    "duration": 14,
    "start_time": "2022-09-27T13:49:18.743Z"
   },
   {
    "duration": 3,
    "start_time": "2022-09-27T13:49:19.440Z"
   },
   {
    "duration": 21,
    "start_time": "2022-09-27T13:49:20.341Z"
   },
   {
    "duration": 13,
    "start_time": "2022-09-27T13:49:20.814Z"
   },
   {
    "duration": 12,
    "start_time": "2022-09-27T13:49:21.042Z"
   },
   {
    "duration": 4,
    "start_time": "2022-09-27T13:49:21.747Z"
   },
   {
    "duration": 4,
    "start_time": "2022-09-27T13:49:23.169Z"
   },
   {
    "duration": 3,
    "start_time": "2022-09-27T13:49:23.659Z"
   },
   {
    "duration": 25,
    "start_time": "2022-09-27T13:49:23.663Z"
   },
   {
    "duration": 3,
    "start_time": "2022-09-27T13:49:23.805Z"
   },
   {
    "duration": 4,
    "start_time": "2022-09-27T13:49:24.089Z"
   },
   {
    "duration": 3,
    "start_time": "2022-09-27T13:49:24.298Z"
   },
   {
    "duration": 3,
    "start_time": "2022-09-27T13:49:24.510Z"
   },
   {
    "duration": 3,
    "start_time": "2022-09-27T13:49:24.724Z"
   },
   {
    "duration": 4,
    "start_time": "2022-09-27T13:49:25.175Z"
   },
   {
    "duration": 24,
    "start_time": "2022-09-27T13:49:25.181Z"
   },
   {
    "duration": 5,
    "start_time": "2022-09-27T13:49:25.345Z"
   },
   {
    "duration": 4,
    "start_time": "2022-09-27T13:49:25.560Z"
   },
   {
    "duration": 6,
    "start_time": "2022-09-27T13:49:26.875Z"
   },
   {
    "duration": 10,
    "start_time": "2022-09-27T13:49:27.509Z"
   },
   {
    "duration": 3,
    "start_time": "2022-09-27T13:49:27.968Z"
   },
   {
    "duration": 62,
    "start_time": "2022-09-27T13:49:28.175Z"
   },
   {
    "duration": 8,
    "start_time": "2022-09-27T13:49:28.910Z"
   },
   {
    "duration": 4,
    "start_time": "2022-09-27T13:49:29.788Z"
   },
   {
    "duration": 6,
    "start_time": "2022-09-27T13:49:30.435Z"
   },
   {
    "duration": 7,
    "start_time": "2022-09-27T13:49:30.917Z"
   },
   {
    "duration": 104,
    "start_time": "2022-09-27T13:49:34.385Z"
   },
   {
    "duration": 133,
    "start_time": "2022-09-27T13:49:34.853Z"
   },
   {
    "duration": 230,
    "start_time": "2022-09-27T13:49:38.577Z"
   },
   {
    "duration": 176,
    "start_time": "2022-09-27T13:49:39.924Z"
   },
   {
    "duration": 6,
    "start_time": "2022-09-27T13:49:40.350Z"
   },
   {
    "duration": 136,
    "start_time": "2022-09-27T13:49:41.825Z"
   },
   {
    "duration": 151,
    "start_time": "2022-09-27T13:49:42.356Z"
   },
   {
    "duration": 6,
    "start_time": "2022-09-27T13:49:44.711Z"
   },
   {
    "duration": 2,
    "start_time": "2022-09-27T13:49:45.591Z"
   },
   {
    "duration": 8,
    "start_time": "2022-09-27T13:49:46.894Z"
   },
   {
    "duration": 2,
    "start_time": "2022-09-27T13:49:47.626Z"
   },
   {
    "duration": 5,
    "start_time": "2022-09-27T13:49:48.414Z"
   },
   {
    "duration": 108,
    "start_time": "2022-09-27T13:49:49.265Z"
   },
   {
    "duration": 164,
    "start_time": "2022-09-27T13:49:49.771Z"
   },
   {
    "duration": 136,
    "start_time": "2022-09-27T13:49:51.160Z"
   },
   {
    "duration": 6,
    "start_time": "2022-09-27T13:49:51.437Z"
   },
   {
    "duration": 132,
    "start_time": "2022-09-27T13:49:52.143Z"
   },
   {
    "duration": 146,
    "start_time": "2022-09-27T13:49:52.758Z"
   },
   {
    "duration": 6,
    "start_time": "2022-09-27T13:49:52.999Z"
   },
   {
    "duration": 4,
    "start_time": "2022-09-27T13:49:53.637Z"
   },
   {
    "duration": 4,
    "start_time": "2022-09-27T13:49:54.510Z"
   },
   {
    "duration": 143,
    "start_time": "2022-09-27T13:49:54.713Z"
   },
   {
    "duration": 5,
    "start_time": "2022-09-27T13:49:54.914Z"
   },
   {
    "duration": 130,
    "start_time": "2022-09-27T13:49:55.687Z"
   },
   {
    "duration": 6,
    "start_time": "2022-09-27T13:49:55.883Z"
   },
   {
    "duration": 145,
    "start_time": "2022-09-27T13:49:56.476Z"
   },
   {
    "duration": 208,
    "start_time": "2022-09-27T13:49:57.490Z"
   },
   {
    "duration": 5,
    "start_time": "2022-09-27T13:49:57.716Z"
   },
   {
    "duration": 134,
    "start_time": "2022-09-27T13:50:00.694Z"
   },
   {
    "duration": 7,
    "start_time": "2022-09-27T13:50:01.013Z"
   },
   {
    "duration": 144,
    "start_time": "2022-09-27T13:50:01.690Z"
   },
   {
    "duration": 6,
    "start_time": "2022-09-27T13:50:01.901Z"
   },
   {
    "duration": 154,
    "start_time": "2022-09-27T13:50:02.498Z"
   },
   {
    "duration": 5,
    "start_time": "2022-09-27T13:50:02.713Z"
   },
   {
    "duration": 146,
    "start_time": "2022-09-27T13:50:03.314Z"
   },
   {
    "duration": 6,
    "start_time": "2022-09-27T13:50:03.585Z"
   },
   {
    "duration": 139,
    "start_time": "2022-09-27T13:50:04.256Z"
   },
   {
    "duration": 6,
    "start_time": "2022-09-27T13:50:04.496Z"
   },
   {
    "duration": 157,
    "start_time": "2022-09-27T13:50:10.817Z"
   },
   {
    "duration": 4,
    "start_time": "2022-09-27T13:50:11.051Z"
   },
   {
    "duration": 12,
    "start_time": "2022-09-27T13:50:11.952Z"
   },
   {
    "duration": 7,
    "start_time": "2022-09-27T13:50:13.517Z"
   },
   {
    "duration": 1761,
    "start_time": "2022-09-27T13:50:14.927Z"
   },
   {
    "duration": 5,
    "start_time": "2022-09-27T13:50:20.716Z"
   },
   {
    "duration": 12173,
    "start_time": "2022-09-27T13:50:22.290Z"
   },
   {
    "duration": 3,
    "start_time": "2022-09-27T13:50:39.488Z"
   },
   {
    "duration": 5,
    "start_time": "2022-09-27T13:51:00.042Z"
   },
   {
    "duration": 11,
    "start_time": "2022-09-27T13:51:01.245Z"
   },
   {
    "duration": 4,
    "start_time": "2022-09-27T13:51:06.594Z"
   },
   {
    "duration": 14,
    "start_time": "2022-09-27T13:51:10.321Z"
   },
   {
    "duration": 28,
    "start_time": "2022-09-27T13:51:16.149Z"
   },
   {
    "duration": 36,
    "start_time": "2022-09-27T13:51:19.645Z"
   },
   {
    "duration": 4,
    "start_time": "2022-09-27T13:51:21.427Z"
   },
   {
    "duration": 5,
    "start_time": "2022-09-27T13:51:25.752Z"
   },
   {
    "duration": 5,
    "start_time": "2022-09-27T13:51:26.642Z"
   },
   {
    "duration": 7,
    "start_time": "2022-09-27T13:51:28.731Z"
   },
   {
    "duration": 109334,
    "start_time": "2022-09-27T13:52:15.051Z"
   },
   {
    "duration": 467,
    "start_time": "2022-09-27T13:57:30.312Z"
   },
   {
    "duration": 13,
    "start_time": "2022-09-27T14:30:29.752Z"
   },
   {
    "duration": 110,
    "start_time": "2022-09-27T14:31:04.182Z"
   },
   {
    "duration": 1467,
    "start_time": "2022-09-27T14:31:22.968Z"
   },
   {
    "duration": 4,
    "start_time": "2022-09-27T14:31:25.441Z"
   },
   {
    "duration": 4,
    "start_time": "2022-09-27T14:31:26.999Z"
   },
   {
    "duration": 260,
    "start_time": "2022-09-27T14:31:28.729Z"
   },
   {
    "duration": 23,
    "start_time": "2022-09-27T14:31:30.691Z"
   },
   {
    "duration": 3,
    "start_time": "2022-09-27T14:31:32.004Z"
   },
   {
    "duration": 16,
    "start_time": "2022-09-27T14:31:33.433Z"
   },
   {
    "duration": 3,
    "start_time": "2022-09-27T14:31:34.626Z"
   },
   {
    "duration": 18,
    "start_time": "2022-09-27T14:31:35.155Z"
   },
   {
    "duration": 4,
    "start_time": "2022-09-27T14:31:36.075Z"
   },
   {
    "duration": 15,
    "start_time": "2022-09-27T14:31:36.647Z"
   },
   {
    "duration": 3,
    "start_time": "2022-09-27T14:31:37.601Z"
   },
   {
    "duration": 21,
    "start_time": "2022-09-27T14:31:38.606Z"
   },
   {
    "duration": 15,
    "start_time": "2022-09-27T14:31:39.299Z"
   },
   {
    "duration": 11,
    "start_time": "2022-09-27T14:31:39.724Z"
   },
   {
    "duration": 4,
    "start_time": "2022-09-27T14:31:40.758Z"
   },
   {
    "duration": 3,
    "start_time": "2022-09-27T14:31:41.945Z"
   },
   {
    "duration": 3,
    "start_time": "2022-09-27T14:31:42.512Z"
   },
   {
    "duration": 7,
    "start_time": "2022-09-27T14:31:42.516Z"
   },
   {
    "duration": 3,
    "start_time": "2022-09-27T14:31:42.704Z"
   },
   {
    "duration": 5,
    "start_time": "2022-09-27T14:31:42.895Z"
   },
   {
    "duration": 3,
    "start_time": "2022-09-27T14:31:43.275Z"
   },
   {
    "duration": 9,
    "start_time": "2022-09-27T14:31:43.280Z"
   },
   {
    "duration": 3,
    "start_time": "2022-09-27T14:31:43.412Z"
   },
   {
    "duration": 3,
    "start_time": "2022-09-27T14:31:43.586Z"
   },
   {
    "duration": 4,
    "start_time": "2022-09-27T14:31:43.747Z"
   },
   {
    "duration": 3,
    "start_time": "2022-09-27T14:31:43.918Z"
   },
   {
    "duration": 2,
    "start_time": "2022-09-27T14:31:44.095Z"
   },
   {
    "duration": 5,
    "start_time": "2022-09-27T14:31:44.867Z"
   },
   {
    "duration": 9,
    "start_time": "2022-09-27T14:31:45.735Z"
   },
   {
    "duration": 4,
    "start_time": "2022-09-27T14:31:46.145Z"
   },
   {
    "duration": 62,
    "start_time": "2022-09-27T14:31:46.358Z"
   },
   {
    "duration": 10,
    "start_time": "2022-09-27T14:31:46.918Z"
   },
   {
    "duration": 4,
    "start_time": "2022-09-27T14:31:47.722Z"
   },
   {
    "duration": 5,
    "start_time": "2022-09-27T14:31:48.373Z"
   },
   {
    "duration": 8,
    "start_time": "2022-09-27T14:31:48.907Z"
   },
   {
    "duration": 116,
    "start_time": "2022-09-27T14:31:50.249Z"
   },
   {
    "duration": 127,
    "start_time": "2022-09-27T14:31:50.637Z"
   },
   {
    "duration": 228,
    "start_time": "2022-09-27T14:31:52.140Z"
   },
   {
    "duration": 140,
    "start_time": "2022-09-27T14:31:53.575Z"
   },
   {
    "duration": 5,
    "start_time": "2022-09-27T14:31:53.850Z"
   },
   {
    "duration": 97,
    "start_time": "2022-09-27T14:31:55.131Z"
   },
   {
    "duration": 145,
    "start_time": "2022-09-27T14:31:55.592Z"
   },
   {
    "duration": 7,
    "start_time": "2022-09-27T14:31:57.127Z"
   },
   {
    "duration": 2,
    "start_time": "2022-09-27T14:31:57.995Z"
   },
   {
    "duration": 6,
    "start_time": "2022-09-27T14:31:58.358Z"
   },
   {
    "duration": 2,
    "start_time": "2022-09-27T14:31:58.848Z"
   },
   {
    "duration": 5,
    "start_time": "2022-09-27T14:31:59.352Z"
   },
   {
    "duration": 107,
    "start_time": "2022-09-27T14:31:59.557Z"
   },
   {
    "duration": 144,
    "start_time": "2022-09-27T14:31:59.754Z"
   },
   {
    "duration": 149,
    "start_time": "2022-09-27T14:32:00.609Z"
   },
   {
    "duration": 6,
    "start_time": "2022-09-27T14:32:00.788Z"
   },
   {
    "duration": 140,
    "start_time": "2022-09-27T14:32:01.368Z"
   },
   {
    "duration": 145,
    "start_time": "2022-09-27T14:32:02.172Z"
   },
   {
    "duration": 6,
    "start_time": "2022-09-27T14:32:02.392Z"
   },
   {
    "duration": 4,
    "start_time": "2022-09-27T14:32:03.286Z"
   },
   {
    "duration": 3,
    "start_time": "2022-09-27T14:32:04.442Z"
   },
   {
    "duration": 141,
    "start_time": "2022-09-27T14:32:04.932Z"
   },
   {
    "duration": 6,
    "start_time": "2022-09-27T14:32:05.265Z"
   },
   {
    "duration": 141,
    "start_time": "2022-09-27T14:32:06.733Z"
   },
   {
    "duration": 6,
    "start_time": "2022-09-27T14:32:11.048Z"
   },
   {
    "duration": 169,
    "start_time": "2022-09-27T14:32:11.896Z"
   },
   {
    "duration": 225,
    "start_time": "2022-09-27T14:32:13.101Z"
   },
   {
    "duration": 5,
    "start_time": "2022-09-27T14:32:13.512Z"
   },
   {
    "duration": 127,
    "start_time": "2022-09-27T14:32:15.046Z"
   },
   {
    "duration": 5,
    "start_time": "2022-09-27T14:32:15.311Z"
   },
   {
    "duration": 182,
    "start_time": "2022-09-27T14:32:15.986Z"
   },
   {
    "duration": 8,
    "start_time": "2022-09-27T14:32:16.189Z"
   },
   {
    "duration": 129,
    "start_time": "2022-09-27T14:32:16.767Z"
   },
   {
    "duration": 5,
    "start_time": "2022-09-27T14:32:16.978Z"
   },
   {
    "duration": 141,
    "start_time": "2022-09-27T14:32:17.592Z"
   },
   {
    "duration": 6,
    "start_time": "2022-09-27T14:32:17.794Z"
   },
   {
    "duration": 141,
    "start_time": "2022-09-27T14:32:18.867Z"
   },
   {
    "duration": 13,
    "start_time": "2022-09-27T14:32:19.010Z"
   },
   {
    "duration": 143,
    "start_time": "2022-09-27T14:32:20.106Z"
   },
   {
    "duration": 4,
    "start_time": "2022-09-27T14:32:20.356Z"
   },
   {
    "duration": 12,
    "start_time": "2022-09-27T14:32:20.645Z"
   },
   {
    "duration": 10,
    "start_time": "2022-09-27T14:32:21.666Z"
   },
   {
    "duration": 2134,
    "start_time": "2022-09-27T14:32:22.970Z"
   },
   {
    "duration": 6,
    "start_time": "2022-09-27T14:32:26.319Z"
   },
   {
    "duration": 12371,
    "start_time": "2022-09-27T14:32:27.781Z"
   },
   {
    "duration": 2,
    "start_time": "2022-09-27T14:32:40.154Z"
   },
   {
    "duration": 12,
    "start_time": "2022-09-27T14:32:40.158Z"
   },
   {
    "duration": 18,
    "start_time": "2022-09-27T14:32:40.172Z"
   },
   {
    "duration": 5,
    "start_time": "2022-09-27T14:32:40.192Z"
   },
   {
    "duration": 49,
    "start_time": "2022-09-27T14:32:40.199Z"
   },
   {
    "duration": 37,
    "start_time": "2022-09-27T14:32:40.982Z"
   },
   {
    "duration": 45,
    "start_time": "2022-09-27T14:32:48.928Z"
   },
   {
    "duration": 5,
    "start_time": "2022-09-27T14:32:54.075Z"
   },
   {
    "duration": 5,
    "start_time": "2022-09-27T14:32:57.631Z"
   },
   {
    "duration": 5,
    "start_time": "2022-09-27T14:32:58.050Z"
   },
   {
    "duration": 7,
    "start_time": "2022-09-27T14:32:58.386Z"
   },
   {
    "duration": 149,
    "start_time": "2022-09-27T14:33:11.099Z"
   },
   {
    "duration": 130404,
    "start_time": "2022-09-27T14:33:48.065Z"
   },
   {
    "duration": 6,
    "start_time": "2022-09-27T14:37:14.046Z"
   },
   {
    "duration": 4,
    "start_time": "2022-09-27T14:37:15.545Z"
   },
   {
    "duration": 5,
    "start_time": "2022-09-27T14:37:16.978Z"
   },
   {
    "duration": 385,
    "start_time": "2022-09-27T14:37:17.750Z"
   },
   {
    "duration": 27,
    "start_time": "2022-09-27T14:37:18.259Z"
   },
   {
    "duration": 5,
    "start_time": "2022-09-27T14:37:18.768Z"
   },
   {
    "duration": 19,
    "start_time": "2022-09-27T14:37:19.440Z"
   },
   {
    "duration": 3,
    "start_time": "2022-09-27T14:37:20.041Z"
   },
   {
    "duration": 25,
    "start_time": "2022-09-27T14:37:20.421Z"
   },
   {
    "duration": 4,
    "start_time": "2022-09-27T14:37:20.959Z"
   },
   {
    "duration": 18,
    "start_time": "2022-09-27T14:37:21.337Z"
   },
   {
    "duration": 4,
    "start_time": "2022-09-27T14:37:22.050Z"
   },
   {
    "duration": 26,
    "start_time": "2022-09-27T14:37:22.828Z"
   },
   {
    "duration": 14,
    "start_time": "2022-09-27T14:37:23.457Z"
   },
   {
    "duration": 22,
    "start_time": "2022-09-27T14:37:23.474Z"
   },
   {
    "duration": 6,
    "start_time": "2022-09-27T14:37:24.326Z"
   },
   {
    "duration": 4,
    "start_time": "2022-09-27T14:37:25.115Z"
   },
   {
    "duration": 4,
    "start_time": "2022-09-27T14:37:25.758Z"
   },
   {
    "duration": 3,
    "start_time": "2022-09-27T14:37:26.616Z"
   },
   {
    "duration": 26,
    "start_time": "2022-09-27T14:37:26.621Z"
   },
   {
    "duration": 5,
    "start_time": "2022-09-27T14:37:26.814Z"
   },
   {
    "duration": 4,
    "start_time": "2022-09-27T14:37:27.009Z"
   },
   {
    "duration": 4,
    "start_time": "2022-09-27T14:37:27.203Z"
   },
   {
    "duration": 3,
    "start_time": "2022-09-27T14:37:27.379Z"
   },
   {
    "duration": 4,
    "start_time": "2022-09-27T14:37:27.545Z"
   },
   {
    "duration": 3,
    "start_time": "2022-09-27T14:37:27.707Z"
   },
   {
    "duration": 8,
    "start_time": "2022-09-27T14:37:27.879Z"
   },
   {
    "duration": 4,
    "start_time": "2022-09-27T14:37:28.214Z"
   },
   {
    "duration": 6,
    "start_time": "2022-09-27T14:37:29.206Z"
   },
   {
    "duration": 9,
    "start_time": "2022-09-27T14:37:30.047Z"
   },
   {
    "duration": 4,
    "start_time": "2022-09-27T14:37:30.149Z"
   },
   {
    "duration": 70,
    "start_time": "2022-09-27T14:37:30.337Z"
   },
   {
    "duration": 9,
    "start_time": "2022-09-27T14:37:33.592Z"
   },
   {
    "duration": 5,
    "start_time": "2022-09-27T14:37:33.605Z"
   },
   {
    "duration": 4,
    "start_time": "2022-09-27T14:37:33.617Z"
   },
   {
    "duration": 17,
    "start_time": "2022-09-27T14:37:33.623Z"
   },
   {
    "duration": 108,
    "start_time": "2022-09-27T14:37:33.642Z"
   },
   {
    "duration": 153,
    "start_time": "2022-09-27T14:37:33.771Z"
   },
   {
    "duration": 205,
    "start_time": "2022-09-27T14:37:35.123Z"
   },
   {
    "duration": 233,
    "start_time": "2022-09-27T14:37:36.096Z"
   },
   {
    "duration": 8,
    "start_time": "2022-09-27T14:37:36.360Z"
   },
   {
    "duration": 113,
    "start_time": "2022-09-27T14:37:37.495Z"
   },
   {
    "duration": 195,
    "start_time": "2022-09-27T14:37:38.034Z"
   },
   {
    "duration": 8,
    "start_time": "2022-09-27T14:37:39.530Z"
   },
   {
    "duration": 3,
    "start_time": "2022-09-27T14:37:40.723Z"
   },
   {
    "duration": 7,
    "start_time": "2022-09-27T14:37:40.824Z"
   },
   {
    "duration": 3,
    "start_time": "2022-09-27T14:37:41.245Z"
   },
   {
    "duration": 7,
    "start_time": "2022-09-27T14:37:41.807Z"
   },
   {
    "duration": 606,
    "start_time": "2022-09-27T14:37:42.013Z"
   },
   {
    "duration": 150,
    "start_time": "2022-09-27T14:37:42.840Z"
   },
   {
    "duration": 166,
    "start_time": "2022-09-27T14:37:44.438Z"
   },
   {
    "duration": 7,
    "start_time": "2022-09-27T14:37:45.241Z"
   },
   {
    "duration": 178,
    "start_time": "2022-09-27T14:37:47.798Z"
   },
   {
    "duration": 166,
    "start_time": "2022-09-27T14:37:49.131Z"
   },
   {
    "duration": 7,
    "start_time": "2022-09-27T14:37:49.423Z"
   },
   {
    "duration": 5,
    "start_time": "2022-09-27T14:37:50.499Z"
   },
   {
    "duration": 5,
    "start_time": "2022-09-27T14:37:52.130Z"
   },
   {
    "duration": 153,
    "start_time": "2022-09-27T14:37:52.982Z"
   },
   {
    "duration": 7,
    "start_time": "2022-09-27T14:37:53.305Z"
   },
   {
    "duration": 149,
    "start_time": "2022-09-27T14:37:54.225Z"
   },
   {
    "duration": 6,
    "start_time": "2022-09-27T14:37:54.431Z"
   },
   {
    "duration": 153,
    "start_time": "2022-09-27T14:37:54.985Z"
   },
   {
    "duration": 137,
    "start_time": "2022-09-27T14:37:55.684Z"
   },
   {
    "duration": 6,
    "start_time": "2022-09-27T14:37:55.853Z"
   },
   {
    "duration": 137,
    "start_time": "2022-09-27T14:37:57.189Z"
   },
   {
    "duration": 5,
    "start_time": "2022-09-27T14:37:57.328Z"
   },
   {
    "duration": 208,
    "start_time": "2022-09-27T14:37:57.374Z"
   },
   {
    "duration": 5,
    "start_time": "2022-09-27T14:37:57.584Z"
   },
   {
    "duration": 164,
    "start_time": "2022-09-27T14:37:57.927Z"
   },
   {
    "duration": 6,
    "start_time": "2022-09-27T14:37:58.095Z"
   },
   {
    "duration": 151,
    "start_time": "2022-09-27T14:37:58.645Z"
   },
   {
    "duration": 7,
    "start_time": "2022-09-27T14:37:58.800Z"
   },
   {
    "duration": 201,
    "start_time": "2022-09-27T14:37:59.291Z"
   },
   {
    "duration": 6,
    "start_time": "2022-09-27T14:37:59.493Z"
   },
   {
    "duration": 164,
    "start_time": "2022-09-27T14:38:00.121Z"
   },
   {
    "duration": 4,
    "start_time": "2022-09-27T14:38:00.298Z"
   },
   {
    "duration": 16,
    "start_time": "2022-09-27T14:38:00.436Z"
   },
   {
    "duration": 10,
    "start_time": "2022-09-27T14:38:01.044Z"
   },
   {
    "duration": 1776,
    "start_time": "2022-09-27T14:38:01.826Z"
   },
   {
    "duration": 6,
    "start_time": "2022-09-27T14:38:03.604Z"
   },
   {
    "duration": 12545,
    "start_time": "2022-09-27T14:38:03.644Z"
   },
   {
    "duration": 3,
    "start_time": "2022-09-27T14:38:16.192Z"
   },
   {
    "duration": 6,
    "start_time": "2022-09-27T14:38:22.967Z"
   },
   {
    "duration": 14,
    "start_time": "2022-09-27T14:38:23.994Z"
   },
   {
    "duration": 6,
    "start_time": "2022-09-27T14:38:25.211Z"
   },
   {
    "duration": 14,
    "start_time": "2022-09-27T14:38:25.973Z"
   },
   {
    "duration": 30,
    "start_time": "2022-09-27T14:38:27.668Z"
   },
   {
    "duration": 29,
    "start_time": "2022-09-27T14:38:28.926Z"
   },
   {
    "duration": 4,
    "start_time": "2022-09-27T14:38:29.511Z"
   },
   {
    "duration": 5,
    "start_time": "2022-09-27T14:38:37.412Z"
   },
   {
    "duration": 5,
    "start_time": "2022-09-27T14:38:44.693Z"
   },
   {
    "duration": 6,
    "start_time": "2022-09-27T14:38:47.889Z"
   },
   {
    "duration": 6,
    "start_time": "2022-09-27T14:38:49.444Z"
   },
   {
    "duration": 1720,
    "start_time": "2022-09-27T14:42:56.619Z"
   },
   {
    "duration": 5,
    "start_time": "2022-09-27T14:42:59.352Z"
   },
   {
    "duration": 5,
    "start_time": "2022-09-27T14:43:00.280Z"
   },
   {
    "duration": 328,
    "start_time": "2022-09-27T14:43:01.085Z"
   },
   {
    "duration": 34,
    "start_time": "2022-09-27T14:43:01.552Z"
   },
   {
    "duration": 4,
    "start_time": "2022-09-27T14:43:02.141Z"
   },
   {
    "duration": 23,
    "start_time": "2022-09-27T14:43:02.749Z"
   },
   {
    "duration": 3,
    "start_time": "2022-09-27T14:43:03.535Z"
   },
   {
    "duration": 24,
    "start_time": "2022-09-27T14:43:03.861Z"
   },
   {
    "duration": 4,
    "start_time": "2022-09-27T14:43:04.357Z"
   },
   {
    "duration": 17,
    "start_time": "2022-09-27T14:43:04.880Z"
   },
   {
    "duration": 4,
    "start_time": "2022-09-27T14:43:05.538Z"
   },
   {
    "duration": 28,
    "start_time": "2022-09-27T14:43:06.322Z"
   },
   {
    "duration": 14,
    "start_time": "2022-09-27T14:43:07.032Z"
   },
   {
    "duration": 10,
    "start_time": "2022-09-27T14:43:07.267Z"
   },
   {
    "duration": 5,
    "start_time": "2022-09-27T14:43:07.835Z"
   },
   {
    "duration": 5,
    "start_time": "2022-09-27T14:43:08.773Z"
   },
   {
    "duration": 5,
    "start_time": "2022-09-27T14:43:08.980Z"
   },
   {
    "duration": 3,
    "start_time": "2022-09-27T14:43:09.162Z"
   },
   {
    "duration": 3,
    "start_time": "2022-09-27T14:43:09.331Z"
   },
   {
    "duration": 4,
    "start_time": "2022-09-27T14:43:09.508Z"
   },
   {
    "duration": 4,
    "start_time": "2022-09-27T14:43:09.647Z"
   },
   {
    "duration": 3,
    "start_time": "2022-09-27T14:43:09.881Z"
   },
   {
    "duration": 4,
    "start_time": "2022-09-27T14:43:10.122Z"
   },
   {
    "duration": 5,
    "start_time": "2022-09-27T14:43:10.340Z"
   },
   {
    "duration": 4,
    "start_time": "2022-09-27T14:43:10.539Z"
   },
   {
    "duration": 5,
    "start_time": "2022-09-27T14:43:10.702Z"
   },
   {
    "duration": 4,
    "start_time": "2022-09-27T14:43:10.872Z"
   },
   {
    "duration": 6,
    "start_time": "2022-09-27T14:43:12.096Z"
   },
   {
    "duration": 9,
    "start_time": "2022-09-27T14:43:13.066Z"
   },
   {
    "duration": 4,
    "start_time": "2022-09-27T14:43:13.444Z"
   },
   {
    "duration": 83,
    "start_time": "2022-09-27T14:43:13.637Z"
   },
   {
    "duration": 10,
    "start_time": "2022-09-27T14:43:14.303Z"
   },
   {
    "duration": 6,
    "start_time": "2022-09-27T14:43:15.118Z"
   },
   {
    "duration": 6,
    "start_time": "2022-09-27T14:43:15.544Z"
   },
   {
    "duration": 8,
    "start_time": "2022-09-27T14:43:16.726Z"
   },
   {
    "duration": 107,
    "start_time": "2022-09-27T14:43:17.492Z"
   },
   {
    "duration": 150,
    "start_time": "2022-09-27T14:43:17.703Z"
   },
   {
    "duration": 253,
    "start_time": "2022-09-27T14:43:18.783Z"
   },
   {
    "duration": 218,
    "start_time": "2022-09-27T14:43:19.354Z"
   },
   {
    "duration": 7,
    "start_time": "2022-09-27T14:43:19.574Z"
   },
   {
    "duration": 159,
    "start_time": "2022-09-27T14:43:20.169Z"
   },
   {
    "duration": 164,
    "start_time": "2022-09-27T14:43:20.344Z"
   },
   {
    "duration": 8,
    "start_time": "2022-09-27T14:43:21.124Z"
   },
   {
    "duration": 3,
    "start_time": "2022-09-27T14:43:21.526Z"
   },
   {
    "duration": 7,
    "start_time": "2022-09-27T14:43:21.751Z"
   },
   {
    "duration": 2,
    "start_time": "2022-09-27T14:43:21.982Z"
   },
   {
    "duration": 5,
    "start_time": "2022-09-27T14:43:22.346Z"
   },
   {
    "duration": 114,
    "start_time": "2022-09-27T14:43:22.551Z"
   },
   {
    "duration": 172,
    "start_time": "2022-09-27T14:43:22.879Z"
   },
   {
    "duration": 145,
    "start_time": "2022-09-27T14:43:23.895Z"
   },
   {
    "duration": 6,
    "start_time": "2022-09-27T14:43:24.361Z"
   },
   {
    "duration": 182,
    "start_time": "2022-09-27T14:43:25.351Z"
   },
   {
    "duration": 180,
    "start_time": "2022-09-27T14:43:26.269Z"
   },
   {
    "duration": 10,
    "start_time": "2022-09-27T14:43:26.470Z"
   },
   {
    "duration": 6,
    "start_time": "2022-09-27T14:43:27.376Z"
   },
   {
    "duration": 5,
    "start_time": "2022-09-27T14:43:28.144Z"
   },
   {
    "duration": 165,
    "start_time": "2022-09-27T14:43:28.331Z"
   },
   {
    "duration": 6,
    "start_time": "2022-09-27T14:43:28.500Z"
   },
   {
    "duration": 165,
    "start_time": "2022-09-27T14:43:29.045Z"
   },
   {
    "duration": 5,
    "start_time": "2022-09-27T14:43:29.222Z"
   },
   {
    "duration": 158,
    "start_time": "2022-09-27T14:43:29.747Z"
   },
   {
    "duration": 262,
    "start_time": "2022-09-27T14:43:30.466Z"
   },
   {
    "duration": 6,
    "start_time": "2022-09-27T14:43:30.730Z"
   },
   {
    "duration": 183,
    "start_time": "2022-09-27T14:43:31.846Z"
   },
   {
    "duration": 7,
    "start_time": "2022-09-27T14:43:32.038Z"
   },
   {
    "duration": 160,
    "start_time": "2022-09-27T14:43:32.603Z"
   },
   {
    "duration": 7,
    "start_time": "2022-09-27T14:43:32.990Z"
   },
   {
    "duration": 146,
    "start_time": "2022-09-27T14:43:33.629Z"
   },
   {
    "duration": 5,
    "start_time": "2022-09-27T14:43:33.797Z"
   },
   {
    "duration": 144,
    "start_time": "2022-09-27T14:43:34.386Z"
   },
   {
    "duration": 7,
    "start_time": "2022-09-27T14:43:34.549Z"
   },
   {
    "duration": 147,
    "start_time": "2022-09-27T14:43:35.560Z"
   },
   {
    "duration": 5,
    "start_time": "2022-09-27T14:43:35.721Z"
   },
   {
    "duration": 159,
    "start_time": "2022-09-27T14:43:36.608Z"
   },
   {
    "duration": 6,
    "start_time": "2022-09-27T14:43:36.773Z"
   },
   {
    "duration": 16,
    "start_time": "2022-09-27T14:43:36.955Z"
   },
   {
    "duration": 11,
    "start_time": "2022-09-27T14:43:37.608Z"
   },
   {
    "duration": 1761,
    "start_time": "2022-09-27T14:43:38.255Z"
   },
   {
    "duration": 5,
    "start_time": "2022-09-27T14:43:43.493Z"
   },
   {
    "duration": 12538,
    "start_time": "2022-09-27T14:43:44.557Z"
   },
   {
    "duration": 2,
    "start_time": "2022-09-27T14:43:58.885Z"
   },
   {
    "duration": 5,
    "start_time": "2022-09-27T14:44:04.279Z"
   },
   {
    "duration": 14,
    "start_time": "2022-09-27T14:44:04.798Z"
   },
   {
    "duration": 4,
    "start_time": "2022-09-27T14:44:06.795Z"
   },
   {
    "duration": 18,
    "start_time": "2022-09-27T14:44:07.600Z"
   },
   {
    "duration": 33,
    "start_time": "2022-09-27T14:44:10.040Z"
   },
   {
    "duration": 42,
    "start_time": "2022-09-27T14:44:11.451Z"
   },
   {
    "duration": 5,
    "start_time": "2022-09-27T14:44:12.057Z"
   },
   {
    "duration": 5,
    "start_time": "2022-09-27T14:44:13.964Z"
   },
   {
    "duration": 6,
    "start_time": "2022-09-27T14:44:14.402Z"
   },
   {
    "duration": 6,
    "start_time": "2022-09-27T14:44:14.833Z"
   },
   {
    "duration": 249,
    "start_time": "2022-09-27T14:44:25.258Z"
   },
   {
    "duration": 7570,
    "start_time": "2022-09-27T14:48:18.471Z"
   },
   {
    "duration": 7281,
    "start_time": "2022-09-27T14:48:41.090Z"
   },
   {
    "duration": 5,
    "start_time": "2022-09-27T14:52:35.174Z"
   },
   {
    "duration": 5,
    "start_time": "2022-09-27T14:52:35.856Z"
   },
   {
    "duration": 5,
    "start_time": "2022-09-27T14:52:36.942Z"
   },
   {
    "duration": 288,
    "start_time": "2022-09-27T14:52:37.688Z"
   },
   {
    "duration": 23,
    "start_time": "2022-09-27T14:52:38.270Z"
   },
   {
    "duration": 4,
    "start_time": "2022-09-27T14:52:38.909Z"
   },
   {
    "duration": 19,
    "start_time": "2022-09-27T14:52:39.762Z"
   },
   {
    "duration": 3,
    "start_time": "2022-09-27T14:52:40.251Z"
   },
   {
    "duration": 23,
    "start_time": "2022-09-27T14:52:40.532Z"
   },
   {
    "duration": 3,
    "start_time": "2022-09-27T14:52:40.958Z"
   },
   {
    "duration": 16,
    "start_time": "2022-09-27T14:52:41.370Z"
   },
   {
    "duration": 3,
    "start_time": "2022-09-27T14:52:42.115Z"
   },
   {
    "duration": 21,
    "start_time": "2022-09-27T14:52:42.972Z"
   },
   {
    "duration": 15,
    "start_time": "2022-09-27T14:52:43.490Z"
   },
   {
    "duration": 16,
    "start_time": "2022-09-27T14:52:43.665Z"
   },
   {
    "duration": 6,
    "start_time": "2022-09-27T14:52:44.133Z"
   },
   {
    "duration": 5,
    "start_time": "2022-09-27T14:52:44.773Z"
   },
   {
    "duration": 5,
    "start_time": "2022-09-27T14:52:44.934Z"
   },
   {
    "duration": 3,
    "start_time": "2022-09-27T14:52:45.215Z"
   },
   {
    "duration": 3,
    "start_time": "2022-09-27T14:52:45.590Z"
   },
   {
    "duration": 4,
    "start_time": "2022-09-27T14:52:45.793Z"
   },
   {
    "duration": 4,
    "start_time": "2022-09-27T14:52:46.148Z"
   },
   {
    "duration": 4,
    "start_time": "2022-09-27T14:52:46.345Z"
   },
   {
    "duration": 4,
    "start_time": "2022-09-27T14:52:46.517Z"
   },
   {
    "duration": 5,
    "start_time": "2022-09-27T14:52:46.696Z"
   },
   {
    "duration": 5,
    "start_time": "2022-09-27T14:52:46.897Z"
   },
   {
    "duration": 4,
    "start_time": "2022-09-27T14:52:47.085Z"
   },
   {
    "duration": 4,
    "start_time": "2022-09-27T14:52:47.256Z"
   },
   {
    "duration": 6,
    "start_time": "2022-09-27T14:52:48.118Z"
   },
   {
    "duration": 7,
    "start_time": "2022-09-27T14:52:48.905Z"
   },
   {
    "duration": 3,
    "start_time": "2022-09-27T14:52:49.245Z"
   },
   {
    "duration": 65,
    "start_time": "2022-09-27T14:52:49.404Z"
   },
   {
    "duration": 9,
    "start_time": "2022-09-27T14:52:50.157Z"
   },
   {
    "duration": 6,
    "start_time": "2022-09-27T14:52:51.132Z"
   },
   {
    "duration": 5,
    "start_time": "2022-09-27T14:52:51.570Z"
   },
   {
    "duration": 7,
    "start_time": "2022-09-27T14:52:51.981Z"
   },
   {
    "duration": 95,
    "start_time": "2022-09-27T14:52:52.716Z"
   },
   {
    "duration": 133,
    "start_time": "2022-09-27T14:52:53.360Z"
   },
   {
    "duration": 200,
    "start_time": "2022-09-27T14:52:54.410Z"
   },
   {
    "duration": 154,
    "start_time": "2022-09-27T14:52:55.113Z"
   },
   {
    "duration": 8,
    "start_time": "2022-09-27T14:52:55.321Z"
   },
   {
    "duration": 140,
    "start_time": "2022-09-27T14:52:55.957Z"
   },
   {
    "duration": 577,
    "start_time": "2022-09-27T14:52:56.456Z"
   },
   {
    "duration": 7,
    "start_time": "2022-09-27T14:52:57.089Z"
   },
   {
    "duration": 3,
    "start_time": "2022-09-27T14:52:57.824Z"
   },
   {
    "duration": 9,
    "start_time": "2022-09-27T14:52:58.025Z"
   },
   {
    "duration": 2,
    "start_time": "2022-09-27T14:52:58.581Z"
   },
   {
    "duration": 5,
    "start_time": "2022-09-27T14:52:59.316Z"
   },
   {
    "duration": 99,
    "start_time": "2022-09-27T14:52:59.801Z"
   },
   {
    "duration": 162,
    "start_time": "2022-09-27T14:53:00.600Z"
   },
   {
    "duration": 145,
    "start_time": "2022-09-27T14:53:01.911Z"
   },
   {
    "duration": 7,
    "start_time": "2022-09-27T14:53:02.166Z"
   },
   {
    "duration": 145,
    "start_time": "2022-09-27T14:53:02.951Z"
   },
   {
    "duration": 141,
    "start_time": "2022-09-27T14:53:03.775Z"
   },
   {
    "duration": 5,
    "start_time": "2022-09-27T14:53:04.080Z"
   },
   {
    "duration": 5,
    "start_time": "2022-09-27T14:53:04.806Z"
   },
   {
    "duration": 5,
    "start_time": "2022-09-27T14:53:05.835Z"
   },
   {
    "duration": 205,
    "start_time": "2022-09-27T14:53:06.040Z"
   },
   {
    "duration": 6,
    "start_time": "2022-09-27T14:53:06.434Z"
   },
   {
    "duration": 154,
    "start_time": "2022-09-27T14:53:06.972Z"
   },
   {
    "duration": 5,
    "start_time": "2022-09-27T14:53:07.214Z"
   },
   {
    "duration": 163,
    "start_time": "2022-09-27T14:53:07.803Z"
   },
   {
    "duration": 157,
    "start_time": "2022-09-27T14:53:08.505Z"
   },
   {
    "duration": 5,
    "start_time": "2022-09-27T14:53:08.687Z"
   },
   {
    "duration": 128,
    "start_time": "2022-09-27T14:53:09.955Z"
   },
   {
    "duration": 5,
    "start_time": "2022-09-27T14:53:10.109Z"
   },
   {
    "duration": 139,
    "start_time": "2022-09-27T14:53:10.870Z"
   },
   {
    "duration": 5,
    "start_time": "2022-09-27T14:53:11.305Z"
   },
   {
    "duration": 137,
    "start_time": "2022-09-27T14:53:12.064Z"
   },
   {
    "duration": 6,
    "start_time": "2022-09-27T14:53:12.348Z"
   },
   {
    "duration": 148,
    "start_time": "2022-09-27T14:53:13.207Z"
   },
   {
    "duration": 7,
    "start_time": "2022-09-27T14:53:13.503Z"
   },
   {
    "duration": 250,
    "start_time": "2022-09-27T14:53:14.452Z"
   },
   {
    "duration": 6,
    "start_time": "2022-09-27T14:53:14.713Z"
   },
   {
    "duration": 137,
    "start_time": "2022-09-27T14:53:15.438Z"
   },
   {
    "duration": 4,
    "start_time": "2022-09-27T14:53:15.607Z"
   },
   {
    "duration": 12,
    "start_time": "2022-09-27T14:53:15.972Z"
   },
   {
    "duration": 8,
    "start_time": "2022-09-27T14:53:16.705Z"
   },
   {
    "duration": 1612,
    "start_time": "2022-09-27T14:53:17.840Z"
   },
   {
    "duration": 6,
    "start_time": "2022-09-27T14:53:19.454Z"
   },
   {
    "duration": 11988,
    "start_time": "2022-09-27T14:53:19.461Z"
   },
   {
    "duration": 3,
    "start_time": "2022-09-27T14:53:31.450Z"
   },
   {
    "duration": 4,
    "start_time": "2022-09-27T14:53:41.862Z"
   },
   {
    "duration": 14,
    "start_time": "2022-09-27T14:53:48.895Z"
   },
   {
    "duration": 4,
    "start_time": "2022-09-27T14:53:56.623Z"
   },
   {
    "duration": 16,
    "start_time": "2022-09-27T14:54:30.191Z"
   },
   {
    "duration": 25,
    "start_time": "2022-09-27T14:54:57.677Z"
   },
   {
    "duration": 39,
    "start_time": "2022-09-27T14:54:59.696Z"
   },
   {
    "duration": 4,
    "start_time": "2022-09-27T14:55:00.607Z"
   },
   {
    "duration": 3,
    "start_time": "2022-09-27T14:55:03.765Z"
   },
   {
    "duration": 5,
    "start_time": "2022-09-27T14:55:04.133Z"
   },
   {
    "duration": 5,
    "start_time": "2022-09-27T14:55:04.995Z"
   },
   {
    "duration": 109201,
    "start_time": "2022-09-27T14:55:14.962Z"
   },
   {
    "duration": 1524,
    "start_time": "2022-09-27T14:59:03.907Z"
   },
   {
    "duration": 4,
    "start_time": "2022-09-27T14:59:05.433Z"
   },
   {
    "duration": 28,
    "start_time": "2022-09-27T14:59:05.439Z"
   },
   {
    "duration": 242,
    "start_time": "2022-09-27T14:59:05.745Z"
   },
   {
    "duration": 24,
    "start_time": "2022-09-27T14:59:06.430Z"
   },
   {
    "duration": 3,
    "start_time": "2022-09-27T14:59:06.972Z"
   },
   {
    "duration": 18,
    "start_time": "2022-09-27T14:59:07.590Z"
   },
   {
    "duration": 3,
    "start_time": "2022-09-27T14:59:08.166Z"
   },
   {
    "duration": 20,
    "start_time": "2022-09-27T14:59:08.883Z"
   },
   {
    "duration": 3,
    "start_time": "2022-09-27T14:59:09.408Z"
   },
   {
    "duration": 16,
    "start_time": "2022-09-27T14:59:09.762Z"
   },
   {
    "duration": 3,
    "start_time": "2022-09-27T14:59:10.279Z"
   },
   {
    "duration": 23,
    "start_time": "2022-09-27T14:59:11.087Z"
   },
   {
    "duration": 20,
    "start_time": "2022-09-27T14:59:11.406Z"
   },
   {
    "duration": 17,
    "start_time": "2022-09-27T14:59:11.580Z"
   },
   {
    "duration": 5,
    "start_time": "2022-09-27T14:59:12.088Z"
   },
   {
    "duration": 3,
    "start_time": "2022-09-27T14:59:12.731Z"
   },
   {
    "duration": 3,
    "start_time": "2022-09-27T14:59:12.897Z"
   },
   {
    "duration": 3,
    "start_time": "2022-09-27T14:59:13.061Z"
   },
   {
    "duration": 4,
    "start_time": "2022-09-27T14:59:13.226Z"
   },
   {
    "duration": 4,
    "start_time": "2022-09-27T14:59:13.377Z"
   },
   {
    "duration": 3,
    "start_time": "2022-09-27T14:59:13.535Z"
   },
   {
    "duration": 4,
    "start_time": "2022-09-27T14:59:13.690Z"
   },
   {
    "duration": 4,
    "start_time": "2022-09-27T14:59:13.849Z"
   },
   {
    "duration": 3,
    "start_time": "2022-09-27T14:59:14.015Z"
   },
   {
    "duration": 3,
    "start_time": "2022-09-27T14:59:14.181Z"
   },
   {
    "duration": 4,
    "start_time": "2022-09-27T14:59:14.330Z"
   },
   {
    "duration": 4,
    "start_time": "2022-09-27T14:59:14.479Z"
   },
   {
    "duration": 4,
    "start_time": "2022-09-27T14:59:15.145Z"
   },
   {
    "duration": 9,
    "start_time": "2022-09-27T14:59:15.613Z"
   },
   {
    "duration": 3,
    "start_time": "2022-09-27T14:59:15.911Z"
   },
   {
    "duration": 96,
    "start_time": "2022-09-27T14:59:16.079Z"
   },
   {
    "duration": 7,
    "start_time": "2022-09-27T14:59:16.604Z"
   },
   {
    "duration": 5,
    "start_time": "2022-09-27T14:59:17.327Z"
   },
   {
    "duration": 4,
    "start_time": "2022-09-27T14:59:18.489Z"
   },
   {
    "duration": 7,
    "start_time": "2022-09-27T14:59:18.851Z"
   },
   {
    "duration": 118,
    "start_time": "2022-09-27T14:59:19.805Z"
   },
   {
    "duration": 140,
    "start_time": "2022-09-27T14:59:20.337Z"
   },
   {
    "duration": 219,
    "start_time": "2022-09-27T14:59:21.538Z"
   },
   {
    "duration": 145,
    "start_time": "2022-09-27T14:59:22.324Z"
   },
   {
    "duration": 6,
    "start_time": "2022-09-27T14:59:22.512Z"
   },
   {
    "duration": 100,
    "start_time": "2022-09-27T14:59:23.165Z"
   },
   {
    "duration": 163,
    "start_time": "2022-09-27T14:59:23.427Z"
   },
   {
    "duration": 6,
    "start_time": "2022-09-27T14:59:24.780Z"
   },
   {
    "duration": 3,
    "start_time": "2022-09-27T14:59:25.207Z"
   },
   {
    "duration": 7,
    "start_time": "2022-09-27T14:59:25.402Z"
   },
   {
    "duration": 3,
    "start_time": "2022-09-27T14:59:25.573Z"
   },
   {
    "duration": 7,
    "start_time": "2022-09-27T14:59:25.920Z"
   },
   {
    "duration": 127,
    "start_time": "2022-09-27T14:59:26.107Z"
   },
   {
    "duration": 165,
    "start_time": "2022-09-27T14:59:26.271Z"
   },
   {
    "duration": 149,
    "start_time": "2022-09-27T14:59:26.799Z"
   },
   {
    "duration": 6,
    "start_time": "2022-09-27T14:59:26.962Z"
   },
   {
    "duration": 155,
    "start_time": "2022-09-27T14:59:27.751Z"
   },
   {
    "duration": 154,
    "start_time": "2022-09-27T14:59:28.520Z"
   },
   {
    "duration": 6,
    "start_time": "2022-09-27T14:59:28.772Z"
   },
   {
    "duration": 4,
    "start_time": "2022-09-27T14:59:29.646Z"
   },
   {
    "duration": 5,
    "start_time": "2022-09-27T14:59:30.420Z"
   },
   {
    "duration": 169,
    "start_time": "2022-09-27T14:59:30.937Z"
   },
   {
    "duration": 7,
    "start_time": "2022-09-27T14:59:31.179Z"
   },
   {
    "duration": 160,
    "start_time": "2022-09-27T14:59:32.091Z"
   },
   {
    "duration": 5,
    "start_time": "2022-09-27T14:59:32.316Z"
   },
   {
    "duration": 163,
    "start_time": "2022-09-27T14:59:33.462Z"
   },
   {
    "duration": 241,
    "start_time": "2022-09-27T14:59:35.082Z"
   },
   {
    "duration": 6,
    "start_time": "2022-09-27T14:59:35.860Z"
   },
   {
    "duration": 147,
    "start_time": "2022-09-27T14:59:37.193Z"
   },
   {
    "duration": 6,
    "start_time": "2022-09-27T14:59:37.709Z"
   },
   {
    "duration": 146,
    "start_time": "2022-09-27T14:59:38.347Z"
   },
   {
    "duration": 6,
    "start_time": "2022-09-27T14:59:38.613Z"
   },
   {
    "duration": 200,
    "start_time": "2022-09-27T14:59:39.391Z"
   },
   {
    "duration": 6,
    "start_time": "2022-09-27T14:59:39.598Z"
   },
   {
    "duration": 151,
    "start_time": "2022-09-27T14:59:40.191Z"
   },
   {
    "duration": 6,
    "start_time": "2022-09-27T14:59:40.361Z"
   },
   {
    "duration": 139,
    "start_time": "2022-09-27T14:59:41.112Z"
   },
   {
    "duration": 7,
    "start_time": "2022-09-27T14:59:41.639Z"
   },
   {
    "duration": 132,
    "start_time": "2022-09-27T14:59:43.263Z"
   },
   {
    "duration": 5,
    "start_time": "2022-09-27T14:59:43.833Z"
   },
   {
    "duration": 13,
    "start_time": "2022-09-27T14:59:44.111Z"
   },
   {
    "duration": 8,
    "start_time": "2022-09-27T14:59:45.170Z"
   },
   {
    "duration": 1745,
    "start_time": "2022-09-27T14:59:46.559Z"
   },
   {
    "duration": 5,
    "start_time": "2022-09-27T14:59:49.577Z"
   },
   {
    "duration": 11778,
    "start_time": "2022-09-27T14:59:50.623Z"
   },
   {
    "duration": 2,
    "start_time": "2022-09-27T15:00:03.338Z"
   },
   {
    "duration": 50,
    "start_time": "2022-09-27T15:00:10.078Z"
   },
   {
    "duration": 111,
    "start_time": "2022-09-27T15:04:24.855Z"
   },
   {
    "duration": 14,
    "start_time": "2022-09-27T15:04:33.905Z"
   },
   {
    "duration": 5,
    "start_time": "2022-09-27T15:05:40.027Z"
   },
   {
    "duration": 38,
    "start_time": "2022-09-27T15:05:57.687Z"
   },
   {
    "duration": 5,
    "start_time": "2022-09-27T15:07:28.313Z"
   },
   {
    "duration": 10,
    "start_time": "2022-09-27T15:07:29.618Z"
   },
   {
    "duration": 5,
    "start_time": "2022-09-27T15:07:54.663Z"
   },
   {
    "duration": 6,
    "start_time": "2022-09-27T15:07:56.029Z"
   },
   {
    "duration": 7,
    "start_time": "2022-09-27T15:07:56.689Z"
   },
   {
    "duration": 35,
    "start_time": "2022-09-27T15:08:21.289Z"
   },
   {
    "duration": 14,
    "start_time": "2022-09-27T15:08:31.162Z"
   },
   {
    "duration": 13,
    "start_time": "2022-09-27T15:08:57.418Z"
   },
   {
    "duration": 6,
    "start_time": "2022-09-27T15:09:29.968Z"
   },
   {
    "duration": 6,
    "start_time": "2022-09-27T15:09:40.670Z"
   },
   {
    "duration": 5,
    "start_time": "2022-09-27T15:09:45.661Z"
   },
   {
    "duration": 113506,
    "start_time": "2022-09-27T15:09:56.795Z"
   },
   {
    "duration": 484,
    "start_time": "2022-09-27T15:12:47.064Z"
   },
   {
    "duration": 15,
    "start_time": "2022-09-27T15:13:00.663Z"
   },
   {
    "duration": 13,
    "start_time": "2022-09-27T15:13:04.905Z"
   },
   {
    "duration": 552682,
    "start_time": "2022-09-27T15:13:28.369Z"
   },
   {
    "duration": 441,
    "start_time": "2022-09-27T15:23:30.062Z"
   },
   {
    "duration": 14,
    "start_time": "2022-09-27T15:24:44.492Z"
   },
   {
    "duration": 1924,
    "start_time": "2022-09-27T15:58:23.102Z"
   },
   {
    "duration": 4,
    "start_time": "2022-09-27T15:58:26.233Z"
   },
   {
    "duration": 3,
    "start_time": "2022-09-27T15:58:27.229Z"
   },
   {
    "duration": 330,
    "start_time": "2022-09-27T15:58:27.873Z"
   },
   {
    "duration": 25,
    "start_time": "2022-09-27T15:58:28.381Z"
   },
   {
    "duration": 3,
    "start_time": "2022-09-27T15:58:29.355Z"
   },
   {
    "duration": 19,
    "start_time": "2022-09-27T15:58:30.489Z"
   },
   {
    "duration": 3,
    "start_time": "2022-09-27T15:58:30.707Z"
   },
   {
    "duration": 20,
    "start_time": "2022-09-27T15:58:31.037Z"
   },
   {
    "duration": 3,
    "start_time": "2022-09-27T15:58:31.549Z"
   },
   {
    "duration": 14,
    "start_time": "2022-09-27T15:58:31.927Z"
   },
   {
    "duration": 3,
    "start_time": "2022-09-27T15:58:32.755Z"
   },
   {
    "duration": 22,
    "start_time": "2022-09-27T15:58:33.223Z"
   },
   {
    "duration": 13,
    "start_time": "2022-09-27T15:58:33.599Z"
   },
   {
    "duration": 9,
    "start_time": "2022-09-27T15:58:33.791Z"
   },
   {
    "duration": 4,
    "start_time": "2022-09-27T15:58:34.340Z"
   },
   {
    "duration": 3,
    "start_time": "2022-09-27T15:58:35.032Z"
   },
   {
    "duration": 3,
    "start_time": "2022-09-27T15:58:35.201Z"
   },
   {
    "duration": 3,
    "start_time": "2022-09-27T15:58:35.384Z"
   },
   {
    "duration": 3,
    "start_time": "2022-09-27T15:58:35.549Z"
   },
   {
    "duration": 4,
    "start_time": "2022-09-27T15:58:35.709Z"
   },
   {
    "duration": 3,
    "start_time": "2022-09-27T15:58:35.898Z"
   },
   {
    "duration": 3,
    "start_time": "2022-09-27T15:58:36.117Z"
   },
   {
    "duration": 3,
    "start_time": "2022-09-27T15:58:36.311Z"
   },
   {
    "duration": 3,
    "start_time": "2022-09-27T15:58:36.525Z"
   },
   {
    "duration": 3,
    "start_time": "2022-09-27T15:58:36.716Z"
   },
   {
    "duration": 4,
    "start_time": "2022-09-27T15:58:36.897Z"
   },
   {
    "duration": 4,
    "start_time": "2022-09-27T15:58:37.213Z"
   },
   {
    "duration": 4,
    "start_time": "2022-09-27T15:58:38.415Z"
   },
   {
    "duration": 8,
    "start_time": "2022-09-27T15:58:38.956Z"
   },
   {
    "duration": 3,
    "start_time": "2022-09-27T15:58:41.073Z"
   },
   {
    "duration": 59,
    "start_time": "2022-09-27T15:58:41.282Z"
   },
   {
    "duration": 8,
    "start_time": "2022-09-27T15:58:46.291Z"
   },
   {
    "duration": 5,
    "start_time": "2022-09-27T15:58:48.662Z"
   },
   {
    "duration": 7,
    "start_time": "2022-09-27T15:58:48.984Z"
   },
   {
    "duration": 8,
    "start_time": "2022-09-27T15:58:49.308Z"
   },
   {
    "duration": 117,
    "start_time": "2022-09-27T15:58:50.137Z"
   },
   {
    "duration": 138,
    "start_time": "2022-09-27T15:58:50.678Z"
   },
   {
    "duration": 218,
    "start_time": "2022-09-27T15:58:51.615Z"
   },
   {
    "duration": 144,
    "start_time": "2022-09-27T15:58:52.129Z"
   },
   {
    "duration": 5,
    "start_time": "2022-09-27T15:58:52.517Z"
   },
   {
    "duration": 98,
    "start_time": "2022-09-27T15:58:53.394Z"
   },
   {
    "duration": 144,
    "start_time": "2022-09-27T15:58:53.879Z"
   },
   {
    "duration": 6,
    "start_time": "2022-09-27T15:58:55.243Z"
   },
   {
    "duration": 3,
    "start_time": "2022-09-27T15:58:55.702Z"
   },
   {
    "duration": 8,
    "start_time": "2022-09-27T15:58:56.127Z"
   },
   {
    "duration": 3,
    "start_time": "2022-09-27T15:58:57.404Z"
   },
   {
    "duration": 5,
    "start_time": "2022-09-27T15:58:57.800Z"
   },
   {
    "duration": 94,
    "start_time": "2022-09-27T15:58:58.182Z"
   },
   {
    "duration": 150,
    "start_time": "2022-09-27T15:58:58.278Z"
   },
   {
    "duration": 143,
    "start_time": "2022-09-27T15:58:58.727Z"
   },
   {
    "duration": 6,
    "start_time": "2022-09-27T15:58:58.975Z"
   },
   {
    "duration": 154,
    "start_time": "2022-09-27T15:58:59.910Z"
   },
   {
    "duration": 145,
    "start_time": "2022-09-27T15:59:00.847Z"
   },
   {
    "duration": 7,
    "start_time": "2022-09-27T15:59:01.080Z"
   },
   {
    "duration": 5,
    "start_time": "2022-09-27T15:59:01.893Z"
   },
   {
    "duration": 4,
    "start_time": "2022-09-27T15:59:02.963Z"
   },
   {
    "duration": 145,
    "start_time": "2022-09-27T15:59:03.164Z"
   },
   {
    "duration": 6,
    "start_time": "2022-09-27T15:59:03.804Z"
   },
   {
    "duration": 139,
    "start_time": "2022-09-27T15:59:04.915Z"
   },
   {
    "duration": 7,
    "start_time": "2022-09-27T15:59:05.390Z"
   },
   {
    "duration": 146,
    "start_time": "2022-09-27T15:59:06.282Z"
   },
   {
    "duration": 228,
    "start_time": "2022-09-27T15:59:07.432Z"
   },
   {
    "duration": 5,
    "start_time": "2022-09-27T15:59:07.884Z"
   },
   {
    "duration": 134,
    "start_time": "2022-09-27T15:59:09.642Z"
   },
   {
    "duration": 6,
    "start_time": "2022-09-27T15:59:10.206Z"
   },
   {
    "duration": 138,
    "start_time": "2022-09-27T15:59:11.662Z"
   },
   {
    "duration": 6,
    "start_time": "2022-09-27T15:59:12.001Z"
   },
   {
    "duration": 132,
    "start_time": "2022-09-27T15:59:13.842Z"
   },
   {
    "duration": 7,
    "start_time": "2022-09-27T15:59:14.293Z"
   },
   {
    "duration": 141,
    "start_time": "2022-09-27T15:59:18.858Z"
   },
   {
    "duration": 6,
    "start_time": "2022-09-27T15:59:19.012Z"
   },
   {
    "duration": 140,
    "start_time": "2022-09-27T15:59:19.924Z"
   },
   {
    "duration": 5,
    "start_time": "2022-09-27T15:59:20.280Z"
   },
   {
    "duration": 134,
    "start_time": "2022-09-27T15:59:21.107Z"
   },
   {
    "duration": 5,
    "start_time": "2022-09-27T15:59:21.297Z"
   },
   {
    "duration": 11,
    "start_time": "2022-09-27T15:59:21.495Z"
   },
   {
    "duration": 7,
    "start_time": "2022-09-27T15:59:22.832Z"
   },
   {
    "duration": 1527,
    "start_time": "2022-09-27T15:59:32.265Z"
   },
   {
    "duration": 5,
    "start_time": "2022-09-27T15:59:33.794Z"
   },
   {
    "duration": 13004,
    "start_time": "2022-09-27T15:59:33.911Z"
   },
   {
    "duration": 3,
    "start_time": "2022-09-27T15:59:49.390Z"
   },
   {
    "duration": 45,
    "start_time": "2022-09-27T15:59:55.043Z"
   },
   {
    "duration": 5,
    "start_time": "2022-09-27T15:59:55.517Z"
   },
   {
    "duration": 55,
    "start_time": "2022-09-27T15:59:55.962Z"
   },
   {
    "duration": 5,
    "start_time": "2022-09-27T15:59:59.249Z"
   },
   {
    "duration": 11,
    "start_time": "2022-09-27T16:00:01.884Z"
   },
   {
    "duration": 5,
    "start_time": "2022-09-27T16:00:13.799Z"
   },
   {
    "duration": 4,
    "start_time": "2022-09-27T16:00:14.060Z"
   },
   {
    "duration": 6,
    "start_time": "2022-09-27T16:00:14.299Z"
   },
   {
    "duration": 14,
    "start_time": "2022-09-27T16:00:24.801Z"
   },
   {
    "duration": 5,
    "start_time": "2022-09-27T16:00:31.173Z"
   },
   {
    "duration": 1696,
    "start_time": "2022-09-27T18:04:46.179Z"
   },
   {
    "duration": 4,
    "start_time": "2022-09-27T18:04:48.926Z"
   },
   {
    "duration": 7,
    "start_time": "2022-09-27T18:04:50.181Z"
   },
   {
    "duration": 260,
    "start_time": "2022-09-27T18:04:51.035Z"
   },
   {
    "duration": 24,
    "start_time": "2022-09-27T18:04:51.547Z"
   },
   {
    "duration": 3,
    "start_time": "2022-09-27T18:04:52.087Z"
   },
   {
    "duration": 19,
    "start_time": "2022-09-27T18:04:52.866Z"
   },
   {
    "duration": 2,
    "start_time": "2022-09-27T18:04:53.467Z"
   },
   {
    "duration": 23,
    "start_time": "2022-09-27T18:04:53.796Z"
   },
   {
    "duration": 3,
    "start_time": "2022-09-27T18:04:54.297Z"
   },
   {
    "duration": 15,
    "start_time": "2022-09-27T18:04:54.814Z"
   },
   {
    "duration": 4,
    "start_time": "2022-09-27T18:04:55.340Z"
   },
   {
    "duration": 28,
    "start_time": "2022-09-27T18:04:56.041Z"
   },
   {
    "duration": 18,
    "start_time": "2022-09-27T18:04:56.377Z"
   },
   {
    "duration": 10,
    "start_time": "2022-09-27T18:04:56.556Z"
   },
   {
    "duration": 5,
    "start_time": "2022-09-27T18:04:57.063Z"
   },
   {
    "duration": 3,
    "start_time": "2022-09-27T18:04:57.747Z"
   },
   {
    "duration": 3,
    "start_time": "2022-09-27T18:04:57.901Z"
   },
   {
    "duration": 3,
    "start_time": "2022-09-27T18:04:58.068Z"
   },
   {
    "duration": 4,
    "start_time": "2022-09-27T18:04:58.311Z"
   },
   {
    "duration": 4,
    "start_time": "2022-09-27T18:04:58.393Z"
   },
   {
    "duration": 4,
    "start_time": "2022-09-27T18:04:58.543Z"
   },
   {
    "duration": 4,
    "start_time": "2022-09-27T18:04:58.703Z"
   },
   {
    "duration": 4,
    "start_time": "2022-09-27T18:04:58.867Z"
   },
   {
    "duration": 4,
    "start_time": "2022-09-27T18:04:59.028Z"
   },
   {
    "duration": 4,
    "start_time": "2022-09-27T18:04:59.229Z"
   },
   {
    "duration": 3,
    "start_time": "2022-09-27T18:04:59.355Z"
   },
   {
    "duration": 3,
    "start_time": "2022-09-27T18:04:59.512Z"
   },
   {
    "duration": 4,
    "start_time": "2022-09-27T18:05:00.226Z"
   },
   {
    "duration": 8,
    "start_time": "2022-09-27T18:05:00.745Z"
   },
   {
    "duration": 3,
    "start_time": "2022-09-27T18:05:01.101Z"
   },
   {
    "duration": 60,
    "start_time": "2022-09-27T18:05:01.554Z"
   },
   {
    "duration": 9,
    "start_time": "2022-09-27T18:05:02.154Z"
   },
   {
    "duration": 5,
    "start_time": "2022-09-27T18:05:02.875Z"
   },
   {
    "duration": 5,
    "start_time": "2022-09-27T18:05:03.253Z"
   },
   {
    "duration": 7,
    "start_time": "2022-09-27T18:05:03.619Z"
   },
   {
    "duration": 105,
    "start_time": "2022-09-27T18:05:04.352Z"
   },
   {
    "duration": 152,
    "start_time": "2022-09-27T18:05:04.661Z"
   },
   {
    "duration": 235,
    "start_time": "2022-09-27T18:05:05.386Z"
   },
   {
    "duration": 191,
    "start_time": "2022-09-27T18:05:05.928Z"
   },
   {
    "duration": 7,
    "start_time": "2022-09-27T18:05:06.124Z"
   },
   {
    "duration": 102,
    "start_time": "2022-09-27T18:05:06.661Z"
   },
   {
    "duration": 145,
    "start_time": "2022-09-27T18:05:06.840Z"
   },
   {
    "duration": 7,
    "start_time": "2022-09-27T18:05:07.529Z"
   },
   {
    "duration": 3,
    "start_time": "2022-09-27T18:05:07.892Z"
   },
   {
    "duration": 6,
    "start_time": "2022-09-27T18:05:08.072Z"
   },
   {
    "duration": 3,
    "start_time": "2022-09-27T18:05:08.265Z"
   },
   {
    "duration": 5,
    "start_time": "2022-09-27T18:05:08.643Z"
   },
   {
    "duration": 116,
    "start_time": "2022-09-27T18:05:08.821Z"
   },
   {
    "duration": 168,
    "start_time": "2022-09-27T18:05:09.032Z"
   },
   {
    "duration": 182,
    "start_time": "2022-09-27T18:05:09.591Z"
   },
   {
    "duration": 6,
    "start_time": "2022-09-27T18:05:09.796Z"
   },
   {
    "duration": 157,
    "start_time": "2022-09-27T18:05:10.327Z"
   },
   {
    "duration": 227,
    "start_time": "2022-09-27T18:05:10.853Z"
   },
   {
    "duration": 6,
    "start_time": "2022-09-27T18:05:11.083Z"
   },
   {
    "duration": 5,
    "start_time": "2022-09-27T18:05:11.590Z"
   },
   {
    "duration": 4,
    "start_time": "2022-09-27T18:05:12.272Z"
   },
   {
    "duration": 163,
    "start_time": "2022-09-27T18:05:12.470Z"
   },
   {
    "duration": 7,
    "start_time": "2022-09-27T18:05:12.649Z"
   },
   {
    "duration": 187,
    "start_time": "2022-09-27T18:05:13.273Z"
   },
   {
    "duration": 6,
    "start_time": "2022-09-27T18:05:13.462Z"
   },
   {
    "duration": 159,
    "start_time": "2022-09-27T18:05:14.063Z"
   },
   {
    "duration": 274,
    "start_time": "2022-09-27T18:05:15.067Z"
   },
   {
    "duration": 11,
    "start_time": "2022-09-27T18:05:15.344Z"
   },
   {
    "duration": 150,
    "start_time": "2022-09-27T18:05:17.201Z"
   },
   {
    "duration": 8,
    "start_time": "2022-09-27T18:05:17.450Z"
   },
   {
    "duration": 141,
    "start_time": "2022-09-27T18:05:18.015Z"
   },
   {
    "duration": 5,
    "start_time": "2022-09-27T18:05:18.225Z"
   },
   {
    "duration": 205,
    "start_time": "2022-09-27T18:05:19.228Z"
   },
   {
    "duration": 7,
    "start_time": "2022-09-27T18:05:19.435Z"
   },
   {
    "duration": 155,
    "start_time": "2022-09-27T18:05:20.187Z"
   },
   {
    "duration": 6,
    "start_time": "2022-09-27T18:05:20.369Z"
   },
   {
    "duration": 148,
    "start_time": "2022-09-27T18:05:20.993Z"
   },
   {
    "duration": 6,
    "start_time": "2022-09-27T18:05:21.438Z"
   },
   {
    "duration": 136,
    "start_time": "2022-09-27T18:05:22.200Z"
   },
   {
    "duration": 5,
    "start_time": "2022-09-27T18:05:22.664Z"
   },
   {
    "duration": 13,
    "start_time": "2022-09-27T18:05:22.871Z"
   },
   {
    "duration": 8,
    "start_time": "2022-09-27T18:05:24.047Z"
   },
   {
    "duration": 1732,
    "start_time": "2022-09-27T18:05:26.324Z"
   },
   {
    "duration": 6,
    "start_time": "2022-09-27T18:05:34.961Z"
   },
   {
    "duration": 13358,
    "start_time": "2022-09-27T18:05:36.215Z"
   },
   {
    "duration": 3,
    "start_time": "2022-09-27T18:05:50.997Z"
   },
   {
    "duration": 51,
    "start_time": "2022-09-27T18:06:17.223Z"
   },
   {
    "duration": 6,
    "start_time": "2022-09-27T18:06:19.413Z"
   },
   {
    "duration": 38,
    "start_time": "2022-09-27T18:06:20.269Z"
   },
   {
    "duration": 5,
    "start_time": "2022-09-27T18:06:21.945Z"
   },
   {
    "duration": 12,
    "start_time": "2022-09-27T18:06:25.113Z"
   },
   {
    "duration": 5,
    "start_time": "2022-09-27T18:06:39.590Z"
   },
   {
    "duration": 6,
    "start_time": "2022-09-27T18:06:40.647Z"
   },
   {
    "duration": 6,
    "start_time": "2022-09-27T18:06:41.286Z"
   },
   {
    "duration": 12,
    "start_time": "2022-09-27T18:07:04.016Z"
   },
   {
    "duration": 5,
    "start_time": "2022-09-27T18:07:04.899Z"
   },
   {
    "duration": 225,
    "start_time": "2022-09-27T18:10:15.492Z"
   },
   {
    "duration": 90,
    "start_time": "2022-09-27T18:11:26.958Z"
   },
   {
    "duration": 107,
    "start_time": "2022-09-27T18:12:27.790Z"
   },
   {
    "duration": 93,
    "start_time": "2022-09-27T18:13:28.153Z"
   },
   {
    "duration": 42,
    "start_time": "2022-09-27T18:13:48.252Z"
   },
   {
    "duration": 98,
    "start_time": "2022-09-27T18:15:47.313Z"
   },
   {
    "duration": 159,
    "start_time": "2022-09-27T18:15:52.694Z"
   },
   {
    "duration": 92,
    "start_time": "2022-09-27T18:16:49.474Z"
   },
   {
    "duration": 91,
    "start_time": "2022-09-27T18:19:50.683Z"
   },
   {
    "duration": 120,
    "start_time": "2022-09-27T18:20:17.573Z"
   },
   {
    "duration": 108,
    "start_time": "2022-09-27T18:20:37.064Z"
   },
   {
    "duration": 98,
    "start_time": "2022-09-27T18:21:05.890Z"
   },
   {
    "duration": 93,
    "start_time": "2022-09-27T18:23:02.397Z"
   },
   {
    "duration": 105,
    "start_time": "2022-09-27T18:23:35.778Z"
   },
   {
    "duration": 100,
    "start_time": "2022-09-27T18:23:49.061Z"
   },
   {
    "duration": 111,
    "start_time": "2022-09-27T18:25:13.803Z"
   },
   {
    "duration": 6,
    "start_time": "2022-09-27T18:26:52.399Z"
   },
   {
    "duration": 3,
    "start_time": "2022-09-27T18:26:53.028Z"
   },
   {
    "duration": 5,
    "start_time": "2022-09-27T18:26:54.369Z"
   },
   {
    "duration": 1779,
    "start_time": "2022-09-27T18:27:04.442Z"
   },
   {
    "duration": 5,
    "start_time": "2022-09-27T18:27:06.223Z"
   },
   {
    "duration": 40,
    "start_time": "2022-09-27T18:27:06.230Z"
   },
   {
    "duration": 325,
    "start_time": "2022-09-27T18:27:07.285Z"
   },
   {
    "duration": 28,
    "start_time": "2022-09-27T18:27:07.888Z"
   },
   {
    "duration": 4,
    "start_time": "2022-09-27T18:27:08.356Z"
   },
   {
    "duration": 18,
    "start_time": "2022-09-27T18:27:09.086Z"
   },
   {
    "duration": 4,
    "start_time": "2022-09-27T18:27:09.735Z"
   },
   {
    "duration": 30,
    "start_time": "2022-09-27T18:27:10.068Z"
   },
   {
    "duration": 6,
    "start_time": "2022-09-27T18:27:10.529Z"
   },
   {
    "duration": 20,
    "start_time": "2022-09-27T18:27:10.960Z"
   },
   {
    "duration": 5,
    "start_time": "2022-09-27T18:27:11.438Z"
   },
   {
    "duration": 29,
    "start_time": "2022-09-27T18:27:12.509Z"
   },
   {
    "duration": 23,
    "start_time": "2022-09-27T18:27:13.048Z"
   },
   {
    "duration": 14,
    "start_time": "2022-09-27T18:27:13.238Z"
   },
   {
    "duration": 7,
    "start_time": "2022-09-27T18:27:13.751Z"
   },
   {
    "duration": 4,
    "start_time": "2022-09-27T18:27:14.641Z"
   },
   {
    "duration": 4,
    "start_time": "2022-09-27T18:27:14.815Z"
   },
   {
    "duration": 4,
    "start_time": "2022-09-27T18:27:14.990Z"
   },
   {
    "duration": 4,
    "start_time": "2022-09-27T18:27:15.174Z"
   },
   {
    "duration": 4,
    "start_time": "2022-09-27T18:27:15.338Z"
   },
   {
    "duration": 5,
    "start_time": "2022-09-27T18:27:15.497Z"
   },
   {
    "duration": 3,
    "start_time": "2022-09-27T18:27:15.675Z"
   },
   {
    "duration": 4,
    "start_time": "2022-09-27T18:27:15.828Z"
   },
   {
    "duration": 4,
    "start_time": "2022-09-27T18:27:15.993Z"
   },
   {
    "duration": 7,
    "start_time": "2022-09-27T18:27:16.169Z"
   },
   {
    "duration": 9,
    "start_time": "2022-09-27T18:27:16.344Z"
   },
   {
    "duration": 3,
    "start_time": "2022-09-27T18:27:16.499Z"
   },
   {
    "duration": 6,
    "start_time": "2022-09-27T18:27:17.137Z"
   },
   {
    "duration": 9,
    "start_time": "2022-09-27T18:27:17.638Z"
   },
   {
    "duration": 4,
    "start_time": "2022-09-27T18:27:18.064Z"
   },
   {
    "duration": 108,
    "start_time": "2022-09-27T18:27:18.249Z"
   },
   {
    "duration": 9,
    "start_time": "2022-09-27T18:27:18.783Z"
   },
   {
    "duration": 6,
    "start_time": "2022-09-27T18:27:19.519Z"
   },
   {
    "duration": 6,
    "start_time": "2022-09-27T18:27:19.911Z"
   },
   {
    "duration": 8,
    "start_time": "2022-09-27T18:27:20.276Z"
   },
   {
    "duration": 157,
    "start_time": "2022-09-27T18:27:21.014Z"
   },
   {
    "duration": 206,
    "start_time": "2022-09-27T18:27:21.223Z"
   },
   {
    "duration": 284,
    "start_time": "2022-09-27T18:27:22.138Z"
   },
   {
    "duration": 188,
    "start_time": "2022-09-27T18:27:23.081Z"
   },
   {
    "duration": 6,
    "start_time": "2022-09-27T18:27:23.276Z"
   },
   {
    "duration": 154,
    "start_time": "2022-09-27T18:27:23.789Z"
   },
   {
    "duration": 191,
    "start_time": "2022-09-27T18:27:23.953Z"
   },
   {
    "duration": 7,
    "start_time": "2022-09-27T18:27:24.625Z"
   },
   {
    "duration": 3,
    "start_time": "2022-09-27T18:27:24.956Z"
   },
   {
    "duration": 7,
    "start_time": "2022-09-27T18:27:25.119Z"
   },
   {
    "duration": 2,
    "start_time": "2022-09-27T18:27:25.286Z"
   },
   {
    "duration": 6,
    "start_time": "2022-09-27T18:27:25.796Z"
   },
   {
    "duration": 134,
    "start_time": "2022-09-27T18:27:25.979Z"
   },
   {
    "duration": 221,
    "start_time": "2022-09-27T18:27:26.153Z"
   },
   {
    "duration": 209,
    "start_time": "2022-09-27T18:27:26.714Z"
   },
   {
    "duration": 8,
    "start_time": "2022-09-27T18:27:26.970Z"
   },
   {
    "duration": 173,
    "start_time": "2022-09-27T18:27:27.596Z"
   },
   {
    "duration": 167,
    "start_time": "2022-09-27T18:27:28.251Z"
   },
   {
    "duration": 7,
    "start_time": "2022-09-27T18:27:28.693Z"
   },
   {
    "duration": 6,
    "start_time": "2022-09-27T18:27:29.232Z"
   },
   {
    "duration": 4,
    "start_time": "2022-09-27T18:27:29.899Z"
   },
   {
    "duration": 148,
    "start_time": "2022-09-27T18:27:30.091Z"
   },
   {
    "duration": 6,
    "start_time": "2022-09-27T18:27:30.329Z"
   },
   {
    "duration": 211,
    "start_time": "2022-09-27T18:27:30.897Z"
   },
   {
    "duration": 22,
    "start_time": "2022-09-27T18:27:31.111Z"
   },
   {
    "duration": 180,
    "start_time": "2022-09-27T18:27:31.590Z"
   },
   {
    "duration": 283,
    "start_time": "2022-09-27T18:27:32.706Z"
   },
   {
    "duration": 5,
    "start_time": "2022-09-27T18:27:32.992Z"
   },
   {
    "duration": 175,
    "start_time": "2022-09-27T18:27:33.737Z"
   },
   {
    "duration": 9,
    "start_time": "2022-09-27T18:27:33.915Z"
   },
   {
    "duration": 160,
    "start_time": "2022-09-27T18:27:34.435Z"
   },
   {
    "duration": 6,
    "start_time": "2022-09-27T18:27:34.599Z"
   },
   {
    "duration": 186,
    "start_time": "2022-09-27T18:27:35.337Z"
   },
   {
    "duration": 6,
    "start_time": "2022-09-27T18:27:35.525Z"
   },
   {
    "duration": 182,
    "start_time": "2022-09-27T18:27:35.837Z"
   },
   {
    "duration": 17,
    "start_time": "2022-09-27T18:27:36.021Z"
   },
   {
    "duration": 210,
    "start_time": "2022-09-27T18:27:36.525Z"
   },
   {
    "duration": 7,
    "start_time": "2022-09-27T18:27:36.738Z"
   },
   {
    "duration": 208,
    "start_time": "2022-09-27T18:27:37.271Z"
   },
   {
    "duration": 7,
    "start_time": "2022-09-27T18:27:37.641Z"
   },
   {
    "duration": 23,
    "start_time": "2022-09-27T18:27:37.843Z"
   },
   {
    "duration": 11,
    "start_time": "2022-09-27T18:27:38.400Z"
   },
   {
    "duration": 1837,
    "start_time": "2022-09-27T18:27:39.323Z"
   },
   {
    "duration": 6,
    "start_time": "2022-09-27T18:27:41.163Z"
   },
   {
    "duration": 14053,
    "start_time": "2022-09-27T18:27:41.177Z"
   },
   {
    "duration": 3,
    "start_time": "2022-09-27T18:27:55.233Z"
   },
   {
    "duration": 58,
    "start_time": "2022-09-27T18:28:00.554Z"
   },
   {
    "duration": 5,
    "start_time": "2022-09-27T18:28:01.241Z"
   },
   {
    "duration": 46,
    "start_time": "2022-09-27T18:28:02.072Z"
   },
   {
    "duration": 6,
    "start_time": "2022-09-27T18:28:02.801Z"
   },
   {
    "duration": 14,
    "start_time": "2022-09-27T18:28:03.664Z"
   },
   {
    "duration": 4,
    "start_time": "2022-09-27T18:28:14.656Z"
   },
   {
    "duration": 5,
    "start_time": "2022-09-27T18:28:16.581Z"
   },
   {
    "duration": 6,
    "start_time": "2022-09-27T18:28:17.109Z"
   },
   {
    "duration": 15,
    "start_time": "2022-09-27T18:28:26.168Z"
   },
   {
    "duration": 4,
    "start_time": "2022-09-27T18:28:27.351Z"
   },
   {
    "duration": 194,
    "start_time": "2022-09-27T18:28:28.544Z"
   },
   {
    "duration": 5006,
    "start_time": "2022-09-27T18:28:48.534Z"
   },
   {
    "duration": 4504181,
    "start_time": "2022-09-27T18:29:13.341Z"
   },
   {
    "duration": 15,
    "start_time": "2022-09-27T19:44:59.641Z"
   },
   {
    "duration": 13,
    "start_time": "2022-09-27T19:45:11.587Z"
   },
   {
    "duration": 14,
    "start_time": "2022-09-27T19:45:15.204Z"
   },
   {
    "duration": 338,
    "start_time": "2022-09-27T19:45:30.653Z"
   },
   {
    "duration": 467,
    "start_time": "2022-09-27T19:45:40.210Z"
   },
   {
    "duration": 1927,
    "start_time": "2022-09-28T00:16:43.459Z"
   },
   {
    "duration": 3,
    "start_time": "2022-09-28T00:16:45.388Z"
   },
   {
    "duration": 3,
    "start_time": "2022-09-28T00:16:47.308Z"
   },
   {
    "duration": 275,
    "start_time": "2022-09-28T00:16:48.266Z"
   },
   {
    "duration": 22,
    "start_time": "2022-09-28T00:16:49.050Z"
   },
   {
    "duration": 3,
    "start_time": "2022-09-28T00:16:49.740Z"
   },
   {
    "duration": 17,
    "start_time": "2022-09-28T00:16:50.456Z"
   },
   {
    "duration": 3,
    "start_time": "2022-09-28T00:16:51.014Z"
   },
   {
    "duration": 17,
    "start_time": "2022-09-28T00:16:51.372Z"
   },
   {
    "duration": 3,
    "start_time": "2022-09-28T00:16:51.878Z"
   },
   {
    "duration": 13,
    "start_time": "2022-09-28T00:16:52.224Z"
   },
   {
    "duration": 3,
    "start_time": "2022-09-28T00:16:52.703Z"
   },
   {
    "duration": 20,
    "start_time": "2022-09-28T00:16:53.454Z"
   },
   {
    "duration": 14,
    "start_time": "2022-09-28T00:16:53.902Z"
   },
   {
    "duration": 9,
    "start_time": "2022-09-28T00:16:54.066Z"
   },
   {
    "duration": 4,
    "start_time": "2022-09-28T00:16:54.498Z"
   },
   {
    "duration": 3,
    "start_time": "2022-09-28T00:16:55.275Z"
   },
   {
    "duration": 3,
    "start_time": "2022-09-28T00:16:55.446Z"
   },
   {
    "duration": 3,
    "start_time": "2022-09-28T00:16:55.562Z"
   },
   {
    "duration": 3,
    "start_time": "2022-09-28T00:16:55.787Z"
   },
   {
    "duration": 3,
    "start_time": "2022-09-28T00:16:55.963Z"
   },
   {
    "duration": 3,
    "start_time": "2022-09-28T00:16:56.294Z"
   },
   {
    "duration": 2,
    "start_time": "2022-09-28T00:16:56.475Z"
   },
   {
    "duration": 3,
    "start_time": "2022-09-28T00:16:56.651Z"
   },
   {
    "duration": 3,
    "start_time": "2022-09-28T00:16:56.853Z"
   },
   {
    "duration": 2,
    "start_time": "2022-09-28T00:16:57.040Z"
   },
   {
    "duration": 4,
    "start_time": "2022-09-28T00:16:57.198Z"
   },
   {
    "duration": 3,
    "start_time": "2022-09-28T00:16:57.645Z"
   },
   {
    "duration": 4,
    "start_time": "2022-09-28T00:16:58.102Z"
   },
   {
    "duration": 7,
    "start_time": "2022-09-28T00:16:58.625Z"
   },
   {
    "duration": 3,
    "start_time": "2022-09-28T00:16:58.972Z"
   },
   {
    "duration": 57,
    "start_time": "2022-09-28T00:16:59.120Z"
   },
   {
    "duration": 7,
    "start_time": "2022-09-28T00:16:59.632Z"
   },
   {
    "duration": 4,
    "start_time": "2022-09-28T00:17:00.336Z"
   },
   {
    "duration": 5,
    "start_time": "2022-09-28T00:17:00.671Z"
   },
   {
    "duration": 7,
    "start_time": "2022-09-28T00:17:01.046Z"
   },
   {
    "duration": 98,
    "start_time": "2022-09-28T00:17:01.726Z"
   },
   {
    "duration": 122,
    "start_time": "2022-09-28T00:17:01.908Z"
   },
   {
    "duration": 206,
    "start_time": "2022-09-28T00:17:02.807Z"
   },
   {
    "duration": 139,
    "start_time": "2022-09-28T00:17:03.371Z"
   },
   {
    "duration": 5,
    "start_time": "2022-09-28T00:17:03.552Z"
   },
   {
    "duration": 91,
    "start_time": "2022-09-28T00:17:04.170Z"
   },
   {
    "duration": 135,
    "start_time": "2022-09-28T00:17:04.367Z"
   },
   {
    "duration": 6,
    "start_time": "2022-09-28T00:17:05.119Z"
   },
   {
    "duration": 2,
    "start_time": "2022-09-28T00:17:05.464Z"
   },
   {
    "duration": 6,
    "start_time": "2022-09-28T00:17:05.640Z"
   },
   {
    "duration": 3,
    "start_time": "2022-09-28T00:17:06.012Z"
   },
   {
    "duration": 5,
    "start_time": "2022-09-28T00:17:06.430Z"
   },
   {
    "duration": 88,
    "start_time": "2022-09-28T00:17:06.611Z"
   },
   {
    "duration": 140,
    "start_time": "2022-09-28T00:17:07.116Z"
   },
   {
    "duration": 138,
    "start_time": "2022-09-28T00:17:07.685Z"
   },
   {
    "duration": 6,
    "start_time": "2022-09-28T00:17:07.883Z"
   },
   {
    "duration": 128,
    "start_time": "2022-09-28T00:17:08.553Z"
   },
   {
    "duration": 129,
    "start_time": "2022-09-28T00:17:09.156Z"
   },
   {
    "duration": 6,
    "start_time": "2022-09-28T00:17:09.353Z"
   },
   {
    "duration": 3,
    "start_time": "2022-09-28T00:17:09.891Z"
   },
   {
    "duration": 3,
    "start_time": "2022-09-28T00:17:10.552Z"
   },
   {
    "duration": 149,
    "start_time": "2022-09-28T00:17:10.813Z"
   },
   {
    "duration": 9,
    "start_time": "2022-09-28T00:17:11.004Z"
   },
   {
    "duration": 157,
    "start_time": "2022-09-28T00:17:11.793Z"
   },
   {
    "duration": 5,
    "start_time": "2022-09-28T00:17:12.005Z"
   },
   {
    "duration": 145,
    "start_time": "2022-09-28T00:17:12.625Z"
   },
   {
    "duration": 207,
    "start_time": "2022-09-28T00:17:13.636Z"
   },
   {
    "duration": 5,
    "start_time": "2022-09-28T00:17:13.845Z"
   },
   {
    "duration": 125,
    "start_time": "2022-09-28T00:17:16.069Z"
   },
   {
    "duration": 5,
    "start_time": "2022-09-28T00:17:16.463Z"
   },
   {
    "duration": 127,
    "start_time": "2022-09-28T00:17:17.209Z"
   },
   {
    "duration": 5,
    "start_time": "2022-09-28T00:17:17.571Z"
   },
   {
    "duration": 121,
    "start_time": "2022-09-28T00:17:18.232Z"
   },
   {
    "duration": 6,
    "start_time": "2022-09-28T00:17:18.459Z"
   },
   {
    "duration": 120,
    "start_time": "2022-09-28T00:17:19.095Z"
   },
   {
    "duration": 4,
    "start_time": "2022-09-28T00:17:19.287Z"
   },
   {
    "duration": 121,
    "start_time": "2022-09-28T00:17:19.874Z"
   },
   {
    "duration": 6,
    "start_time": "2022-09-28T00:17:20.094Z"
   },
   {
    "duration": 125,
    "start_time": "2022-09-28T00:17:20.697Z"
   },
   {
    "duration": 4,
    "start_time": "2022-09-28T00:17:23.159Z"
   },
   {
    "duration": 13,
    "start_time": "2022-09-28T00:17:23.355Z"
   },
   {
    "duration": 7,
    "start_time": "2022-09-28T00:17:24.202Z"
   },
   {
    "duration": 1472,
    "start_time": "2022-09-28T00:17:25.176Z"
   },
   {
    "duration": 5,
    "start_time": "2022-09-28T00:17:29.207Z"
   },
   {
    "duration": 11323,
    "start_time": "2022-09-28T00:17:30.614Z"
   },
   {
    "duration": 2,
    "start_time": "2022-09-28T00:17:44.629Z"
   },
   {
    "duration": 45,
    "start_time": "2022-09-28T00:17:52.088Z"
   },
   {
    "duration": 3,
    "start_time": "2022-09-28T00:17:52.643Z"
   },
   {
    "duration": 33,
    "start_time": "2022-09-28T00:17:55.309Z"
   },
   {
    "duration": 4,
    "start_time": "2022-09-28T00:18:08.216Z"
   },
   {
    "duration": 10,
    "start_time": "2022-09-28T00:18:09.508Z"
   },
   {
    "duration": 4,
    "start_time": "2022-09-28T00:18:12.249Z"
   },
   {
    "duration": 13,
    "start_time": "2022-09-28T00:18:14.829Z"
   },
   {
    "duration": 20,
    "start_time": "2022-09-28T00:18:16.962Z"
   },
   {
    "duration": 22,
    "start_time": "2022-09-28T00:18:18.692Z"
   },
   {
    "duration": 4,
    "start_time": "2022-09-28T00:18:19.627Z"
   },
   {
    "duration": 3,
    "start_time": "2022-09-28T00:18:26.186Z"
   },
   {
    "duration": 3,
    "start_time": "2022-09-28T00:18:27.762Z"
   },
   {
    "duration": 5,
    "start_time": "2022-09-28T00:18:27.951Z"
   }
  ],
  "kernelspec": {
   "display_name": "Python 3 (ipykernel)",
   "language": "python",
   "name": "python3"
  },
  "language_info": {
   "codemirror_mode": {
    "name": "ipython",
    "version": 3
   },
   "file_extension": ".py",
   "mimetype": "text/x-python",
   "name": "python",
   "nbconvert_exporter": "python",
   "pygments_lexer": "ipython3",
   "version": "3.9.5"
  },
  "toc": {
   "base_numbering": 1,
   "nav_menu": {},
   "number_sections": true,
   "sideBar": true,
   "skip_h1_title": true,
   "title_cell": "Contents",
   "title_sidebar": "Contents",
   "toc_cell": true,
   "toc_position": {
    "height": "calc(100% - 180px)",
    "left": "10px",
    "top": "150px",
    "width": "247px"
   },
   "toc_section_display": true,
   "toc_window_display": true
  }
 },
 "nbformat": 4,
 "nbformat_minor": 5
}
